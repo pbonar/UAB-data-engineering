{
  "cells": [
    {
      "cell_type": "code",
      "execution_count": 1,
      "metadata": {
        "id": "oHEuySp1UfEn"
      },
      "outputs": [],
      "source": [
        "%config IPCompleter.greedy=True"
      ]
    },
    {
      "cell_type": "markdown",
      "metadata": {
        "id": "VnSPowHiUfEq"
      },
      "source": [
        "# Air Quality Project"
      ]
    },
    {
      "cell_type": "markdown",
      "metadata": {
        "id": "g34cFiD2UfEs"
      },
      "source": [
        "We will be working with air quality measurements that are being collected continously from sensors deployed around the world. All the data are collected by Open Air Quality and made open. You can see more information here:\n",
        "\n",
        "https://openaq.org/\n",
        "\n",
        "There is an online API that allow you to probe data directly, but for this practical we will work with offline data that we have already downloaded beforehand. At the Appendix at the end of the notebook you can see an example of how you can use the API to retrieve fresh data directly from the server.\n",
        "\n",
        "We will use pandas and matplotlib to deal with data and do useful visualisations."
      ]
    },
    {
      "cell_type": "code",
      "execution_count": 2,
      "metadata": {
        "id": "3SpGMQx4UfEt"
      },
      "outputs": [],
      "source": [
        "import pandas as pd\n",
        "import matplotlib.pyplot as plt"
      ]
    },
    {
      "cell_type": "markdown",
      "metadata": {
        "id": "1O2Dl3PKUfEu"
      },
      "source": [
        "## Cities"
      ]
    },
    {
      "cell_type": "markdown",
      "metadata": {
        "id": "XRYSuQCTUfEu"
      },
      "source": [
        "Our data comes from sensors that are located in different cities in the world. The latest information about the cities that participate in the programe can be retrieved using the online API (see appendix for the code).\n",
        "\n",
        "In the cities.csv file you can find an saved version of the server's response retrieved in January 2021. We will use pandas to open this file into a pandas frame. At the time of opening, we will also specify that we want to use the first column as the index column."
      ]
    },
    {
      "cell_type": "code",
      "execution_count": 3,
      "metadata": {
        "id": "nHFdWDQ7UfEv"
      },
      "outputs": [],
      "source": [
        "cities = pd.read_csv(\"cities.csv\", index_col = 0)"
      ]
    },
    {
      "cell_type": "markdown",
      "metadata": {
        "id": "wMzBOUivUfEv"
      },
      "source": [
        "Let's first check a summary of the contents of our frame, and display the first few lines to get an idea of what is in our frame"
      ]
    },
    {
      "cell_type": "code",
      "execution_count": 4,
      "metadata": {
        "id": "rz3D7gOsUfEw",
        "outputId": "57e8d6e2-9b4a-4b2c-82f1-9709373fa6d4"
      },
      "outputs": [
        {
          "name": "stdout",
          "output_type": "stream",
          "text": [
            "<class 'pandas.core.frame.DataFrame'>\n",
            "Index: 3299 entries, 0 to 3298\n",
            "Data columns (total 5 columns):\n",
            " #   Column     Non-Null Count  Dtype \n",
            "---  ------     --------------  ----- \n",
            " 0   country    3299 non-null   object\n",
            " 1   name       3260 non-null   object\n",
            " 2   city       3260 non-null   object\n",
            " 3   count      3299 non-null   int64 \n",
            " 4   locations  3299 non-null   int64 \n",
            "dtypes: int64(2), object(3)\n",
            "memory usage: 154.6+ KB\n"
          ]
        }
      ],
      "source": [
        "cities.info()"
      ]
    },
    {
      "cell_type": "code",
      "execution_count": 5,
      "metadata": {
        "id": "QCBaI2OXUfEx",
        "outputId": "1f2a6d1c-e94f-409e-a46b-4a45b18c5d48"
      },
      "outputs": [
        {
          "data": {
            "text/html": [
              "<div>\n",
              "<style scoped>\n",
              "    .dataframe tbody tr th:only-of-type {\n",
              "        vertical-align: middle;\n",
              "    }\n",
              "\n",
              "    .dataframe tbody tr th {\n",
              "        vertical-align: top;\n",
              "    }\n",
              "\n",
              "    .dataframe thead th {\n",
              "        text-align: right;\n",
              "    }\n",
              "</style>\n",
              "<table border=\"1\" class=\"dataframe\">\n",
              "  <thead>\n",
              "    <tr style=\"text-align: right;\">\n",
              "      <th></th>\n",
              "      <th>country</th>\n",
              "      <th>name</th>\n",
              "      <th>city</th>\n",
              "      <th>count</th>\n",
              "      <th>locations</th>\n",
              "    </tr>\n",
              "  </thead>\n",
              "  <tbody>\n",
              "    <tr>\n",
              "      <th>0</th>\n",
              "      <td>AD</td>\n",
              "      <td>Escaldes-Engordany</td>\n",
              "      <td>Escaldes-Engordany</td>\n",
              "      <td>210321</td>\n",
              "      <td>2</td>\n",
              "    </tr>\n",
              "    <tr>\n",
              "      <th>1</th>\n",
              "      <td>AD</td>\n",
              "      <td>unused</td>\n",
              "      <td>unused</td>\n",
              "      <td>16301</td>\n",
              "      <td>1</td>\n",
              "    </tr>\n",
              "    <tr>\n",
              "      <th>2</th>\n",
              "      <td>AE</td>\n",
              "      <td>Abu Dhabi</td>\n",
              "      <td>Abu Dhabi</td>\n",
              "      <td>480917</td>\n",
              "      <td>1</td>\n",
              "    </tr>\n",
              "    <tr>\n",
              "      <th>3</th>\n",
              "      <td>AE</td>\n",
              "      <td>Dubai</td>\n",
              "      <td>Dubai</td>\n",
              "      <td>474835</td>\n",
              "      <td>1</td>\n",
              "    </tr>\n",
              "    <tr>\n",
              "      <th>4</th>\n",
              "      <td>AE</td>\n",
              "      <td>NaN</td>\n",
              "      <td>NaN</td>\n",
              "      <td>51901</td>\n",
              "      <td>2</td>\n",
              "    </tr>\n",
              "  </tbody>\n",
              "</table>\n",
              "</div>"
            ],
            "text/plain": [
              "  country                name                city   count  locations\n",
              "0      AD  Escaldes-Engordany  Escaldes-Engordany  210321          2\n",
              "1      AD              unused              unused   16301          1\n",
              "2      AE           Abu Dhabi           Abu Dhabi  480917          1\n",
              "3      AE               Dubai               Dubai  474835          1\n",
              "4      AE                 NaN                 NaN   51901          2"
            ]
          },
          "execution_count": 5,
          "metadata": {},
          "output_type": "execute_result"
        }
      ],
      "source": [
        "cities.head()"
      ]
    },
    {
      "cell_type": "markdown",
      "metadata": {
        "id": "kI0sda0XUfEy"
      },
      "source": [
        "It seems like we have 3,299 entries that correspond to different cities in the world. Some of them seem to miss the `name` and `city` information."
      ]
    },
    {
      "cell_type": "markdown",
      "metadata": {
        "id": "YnzHe3xhUfEy"
      },
      "source": [
        "<font color=\"blue\">**Exercise 1:** Display the first ten of the rows that have a null value in the name column</font>"
      ]
    },
    {
      "cell_type": "code",
      "execution_count": 45,
      "metadata": {
        "id": "dcHBmkOQUfEz",
        "outputId": "20011353-2a85-4a34-b576-a7b9a0c7af26"
      },
      "outputs": [
        {
          "name": "stdout",
          "output_type": "stream",
          "text": [
            "    country name city   count  locations\n",
            "4        AE  NaN  NaN   51901          2\n",
            "6        AF  NaN  NaN    8115          1\n",
            "7        AG  NaN  NaN       1          1\n",
            "108      BA  NaN  NaN   17428          1\n",
            "128      BG  NaN  NaN    8968          1\n",
            "146      BK  NaN  NaN   15360          1\n",
            "147      BM  NaN  NaN   15203          1\n",
            "190      CA  NaN  NaN  664744         17\n",
            "199      CD  NaN  NaN       3          1\n",
            "200      CE  NaN  NaN    8153          1\n"
          ]
        }
      ],
      "source": [
        "# Your Code here\n",
        "top_10_no_name_cities = cities[cities[\"name\"].isnull()].head(10)\n",
        "print(top_10_no_name_cities)"
      ]
    },
    {
      "cell_type": "markdown",
      "metadata": {
        "id": "E-Moo5N1UfEz"
      },
      "source": [
        "The number of measurements (`count`) and the number of sensor locations (`locations`) of each city seem to vary a lot. Let's ask pandas to descibe us some key aspects of these columns:"
      ]
    },
    {
      "cell_type": "code",
      "execution_count": 46,
      "metadata": {
        "id": "dKaEX7sfUfEz",
        "outputId": "adf74b0a-a1e5-4d56-cd5d-b071262aacc9"
      },
      "outputs": [
        {
          "data": {
            "text/html": [
              "<div>\n",
              "<style scoped>\n",
              "    .dataframe tbody tr th:only-of-type {\n",
              "        vertical-align: middle;\n",
              "    }\n",
              "\n",
              "    .dataframe tbody tr th {\n",
              "        vertical-align: top;\n",
              "    }\n",
              "\n",
              "    .dataframe thead th {\n",
              "        text-align: right;\n",
              "    }\n",
              "</style>\n",
              "<table border=\"1\" class=\"dataframe\">\n",
              "  <thead>\n",
              "    <tr style=\"text-align: right;\">\n",
              "      <th></th>\n",
              "      <th>count</th>\n",
              "      <th>locations</th>\n",
              "    </tr>\n",
              "  </thead>\n",
              "  <tbody>\n",
              "    <tr>\n",
              "      <th>count</th>\n",
              "      <td>3.299000e+03</td>\n",
              "      <td>3299.000000</td>\n",
              "    </tr>\n",
              "    <tr>\n",
              "      <th>mean</th>\n",
              "      <td>2.811092e+05</td>\n",
              "      <td>4.722643</td>\n",
              "    </tr>\n",
              "    <tr>\n",
              "      <th>std</th>\n",
              "      <td>9.627019e+05</td>\n",
              "      <td>12.565284</td>\n",
              "    </tr>\n",
              "    <tr>\n",
              "      <th>min</th>\n",
              "      <td>1.000000e+00</td>\n",
              "      <td>1.000000</td>\n",
              "    </tr>\n",
              "    <tr>\n",
              "      <th>25%</th>\n",
              "      <td>3.276800e+04</td>\n",
              "      <td>1.000000</td>\n",
              "    </tr>\n",
              "    <tr>\n",
              "      <th>50%</th>\n",
              "      <td>9.983300e+04</td>\n",
              "      <td>2.000000</td>\n",
              "    </tr>\n",
              "    <tr>\n",
              "      <th>75%</th>\n",
              "      <td>2.846910e+05</td>\n",
              "      <td>4.000000</td>\n",
              "    </tr>\n",
              "    <tr>\n",
              "      <th>max</th>\n",
              "      <td>1.955096e+07</td>\n",
              "      <td>174.000000</td>\n",
              "    </tr>\n",
              "  </tbody>\n",
              "</table>\n",
              "</div>"
            ],
            "text/plain": [
              "              count    locations\n",
              "count  3.299000e+03  3299.000000\n",
              "mean   2.811092e+05     4.722643\n",
              "std    9.627019e+05    12.565284\n",
              "min    1.000000e+00     1.000000\n",
              "25%    3.276800e+04     1.000000\n",
              "50%    9.983300e+04     2.000000\n",
              "75%    2.846910e+05     4.000000\n",
              "max    1.955096e+07   174.000000"
            ]
          },
          "execution_count": 46,
          "metadata": {},
          "output_type": "execute_result"
        }
      ],
      "source": [
        "cities[[\"count\", \"locations\"]].describe()"
      ]
    },
    {
      "cell_type": "markdown",
      "metadata": {
        "id": "9FDkggN3UfE0"
      },
      "source": [
        "Note that if we call `describe()` on the whole dataframe, it will give us the same information. This is because this function only operates on numerical columns, and `count` and `locations` are the only two numerical columns here (check the info that we printed out before)."
      ]
    },
    {
      "cell_type": "code",
      "execution_count": 8,
      "metadata": {
        "id": "7myfWLvzUfE0",
        "outputId": "15b1600f-9968-4d32-d1bb-b4636ded3bc4"
      },
      "outputs": [
        {
          "data": {
            "text/html": [
              "<div>\n",
              "<style scoped>\n",
              "    .dataframe tbody tr th:only-of-type {\n",
              "        vertical-align: middle;\n",
              "    }\n",
              "\n",
              "    .dataframe tbody tr th {\n",
              "        vertical-align: top;\n",
              "    }\n",
              "\n",
              "    .dataframe thead th {\n",
              "        text-align: right;\n",
              "    }\n",
              "</style>\n",
              "<table border=\"1\" class=\"dataframe\">\n",
              "  <thead>\n",
              "    <tr style=\"text-align: right;\">\n",
              "      <th></th>\n",
              "      <th>count</th>\n",
              "      <th>locations</th>\n",
              "    </tr>\n",
              "  </thead>\n",
              "  <tbody>\n",
              "    <tr>\n",
              "      <th>count</th>\n",
              "      <td>3.299000e+03</td>\n",
              "      <td>3299.000000</td>\n",
              "    </tr>\n",
              "    <tr>\n",
              "      <th>mean</th>\n",
              "      <td>2.811092e+05</td>\n",
              "      <td>4.722643</td>\n",
              "    </tr>\n",
              "    <tr>\n",
              "      <th>std</th>\n",
              "      <td>9.627019e+05</td>\n",
              "      <td>12.565284</td>\n",
              "    </tr>\n",
              "    <tr>\n",
              "      <th>min</th>\n",
              "      <td>1.000000e+00</td>\n",
              "      <td>1.000000</td>\n",
              "    </tr>\n",
              "    <tr>\n",
              "      <th>25%</th>\n",
              "      <td>3.276800e+04</td>\n",
              "      <td>1.000000</td>\n",
              "    </tr>\n",
              "    <tr>\n",
              "      <th>50%</th>\n",
              "      <td>9.983300e+04</td>\n",
              "      <td>2.000000</td>\n",
              "    </tr>\n",
              "    <tr>\n",
              "      <th>75%</th>\n",
              "      <td>2.846910e+05</td>\n",
              "      <td>4.000000</td>\n",
              "    </tr>\n",
              "    <tr>\n",
              "      <th>max</th>\n",
              "      <td>1.955096e+07</td>\n",
              "      <td>174.000000</td>\n",
              "    </tr>\n",
              "  </tbody>\n",
              "</table>\n",
              "</div>"
            ],
            "text/plain": [
              "              count    locations\n",
              "count  3.299000e+03  3299.000000\n",
              "mean   2.811092e+05     4.722643\n",
              "std    9.627019e+05    12.565284\n",
              "min    1.000000e+00     1.000000\n",
              "25%    3.276800e+04     1.000000\n",
              "50%    9.983300e+04     2.000000\n",
              "75%    2.846910e+05     4.000000\n",
              "max    1.955096e+07   174.000000"
            ]
          },
          "execution_count": 8,
          "metadata": {},
          "output_type": "execute_result"
        }
      ],
      "source": [
        "cities.describe()"
      ]
    },
    {
      "cell_type": "markdown",
      "metadata": {
        "id": "-EoJ6bmqUfE1"
      },
      "source": [
        "We will focus only on the cities from Spain, we can filter these cities by checking for the entry `\"ES\"` in the column `\"country\"`"
      ]
    },
    {
      "cell_type": "code",
      "execution_count": 9,
      "metadata": {
        "id": "2o20TsDqUfE1",
        "outputId": "de913a2d-a93c-4d14-ba04-215a1592c177"
      },
      "outputs": [
        {
          "data": {
            "text/html": [
              "<div>\n",
              "<style scoped>\n",
              "    .dataframe tbody tr th:only-of-type {\n",
              "        vertical-align: middle;\n",
              "    }\n",
              "\n",
              "    .dataframe tbody tr th {\n",
              "        vertical-align: top;\n",
              "    }\n",
              "\n",
              "    .dataframe thead th {\n",
              "        text-align: right;\n",
              "    }\n",
              "</style>\n",
              "<table border=\"1\" class=\"dataframe\">\n",
              "  <thead>\n",
              "    <tr style=\"text-align: right;\">\n",
              "      <th></th>\n",
              "      <th>country</th>\n",
              "      <th>name</th>\n",
              "      <th>city</th>\n",
              "      <th>count</th>\n",
              "      <th>locations</th>\n",
              "    </tr>\n",
              "  </thead>\n",
              "  <tbody>\n",
              "    <tr>\n",
              "      <th>882</th>\n",
              "      <td>ES</td>\n",
              "      <td>A Coruña</td>\n",
              "      <td>A Coruña</td>\n",
              "      <td>344097</td>\n",
              "      <td>5</td>\n",
              "    </tr>\n",
              "    <tr>\n",
              "      <th>883</th>\n",
              "      <td>ES</td>\n",
              "      <td>Albacete</td>\n",
              "      <td>Albacete</td>\n",
              "      <td>86387</td>\n",
              "      <td>1</td>\n",
              "    </tr>\n",
              "    <tr>\n",
              "      <th>884</th>\n",
              "      <td>ES</td>\n",
              "      <td>Alcala De Guadaira</td>\n",
              "      <td>Alcala De Guadaira</td>\n",
              "      <td>55949</td>\n",
              "      <td>1</td>\n",
              "    </tr>\n",
              "    <tr>\n",
              "      <th>885</th>\n",
              "      <td>ES</td>\n",
              "      <td>Algeciras</td>\n",
              "      <td>Algeciras</td>\n",
              "      <td>111195</td>\n",
              "      <td>2</td>\n",
              "    </tr>\n",
              "    <tr>\n",
              "      <th>886</th>\n",
              "      <td>ES</td>\n",
              "      <td>Alicante/Alacant</td>\n",
              "      <td>Alicante/Alacant</td>\n",
              "      <td>565573</td>\n",
              "      <td>10</td>\n",
              "    </tr>\n",
              "    <tr>\n",
              "      <th>...</th>\n",
              "      <td>...</td>\n",
              "      <td>...</td>\n",
              "      <td>...</td>\n",
              "      <td>...</td>\n",
              "      <td>...</td>\n",
              "    </tr>\n",
              "    <tr>\n",
              "      <th>992</th>\n",
              "      <td>ES</td>\n",
              "      <td>Valladolid</td>\n",
              "      <td>Valladolid</td>\n",
              "      <td>307720</td>\n",
              "      <td>9</td>\n",
              "    </tr>\n",
              "    <tr>\n",
              "      <th>993</th>\n",
              "      <td>ES</td>\n",
              "      <td>Villaharta</td>\n",
              "      <td>Villaharta</td>\n",
              "      <td>56817</td>\n",
              "      <td>1</td>\n",
              "    </tr>\n",
              "    <tr>\n",
              "      <th>994</th>\n",
              "      <td>ES</td>\n",
              "      <td>Villanueva Del Arzobispo</td>\n",
              "      <td>Villanueva Del Arzobispo</td>\n",
              "      <td>29446</td>\n",
              "      <td>1</td>\n",
              "    </tr>\n",
              "    <tr>\n",
              "      <th>995</th>\n",
              "      <td>ES</td>\n",
              "      <td>Zamora</td>\n",
              "      <td>Zamora</td>\n",
              "      <td>59197</td>\n",
              "      <td>1</td>\n",
              "    </tr>\n",
              "    <tr>\n",
              "      <th>996</th>\n",
              "      <td>ES</td>\n",
              "      <td>Zaragoza</td>\n",
              "      <td>Zaragoza</td>\n",
              "      <td>529603</td>\n",
              "      <td>10</td>\n",
              "    </tr>\n",
              "  </tbody>\n",
              "</table>\n",
              "<p>115 rows × 5 columns</p>\n",
              "</div>"
            ],
            "text/plain": [
              "    country                      name                      city   count  \\\n",
              "882      ES                  A Coruña                  A Coruña  344097   \n",
              "883      ES                  Albacete                  Albacete   86387   \n",
              "884      ES        Alcala De Guadaira        Alcala De Guadaira   55949   \n",
              "885      ES                 Algeciras                 Algeciras  111195   \n",
              "886      ES          Alicante/Alacant          Alicante/Alacant  565573   \n",
              "..      ...                       ...                       ...     ...   \n",
              "992      ES                Valladolid                Valladolid  307720   \n",
              "993      ES                Villaharta                Villaharta   56817   \n",
              "994      ES  Villanueva Del Arzobispo  Villanueva Del Arzobispo   29446   \n",
              "995      ES                    Zamora                    Zamora   59197   \n",
              "996      ES                  Zaragoza                  Zaragoza  529603   \n",
              "\n",
              "     locations  \n",
              "882          5  \n",
              "883          1  \n",
              "884          1  \n",
              "885          2  \n",
              "886         10  \n",
              "..         ...  \n",
              "992          9  \n",
              "993          1  \n",
              "994          1  \n",
              "995          1  \n",
              "996         10  \n",
              "\n",
              "[115 rows x 5 columns]"
            ]
          },
          "execution_count": 9,
          "metadata": {},
          "output_type": "execute_result"
        }
      ],
      "source": [
        "cities[cities[\"country\"] == \"ES\"]"
      ]
    },
    {
      "cell_type": "markdown",
      "metadata": {
        "id": "6088zhMeUfE1"
      },
      "source": [
        "<font color=\"blue\">**Exercise 2:** These are too many cities, let's look only for `\"Zaragoza\"` (in Spain).</font>\n",
        "\n",
        ">*hint: use `&` to combine boolean statements*"
      ]
    },
    {
      "cell_type": "code",
      "execution_count": 49,
      "metadata": {
        "id": "YGLSIXWvUfE2"
      },
      "outputs": [
        {
          "data": {
            "text/html": [
              "<div>\n",
              "<style scoped>\n",
              "    .dataframe tbody tr th:only-of-type {\n",
              "        vertical-align: middle;\n",
              "    }\n",
              "\n",
              "    .dataframe tbody tr th {\n",
              "        vertical-align: top;\n",
              "    }\n",
              "\n",
              "    .dataframe thead th {\n",
              "        text-align: right;\n",
              "    }\n",
              "</style>\n",
              "<table border=\"1\" class=\"dataframe\">\n",
              "  <thead>\n",
              "    <tr style=\"text-align: right;\">\n",
              "      <th></th>\n",
              "      <th>country</th>\n",
              "      <th>name</th>\n",
              "      <th>city</th>\n",
              "      <th>count</th>\n",
              "      <th>locations</th>\n",
              "    </tr>\n",
              "  </thead>\n",
              "  <tbody>\n",
              "    <tr>\n",
              "      <th>996</th>\n",
              "      <td>ES</td>\n",
              "      <td>Zaragoza</td>\n",
              "      <td>Zaragoza</td>\n",
              "      <td>529603</td>\n",
              "      <td>10</td>\n",
              "    </tr>\n",
              "  </tbody>\n",
              "</table>\n",
              "</div>"
            ],
            "text/plain": [
              "    country      name      city   count  locations\n",
              "996      ES  Zaragoza  Zaragoza  529603         10"
            ]
          },
          "execution_count": 49,
          "metadata": {},
          "output_type": "execute_result"
        }
      ],
      "source": [
        "# Your code here\n",
        "cities[(cities[\"name\"] == \"Zaragoza\") & (cities[\"country\"] == \"ES\")]"
      ]
    },
    {
      "cell_type": "markdown",
      "metadata": {
        "id": "gVFe2uHHUfE2"
      },
      "source": [
        "Finally, let's see what is available for Barcelona"
      ]
    },
    {
      "cell_type": "code",
      "execution_count": 11,
      "metadata": {
        "id": "UW6OxZNYUfE2",
        "outputId": "a2b6f760-c8f1-4e06-e083-7cf7d9495371"
      },
      "outputs": [
        {
          "data": {
            "text/html": [
              "<div>\n",
              "<style scoped>\n",
              "    .dataframe tbody tr th:only-of-type {\n",
              "        vertical-align: middle;\n",
              "    }\n",
              "\n",
              "    .dataframe tbody tr th {\n",
              "        vertical-align: top;\n",
              "    }\n",
              "\n",
              "    .dataframe thead th {\n",
              "        text-align: right;\n",
              "    }\n",
              "</style>\n",
              "<table border=\"1\" class=\"dataframe\">\n",
              "  <thead>\n",
              "    <tr style=\"text-align: right;\">\n",
              "      <th></th>\n",
              "      <th>country</th>\n",
              "      <th>name</th>\n",
              "      <th>city</th>\n",
              "      <th>count</th>\n",
              "      <th>locations</th>\n",
              "    </tr>\n",
              "  </thead>\n",
              "  <tbody>\n",
              "    <tr>\n",
              "      <th>899</th>\n",
              "      <td>ES</td>\n",
              "      <td>Barcelona</td>\n",
              "      <td>Barcelona</td>\n",
              "      <td>1538814</td>\n",
              "      <td>45</td>\n",
              "    </tr>\n",
              "  </tbody>\n",
              "</table>\n",
              "</div>"
            ],
            "text/plain": [
              "    country       name       city    count  locations\n",
              "899      ES  Barcelona  Barcelona  1538814         45"
            ]
          },
          "execution_count": 11,
          "metadata": {},
          "output_type": "execute_result"
        }
      ],
      "source": [
        "cities[cities[\"name\"] == \"Barcelona\"]"
      ]
    },
    {
      "cell_type": "markdown",
      "metadata": {
        "id": "t0F15s6fUfE3"
      },
      "source": [
        "There are 45 sensor locations in the Barcelona area. The next step would be to see what information is available for these 45 sensors."
      ]
    },
    {
      "cell_type": "markdown",
      "metadata": {
        "id": "7lQoK74gUfE3"
      },
      "source": [
        "## Sensor Locations"
      ]
    },
    {
      "cell_type": "markdown",
      "metadata": {
        "id": "HHfsZ_M4UfE3"
      },
      "source": [
        "We can probe for information about the locations of a specific city using the online API (see appendix for the code). Here we will be using data retrieved in January 2021. In the `BCN_Locations.csv` file we have saved information about all locations available in the Barcelona area."
      ]
    },
    {
      "cell_type": "code",
      "execution_count": 50,
      "metadata": {
        "id": "In2A3HtIUfE3"
      },
      "outputs": [],
      "source": [
        "BCN_Locations = pd.read_csv(\"BCN_Locations.csv\", index_col = 0)"
      ]
    },
    {
      "cell_type": "code",
      "execution_count": 51,
      "metadata": {
        "id": "K3QvqcAqUfE3",
        "outputId": "d7d76268-e3a6-4d18-ea3e-7dac2f1a68f3"
      },
      "outputs": [
        {
          "name": "stdout",
          "output_type": "stream",
          "text": [
            "<class 'pandas.core.frame.DataFrame'>\n",
            "Index: 45 entries, 0 to 44\n",
            "Data columns (total 17 columns):\n",
            " #   Column                 Non-Null Count  Dtype  \n",
            "---  ------                 --------------  -----  \n",
            " 0   id                     45 non-null     object \n",
            " 1   country                45 non-null     object \n",
            " 2   city                   45 non-null     object \n",
            " 3   cities                 45 non-null     object \n",
            " 4   location               45 non-null     object \n",
            " 5   locations              45 non-null     object \n",
            " 6   sourceName             45 non-null     object \n",
            " 7   sourceNames            45 non-null     object \n",
            " 8   sourceType             45 non-null     object \n",
            " 9   sourceTypes            45 non-null     object \n",
            " 10  firstUpdated           45 non-null     object \n",
            " 11  lastUpdated            45 non-null     object \n",
            " 12  parameters             45 non-null     object \n",
            " 13  countsByMeasurement    45 non-null     object \n",
            " 14  count                  45 non-null     int64  \n",
            " 15  coordinates.longitude  45 non-null     float64\n",
            " 16  coordinates.latitude   45 non-null     float64\n",
            "dtypes: float64(2), int64(1), object(14)\n",
            "memory usage: 6.3+ KB\n"
          ]
        }
      ],
      "source": [
        "BCN_Locations.info()"
      ]
    },
    {
      "cell_type": "code",
      "execution_count": 53,
      "metadata": {
        "id": "7oAzRXsKUfE4",
        "outputId": "65f61e31-a434-4ed2-c26f-2da85ae2d23b"
      },
      "outputs": [
        {
          "data": {
            "text/html": [
              "<div>\n",
              "<style scoped>\n",
              "    .dataframe tbody tr th:only-of-type {\n",
              "        vertical-align: middle;\n",
              "    }\n",
              "\n",
              "    .dataframe tbody tr th {\n",
              "        vertical-align: top;\n",
              "    }\n",
              "\n",
              "    .dataframe thead th {\n",
              "        text-align: right;\n",
              "    }\n",
              "</style>\n",
              "<table border=\"1\" class=\"dataframe\">\n",
              "  <thead>\n",
              "    <tr style=\"text-align: right;\">\n",
              "      <th></th>\n",
              "      <th>id</th>\n",
              "      <th>country</th>\n",
              "      <th>city</th>\n",
              "      <th>cities</th>\n",
              "      <th>location</th>\n",
              "      <th>locations</th>\n",
              "      <th>sourceName</th>\n",
              "      <th>sourceNames</th>\n",
              "      <th>sourceType</th>\n",
              "      <th>sourceTypes</th>\n",
              "      <th>firstUpdated</th>\n",
              "      <th>lastUpdated</th>\n",
              "      <th>parameters</th>\n",
              "      <th>countsByMeasurement</th>\n",
              "      <th>count</th>\n",
              "      <th>coordinates.longitude</th>\n",
              "      <th>coordinates.latitude</th>\n",
              "    </tr>\n",
              "  </thead>\n",
              "  <tbody>\n",
              "    <tr>\n",
              "      <th>0</th>\n",
              "      <td>ES-53</td>\n",
              "      <td>ES</td>\n",
              "      <td>Barcelona</td>\n",
              "      <td>['CCAA Cataluña', 'CCAA Catalu�a', 'Barcelona']</td>\n",
              "      <td>ES0584A</td>\n",
              "      <td>['Montcada i Reixac (pl. de Lluís Companys)', ...</td>\n",
              "      <td>EEA Spain</td>\n",
              "      <td>['EEA Spain']</td>\n",
              "      <td>government</td>\n",
              "      <td>['government']</td>\n",
              "      <td>2016-11-17 23:00:00+00:00</td>\n",
              "      <td>2021-01-30 06:00:00+00:00</td>\n",
              "      <td>['co', 'no2', 'o3', 'so2']</td>\n",
              "      <td>[{'parameter': 'co', 'count': 18165}, {'parame...</td>\n",
              "      <td>67153</td>\n",
              "      <td>2.18830</td>\n",
              "      <td>41.48202</td>\n",
              "    </tr>\n",
              "    <tr>\n",
              "      <th>1</th>\n",
              "      <td>ES-285</td>\n",
              "      <td>ES</td>\n",
              "      <td>Barcelona</td>\n",
              "      <td>['CCAA Cataluña', 'CCAA Catalu�a', 'Barcelona']</td>\n",
              "      <td>ES0691A</td>\n",
              "      <td>['Barcelona (el Poblenou)', 'ES0691A']</td>\n",
              "      <td>EEA Spain</td>\n",
              "      <td>['EEA Spain']</td>\n",
              "      <td>government</td>\n",
              "      <td>['government']</td>\n",
              "      <td>2016-11-18 03:00:00+00:00</td>\n",
              "      <td>2021-01-30 06:00:00+00:00</td>\n",
              "      <td>['no2']</td>\n",
              "      <td>[{'parameter': 'no2', 'count': 17549}]</td>\n",
              "      <td>17549</td>\n",
              "      <td>2.20452</td>\n",
              "      <td>41.40388</td>\n",
              "    </tr>\n",
              "    <tr>\n",
              "      <th>2</th>\n",
              "      <td>ES-174</td>\n",
              "      <td>ES</td>\n",
              "      <td>Barcelona</td>\n",
              "      <td>['CCAA Cataluña', 'CCAA Catalu�a', 'Barcelona']</td>\n",
              "      <td>ES0692A</td>\n",
              "      <td>[\"l'Hospitalet de Llobregat (av. del Torrent G...</td>\n",
              "      <td>EEA Spain</td>\n",
              "      <td>['EEA Spain']</td>\n",
              "      <td>government</td>\n",
              "      <td>['government']</td>\n",
              "      <td>2016-11-17 23:00:00+00:00</td>\n",
              "      <td>2021-01-30 06:00:00+00:00</td>\n",
              "      <td>['no2', 'pm10']</td>\n",
              "      <td>[{'parameter': 'no2', 'count': 17821}, {'param...</td>\n",
              "      <td>29335</td>\n",
              "      <td>2.11497</td>\n",
              "      <td>41.37050</td>\n",
              "    </tr>\n",
              "    <tr>\n",
              "      <th>3</th>\n",
              "      <td>ES-58</td>\n",
              "      <td>ES</td>\n",
              "      <td>Barcelona</td>\n",
              "      <td>['CCAA Cataluña', 'CCAA Catalu�a', 'Barcelona']</td>\n",
              "      <td>ES0694A</td>\n",
              "      <td>['Sant Vicenç dels Horts (Ribot - Sant Miquel)...</td>\n",
              "      <td>EEA Spain</td>\n",
              "      <td>['EEA Spain']</td>\n",
              "      <td>government</td>\n",
              "      <td>['government']</td>\n",
              "      <td>2016-11-17 23:00:00+00:00</td>\n",
              "      <td>2021-01-30 06:00:00+00:00</td>\n",
              "      <td>['no2', 'o3', 'pm10', 'so2']</td>\n",
              "      <td>[{'parameter': 'no2', 'count': 17862}, {'param...</td>\n",
              "      <td>65104</td>\n",
              "      <td>2.00980</td>\n",
              "      <td>41.39216</td>\n",
              "    </tr>\n",
              "    <tr>\n",
              "      <th>4</th>\n",
              "      <td>ES-19</td>\n",
              "      <td>ES</td>\n",
              "      <td>Barcelona</td>\n",
              "      <td>['CCAA Cataluña', 'CCAA Catalu�a', 'Barcelona']</td>\n",
              "      <td>ES0971A</td>\n",
              "      <td>['Sant Andreu de la Barca (CEIP Josep Pla)', '...</td>\n",
              "      <td>EEA Spain</td>\n",
              "      <td>['EEA Spain']</td>\n",
              "      <td>government</td>\n",
              "      <td>['government']</td>\n",
              "      <td>2016-11-17 23:00:00+00:00</td>\n",
              "      <td>2021-01-30 06:00:00+00:00</td>\n",
              "      <td>['no2']</td>\n",
              "      <td>[{'parameter': 'no2', 'count': 17604}]</td>\n",
              "      <td>17604</td>\n",
              "      <td>1.97489</td>\n",
              "      <td>41.45077</td>\n",
              "    </tr>\n",
              "  </tbody>\n",
              "</table>\n",
              "</div>"
            ],
            "text/plain": [
              "       id country       city                                           cities  \\\n",
              "0   ES-53      ES  Barcelona  ['CCAA Cataluña', 'CCAA Catalu�a', 'Barcelona']   \n",
              "1  ES-285      ES  Barcelona  ['CCAA Cataluña', 'CCAA Catalu�a', 'Barcelona']   \n",
              "2  ES-174      ES  Barcelona  ['CCAA Cataluña', 'CCAA Catalu�a', 'Barcelona']   \n",
              "3   ES-58      ES  Barcelona  ['CCAA Cataluña', 'CCAA Catalu�a', 'Barcelona']   \n",
              "4   ES-19      ES  Barcelona  ['CCAA Cataluña', 'CCAA Catalu�a', 'Barcelona']   \n",
              "\n",
              "  location                                          locations sourceName  \\\n",
              "0  ES0584A  ['Montcada i Reixac (pl. de Lluís Companys)', ...  EEA Spain   \n",
              "1  ES0691A             ['Barcelona (el Poblenou)', 'ES0691A']  EEA Spain   \n",
              "2  ES0692A  [\"l'Hospitalet de Llobregat (av. del Torrent G...  EEA Spain   \n",
              "3  ES0694A  ['Sant Vicenç dels Horts (Ribot - Sant Miquel)...  EEA Spain   \n",
              "4  ES0971A  ['Sant Andreu de la Barca (CEIP Josep Pla)', '...  EEA Spain   \n",
              "\n",
              "     sourceNames  sourceType     sourceTypes               firstUpdated  \\\n",
              "0  ['EEA Spain']  government  ['government']  2016-11-17 23:00:00+00:00   \n",
              "1  ['EEA Spain']  government  ['government']  2016-11-18 03:00:00+00:00   \n",
              "2  ['EEA Spain']  government  ['government']  2016-11-17 23:00:00+00:00   \n",
              "3  ['EEA Spain']  government  ['government']  2016-11-17 23:00:00+00:00   \n",
              "4  ['EEA Spain']  government  ['government']  2016-11-17 23:00:00+00:00   \n",
              "\n",
              "                 lastUpdated                    parameters  \\\n",
              "0  2021-01-30 06:00:00+00:00    ['co', 'no2', 'o3', 'so2']   \n",
              "1  2021-01-30 06:00:00+00:00                       ['no2']   \n",
              "2  2021-01-30 06:00:00+00:00               ['no2', 'pm10']   \n",
              "3  2021-01-30 06:00:00+00:00  ['no2', 'o3', 'pm10', 'so2']   \n",
              "4  2021-01-30 06:00:00+00:00                       ['no2']   \n",
              "\n",
              "                                 countsByMeasurement  count  \\\n",
              "0  [{'parameter': 'co', 'count': 18165}, {'parame...  67153   \n",
              "1             [{'parameter': 'no2', 'count': 17549}]  17549   \n",
              "2  [{'parameter': 'no2', 'count': 17821}, {'param...  29335   \n",
              "3  [{'parameter': 'no2', 'count': 17862}, {'param...  65104   \n",
              "4             [{'parameter': 'no2', 'count': 17604}]  17604   \n",
              "\n",
              "   coordinates.longitude  coordinates.latitude  \n",
              "0                2.18830              41.48202  \n",
              "1                2.20452              41.40388  \n",
              "2                2.11497              41.37050  \n",
              "3                2.00980              41.39216  \n",
              "4                1.97489              41.45077  "
            ]
          },
          "execution_count": 53,
          "metadata": {},
          "output_type": "execute_result"
        }
      ],
      "source": [
        "BCN_Locations.head()"
      ]
    },
    {
      "cell_type": "markdown",
      "metadata": {
        "id": "UO1B0BZRUfE5"
      },
      "source": [
        "<font color=\"blue\">**Exercise 3:** The closest sensor locations to the UAB campus are the ones in Sant Cugat and in Sabadell. Their location codes are `ES1231A` and `ES1262A`. Can you retrieve these two entries from the frame?</font>"
      ]
    },
    {
      "cell_type": "code",
      "execution_count": null,
      "metadata": {
        "id": "B7-rRHi2UfE5"
      },
      "outputs": [
        {
          "data": {
            "text/html": [
              "<div>\n",
              "<style scoped>\n",
              "    .dataframe tbody tr th:only-of-type {\n",
              "        vertical-align: middle;\n",
              "    }\n",
              "\n",
              "    .dataframe tbody tr th {\n",
              "        vertical-align: top;\n",
              "    }\n",
              "\n",
              "    .dataframe thead th {\n",
              "        text-align: right;\n",
              "    }\n",
              "</style>\n",
              "<table border=\"1\" class=\"dataframe\">\n",
              "  <thead>\n",
              "    <tr style=\"text-align: right;\">\n",
              "      <th></th>\n",
              "      <th>id</th>\n",
              "      <th>country</th>\n",
              "      <th>city</th>\n",
              "      <th>cities</th>\n",
              "      <th>location</th>\n",
              "      <th>locations</th>\n",
              "      <th>sourceName</th>\n",
              "      <th>sourceNames</th>\n",
              "      <th>sourceType</th>\n",
              "      <th>sourceTypes</th>\n",
              "      <th>firstUpdated</th>\n",
              "      <th>lastUpdated</th>\n",
              "      <th>parameters</th>\n",
              "      <th>countsByMeasurement</th>\n",
              "      <th>count</th>\n",
              "      <th>coordinates.longitude</th>\n",
              "      <th>coordinates.latitude</th>\n",
              "    </tr>\n",
              "  </thead>\n",
              "  <tbody>\n",
              "    <tr>\n",
              "      <th>11</th>\n",
              "      <td>ES-111</td>\n",
              "      <td>ES</td>\n",
              "      <td>Barcelona</td>\n",
              "      <td>['CCAA Cataluña', 'CCAA Catalu�a', 'Barcelona']</td>\n",
              "      <td>ES1231A</td>\n",
              "      <td>['Sant Cugat del Vallès (parc de Sant Francesc...</td>\n",
              "      <td>EEA Spain</td>\n",
              "      <td>['EEA Spain']</td>\n",
              "      <td>government</td>\n",
              "      <td>['government']</td>\n",
              "      <td>2016-11-17 23:00:00+00:00</td>\n",
              "      <td>2021-01-30 06:00:00+00:00</td>\n",
              "      <td>['no2', 'o3']</td>\n",
              "      <td>[{'parameter': 'no2', 'count': 17500}, {'param...</td>\n",
              "      <td>34934</td>\n",
              "      <td>2.08898</td>\n",
              "      <td>41.47677</td>\n",
              "    </tr>\n",
              "    <tr>\n",
              "      <th>12</th>\n",
              "      <td>ES-116</td>\n",
              "      <td>ES</td>\n",
              "      <td>Barcelona</td>\n",
              "      <td>['CCAA Cataluña', 'CCAA Catalu�a', 'Barcelona']</td>\n",
              "      <td>ES1262A</td>\n",
              "      <td>['Sabadell (Gran Via)', 'ES1262A']</td>\n",
              "      <td>EEA Spain</td>\n",
              "      <td>['EEA Spain']</td>\n",
              "      <td>government</td>\n",
              "      <td>['government']</td>\n",
              "      <td>2016-11-17 23:00:00+00:00</td>\n",
              "      <td>2021-01-30 06:00:00+00:00</td>\n",
              "      <td>['no2', 'o3']</td>\n",
              "      <td>[{'parameter': 'no2', 'count': 17997}, {'param...</td>\n",
              "      <td>31404</td>\n",
              "      <td>2.10141</td>\n",
              "      <td>41.56118</td>\n",
              "    </tr>\n",
              "  </tbody>\n",
              "</table>\n",
              "</div>"
            ],
            "text/plain": [
              "        id country       city  \\\n",
              "11  ES-111      ES  Barcelona   \n",
              "12  ES-116      ES  Barcelona   \n",
              "\n",
              "                                             cities location  \\\n",
              "11  ['CCAA Cataluña', 'CCAA Catalu�a', 'Barcelona']  ES1231A   \n",
              "12  ['CCAA Cataluña', 'CCAA Catalu�a', 'Barcelona']  ES1262A   \n",
              "\n",
              "                                            locations sourceName  \\\n",
              "11  ['Sant Cugat del Vallès (parc de Sant Francesc...  EEA Spain   \n",
              "12                 ['Sabadell (Gran Via)', 'ES1262A']  EEA Spain   \n",
              "\n",
              "      sourceNames  sourceType     sourceTypes               firstUpdated  \\\n",
              "11  ['EEA Spain']  government  ['government']  2016-11-17 23:00:00+00:00   \n",
              "12  ['EEA Spain']  government  ['government']  2016-11-17 23:00:00+00:00   \n",
              "\n",
              "                  lastUpdated     parameters  \\\n",
              "11  2021-01-30 06:00:00+00:00  ['no2', 'o3']   \n",
              "12  2021-01-30 06:00:00+00:00  ['no2', 'o3']   \n",
              "\n",
              "                                  countsByMeasurement  count  \\\n",
              "11  [{'parameter': 'no2', 'count': 17500}, {'param...  34934   \n",
              "12  [{'parameter': 'no2', 'count': 17997}, {'param...  31404   \n",
              "\n",
              "    coordinates.longitude  coordinates.latitude  \n",
              "11                2.08898              41.47677  \n",
              "12                2.10141              41.56118  "
            ]
          },
          "execution_count": 55,
          "metadata": {},
          "output_type": "execute_result"
        }
      ],
      "source": [
        "#Your code here\n",
        "BCN_Locations[(BCN_Locations[\"location\"]== \"ES1231A\") | (BCN_Locations[\"location\"]== \"ES1262A\")]"
      ]
    },
    {
      "cell_type": "markdown",
      "metadata": {
        "id": "Ono6EiCZUfE5"
      },
      "source": [
        "<font color=\"blue\">**Exercise 4:** What air quality parameters do they monitor in the two selected locations? How many measurements are available in each location? Print out just the location code, and the columns `parameters` and `count`</font>"
      ]
    },
    {
      "cell_type": "code",
      "execution_count": 63,
      "metadata": {
        "id": "T1-9DTlPUfE5"
      },
      "outputs": [
        {
          "data": {
            "text/html": [
              "<div>\n",
              "<style scoped>\n",
              "    .dataframe tbody tr th:only-of-type {\n",
              "        vertical-align: middle;\n",
              "    }\n",
              "\n",
              "    .dataframe tbody tr th {\n",
              "        vertical-align: top;\n",
              "    }\n",
              "\n",
              "    .dataframe thead th {\n",
              "        text-align: right;\n",
              "    }\n",
              "</style>\n",
              "<table border=\"1\" class=\"dataframe\">\n",
              "  <thead>\n",
              "    <tr style=\"text-align: right;\">\n",
              "      <th></th>\n",
              "      <th>location</th>\n",
              "      <th>parameters</th>\n",
              "      <th>count</th>\n",
              "    </tr>\n",
              "  </thead>\n",
              "  <tbody>\n",
              "    <tr>\n",
              "      <th>11</th>\n",
              "      <td>ES1231A</td>\n",
              "      <td>['no2', 'o3']</td>\n",
              "      <td>34934</td>\n",
              "    </tr>\n",
              "    <tr>\n",
              "      <th>12</th>\n",
              "      <td>ES1262A</td>\n",
              "      <td>['no2', 'o3']</td>\n",
              "      <td>31404</td>\n",
              "    </tr>\n",
              "  </tbody>\n",
              "</table>\n",
              "</div>"
            ],
            "text/plain": [
              "   location     parameters  count\n",
              "11  ES1231A  ['no2', 'o3']  34934\n",
              "12  ES1262A  ['no2', 'o3']  31404"
            ]
          },
          "execution_count": 63,
          "metadata": {},
          "output_type": "execute_result"
        }
      ],
      "source": [
        "#Your code here\n",
        "BCN_Locations[(BCN_Locations[\"location\"]== \"ES1231A\") | (BCN_Locations[\"location\"]== \"ES1262A\")][[\"location\", \"parameters\", \"count\"]]"
      ]
    },
    {
      "cell_type": "markdown",
      "metadata": {
        "id": "W23svMaLUfE6"
      },
      "source": [
        "## Measurements"
      ]
    },
    {
      "cell_type": "markdown",
      "metadata": {
        "id": "y2sQnaTYUfE6"
      },
      "source": [
        "We are interested in measurements about NO2 in the area of Barcelona. We will ask for the latest 10,000 data points about these two specific parameters from any sensor located in Barcelona. See in the Appendix how to achieve this using the API, here we will be using previously retrieved results.\n",
        "\n",
        "We know that some of the columns are actually dates, so at the time of opening the CSV file we specify which columns should be parsed as dates. We ask for one of these columns to also be our index column."
      ]
    },
    {
      "cell_type": "code",
      "execution_count": 17,
      "metadata": {
        "id": "4xV1O3xSUfE6",
        "outputId": "f7ec69eb-3552-41f7-d5e9-f5a266b8a10f"
      },
      "outputs": [
        {
          "name": "stdout",
          "output_type": "stream",
          "text": [
            "<class 'pandas.core.frame.DataFrame'>\n",
            "DatetimeIndex: 10000 entries, 2021-01-30 20:00:00 to 2021-01-13 07:00:00\n",
            "Data columns (total 9 columns):\n",
            " #   Column                 Non-Null Count  Dtype              \n",
            "---  ------                 --------------  -----              \n",
            " 0   location               10000 non-null  object             \n",
            " 1   parameter              10000 non-null  object             \n",
            " 2   value                  10000 non-null  float64            \n",
            " 3   unit                   10000 non-null  object             \n",
            " 4   country                10000 non-null  object             \n",
            " 5   city                   10000 non-null  object             \n",
            " 6   date.utc               10000 non-null  datetime64[ns, UTC]\n",
            " 7   coordinates.latitude   10000 non-null  float64            \n",
            " 8   coordinates.longitude  10000 non-null  float64            \n",
            "dtypes: datetime64[ns, UTC](1), float64(3), object(5)\n",
            "memory usage: 781.2+ KB\n"
          ]
        }
      ],
      "source": [
        "# NO2 measurements from the BCN area\n",
        "BCN_MeasurementsNO2 = pd.read_csv(\"BCN_MeasurementsNO2.csv\", index_col = \"date.local\", parse_dates=[\"date.local\", \"date.utc\"])\n",
        "BCN_MeasurementsNO2.info()"
      ]
    },
    {
      "cell_type": "code",
      "execution_count": 18,
      "metadata": {
        "id": "K5a4OepFUfE6",
        "outputId": "88a76bc6-f9bc-4bec-9b50-4135306efd75"
      },
      "outputs": [
        {
          "data": {
            "text/html": [
              "<div>\n",
              "<style scoped>\n",
              "    .dataframe tbody tr th:only-of-type {\n",
              "        vertical-align: middle;\n",
              "    }\n",
              "\n",
              "    .dataframe tbody tr th {\n",
              "        vertical-align: top;\n",
              "    }\n",
              "\n",
              "    .dataframe thead th {\n",
              "        text-align: right;\n",
              "    }\n",
              "</style>\n",
              "<table border=\"1\" class=\"dataframe\">\n",
              "  <thead>\n",
              "    <tr style=\"text-align: right;\">\n",
              "      <th></th>\n",
              "      <th>location</th>\n",
              "      <th>parameter</th>\n",
              "      <th>value</th>\n",
              "      <th>unit</th>\n",
              "      <th>country</th>\n",
              "      <th>city</th>\n",
              "      <th>date.utc</th>\n",
              "      <th>coordinates.latitude</th>\n",
              "      <th>coordinates.longitude</th>\n",
              "    </tr>\n",
              "    <tr>\n",
              "      <th>date.local</th>\n",
              "      <th></th>\n",
              "      <th></th>\n",
              "      <th></th>\n",
              "      <th></th>\n",
              "      <th></th>\n",
              "      <th></th>\n",
              "      <th></th>\n",
              "      <th></th>\n",
              "      <th></th>\n",
              "    </tr>\n",
              "  </thead>\n",
              "  <tbody>\n",
              "    <tr>\n",
              "      <th>2021-01-30 20:00:00</th>\n",
              "      <td>ES1126A</td>\n",
              "      <td>no2</td>\n",
              "      <td>9.0</td>\n",
              "      <td>b'\\xc2\\xb5g/m\\xc2\\xb3'</td>\n",
              "      <td>ES</td>\n",
              "      <td>Barcelona</td>\n",
              "      <td>2021-01-30 19:00:00+00:00</td>\n",
              "      <td>41.475409</td>\n",
              "      <td>1.921203</td>\n",
              "    </tr>\n",
              "    <tr>\n",
              "      <th>2021-01-30 20:00:00</th>\n",
              "      <td>ES1815A</td>\n",
              "      <td>no2</td>\n",
              "      <td>3.0</td>\n",
              "      <td>b'\\xc2\\xb5g/m\\xc2\\xb3'</td>\n",
              "      <td>ES</td>\n",
              "      <td>Barcelona</td>\n",
              "      <td>2021-01-30 19:00:00+00:00</td>\n",
              "      <td>41.346823</td>\n",
              "      <td>1.686575</td>\n",
              "    </tr>\n",
              "    <tr>\n",
              "      <th>2021-01-30 20:00:00</th>\n",
              "      <td>ES1262A</td>\n",
              "      <td>no2</td>\n",
              "      <td>14.0</td>\n",
              "      <td>b'\\xc2\\xb5g/m\\xc2\\xb3'</td>\n",
              "      <td>ES</td>\n",
              "      <td>Barcelona</td>\n",
              "      <td>2021-01-30 19:00:00+00:00</td>\n",
              "      <td>41.561175</td>\n",
              "      <td>2.101405</td>\n",
              "    </tr>\n",
              "    <tr>\n",
              "      <th>2021-01-30 20:00:00</th>\n",
              "      <td>ES1992A</td>\n",
              "      <td>no2</td>\n",
              "      <td>4.0</td>\n",
              "      <td>b'\\xc2\\xb5g/m\\xc2\\xb3'</td>\n",
              "      <td>ES</td>\n",
              "      <td>Barcelona</td>\n",
              "      <td>2021-01-30 19:00:00+00:00</td>\n",
              "      <td>41.387485</td>\n",
              "      <td>2.115150</td>\n",
              "    </tr>\n",
              "    <tr>\n",
              "      <th>2021-01-30 20:00:00</th>\n",
              "      <td>ES1856A</td>\n",
              "      <td>no2</td>\n",
              "      <td>5.0</td>\n",
              "      <td>b'\\xc2\\xb5g/m\\xc2\\xb3'</td>\n",
              "      <td>ES</td>\n",
              "      <td>Barcelona</td>\n",
              "      <td>2021-01-30 19:00:00+00:00</td>\n",
              "      <td>41.426077</td>\n",
              "      <td>2.147992</td>\n",
              "    </tr>\n",
              "  </tbody>\n",
              "</table>\n",
              "</div>"
            ],
            "text/plain": [
              "                    location parameter  value                    unit country  \\\n",
              "date.local                                                                      \n",
              "2021-01-30 20:00:00  ES1126A       no2    9.0  b'\\xc2\\xb5g/m\\xc2\\xb3'      ES   \n",
              "2021-01-30 20:00:00  ES1815A       no2    3.0  b'\\xc2\\xb5g/m\\xc2\\xb3'      ES   \n",
              "2021-01-30 20:00:00  ES1262A       no2   14.0  b'\\xc2\\xb5g/m\\xc2\\xb3'      ES   \n",
              "2021-01-30 20:00:00  ES1992A       no2    4.0  b'\\xc2\\xb5g/m\\xc2\\xb3'      ES   \n",
              "2021-01-30 20:00:00  ES1856A       no2    5.0  b'\\xc2\\xb5g/m\\xc2\\xb3'      ES   \n",
              "\n",
              "                          city                  date.utc  \\\n",
              "date.local                                                 \n",
              "2021-01-30 20:00:00  Barcelona 2021-01-30 19:00:00+00:00   \n",
              "2021-01-30 20:00:00  Barcelona 2021-01-30 19:00:00+00:00   \n",
              "2021-01-30 20:00:00  Barcelona 2021-01-30 19:00:00+00:00   \n",
              "2021-01-30 20:00:00  Barcelona 2021-01-30 19:00:00+00:00   \n",
              "2021-01-30 20:00:00  Barcelona 2021-01-30 19:00:00+00:00   \n",
              "\n",
              "                     coordinates.latitude  coordinates.longitude  \n",
              "date.local                                                        \n",
              "2021-01-30 20:00:00             41.475409               1.921203  \n",
              "2021-01-30 20:00:00             41.346823               1.686575  \n",
              "2021-01-30 20:00:00             41.561175               2.101405  \n",
              "2021-01-30 20:00:00             41.387485               2.115150  \n",
              "2021-01-30 20:00:00             41.426077               2.147992  "
            ]
          },
          "execution_count": 18,
          "metadata": {},
          "output_type": "execute_result"
        }
      ],
      "source": [
        "BCN_MeasurementsNO2.head()"
      ]
    },
    {
      "cell_type": "markdown",
      "metadata": {
        "id": "noc-gdkhUfE7"
      },
      "source": [
        "Measurements come in at different times from random locations. It would be good to group them by `location` and then check a description of the `value` column for each of the groups. This can be achieved using the `groupy()` function:"
      ]
    },
    {
      "cell_type": "code",
      "execution_count": 64,
      "metadata": {
        "id": "8jAUXTulUfE7",
        "outputId": "0f12c5fc-c947-4b5e-9173-1a1b7b524bea"
      },
      "outputs": [
        {
          "data": {
            "text/html": [
              "<div>\n",
              "<style scoped>\n",
              "    .dataframe tbody tr th:only-of-type {\n",
              "        vertical-align: middle;\n",
              "    }\n",
              "\n",
              "    .dataframe tbody tr th {\n",
              "        vertical-align: top;\n",
              "    }\n",
              "\n",
              "    .dataframe thead th {\n",
              "        text-align: right;\n",
              "    }\n",
              "</style>\n",
              "<table border=\"1\" class=\"dataframe\">\n",
              "  <thead>\n",
              "    <tr style=\"text-align: right;\">\n",
              "      <th></th>\n",
              "      <th>count</th>\n",
              "      <th>mean</th>\n",
              "      <th>std</th>\n",
              "      <th>min</th>\n",
              "      <th>25%</th>\n",
              "      <th>50%</th>\n",
              "      <th>75%</th>\n",
              "      <th>max</th>\n",
              "    </tr>\n",
              "    <tr>\n",
              "      <th>location</th>\n",
              "      <th></th>\n",
              "      <th></th>\n",
              "      <th></th>\n",
              "      <th></th>\n",
              "      <th></th>\n",
              "      <th></th>\n",
              "      <th></th>\n",
              "      <th></th>\n",
              "    </tr>\n",
              "  </thead>\n",
              "  <tbody>\n",
              "    <tr>\n",
              "      <th>ES0584A</th>\n",
              "      <td>264.0</td>\n",
              "      <td>40.113636</td>\n",
              "      <td>18.211327</td>\n",
              "      <td>3.0</td>\n",
              "      <td>27.000</td>\n",
              "      <td>38.0</td>\n",
              "      <td>53.000</td>\n",
              "      <td>88.0</td>\n",
              "    </tr>\n",
              "    <tr>\n",
              "      <th>ES0691A</th>\n",
              "      <td>275.0</td>\n",
              "      <td>39.538182</td>\n",
              "      <td>18.276700</td>\n",
              "      <td>7.0</td>\n",
              "      <td>26.000</td>\n",
              "      <td>39.0</td>\n",
              "      <td>52.000</td>\n",
              "      <td>84.0</td>\n",
              "    </tr>\n",
              "    <tr>\n",
              "      <th>ES0692A</th>\n",
              "      <td>264.0</td>\n",
              "      <td>33.102273</td>\n",
              "      <td>19.881803</td>\n",
              "      <td>4.0</td>\n",
              "      <td>16.000</td>\n",
              "      <td>30.0</td>\n",
              "      <td>48.000</td>\n",
              "      <td>89.0</td>\n",
              "    </tr>\n",
              "    <tr>\n",
              "      <th>ES0694A</th>\n",
              "      <td>274.0</td>\n",
              "      <td>37.689781</td>\n",
              "      <td>16.202771</td>\n",
              "      <td>4.0</td>\n",
              "      <td>27.000</td>\n",
              "      <td>38.0</td>\n",
              "      <td>49.750</td>\n",
              "      <td>75.0</td>\n",
              "    </tr>\n",
              "    <tr>\n",
              "      <th>ES0971A</th>\n",
              "      <td>272.0</td>\n",
              "      <td>35.477941</td>\n",
              "      <td>17.868303</td>\n",
              "      <td>1.0</td>\n",
              "      <td>24.000</td>\n",
              "      <td>35.0</td>\n",
              "      <td>47.000</td>\n",
              "      <td>84.0</td>\n",
              "    </tr>\n",
              "    <tr>\n",
              "      <th>ES1018A</th>\n",
              "      <td>263.0</td>\n",
              "      <td>28.752852</td>\n",
              "      <td>20.793325</td>\n",
              "      <td>3.0</td>\n",
              "      <td>13.000</td>\n",
              "      <td>22.0</td>\n",
              "      <td>42.500</td>\n",
              "      <td>106.0</td>\n",
              "    </tr>\n",
              "    <tr>\n",
              "      <th>ES1125A</th>\n",
              "      <td>274.0</td>\n",
              "      <td>27.638686</td>\n",
              "      <td>13.715213</td>\n",
              "      <td>11.0</td>\n",
              "      <td>17.000</td>\n",
              "      <td>24.0</td>\n",
              "      <td>36.000</td>\n",
              "      <td>71.0</td>\n",
              "    </tr>\n",
              "    <tr>\n",
              "      <th>ES1126A</th>\n",
              "      <td>272.0</td>\n",
              "      <td>33.275735</td>\n",
              "      <td>14.609343</td>\n",
              "      <td>7.0</td>\n",
              "      <td>23.000</td>\n",
              "      <td>31.0</td>\n",
              "      <td>42.000</td>\n",
              "      <td>85.0</td>\n",
              "    </tr>\n",
              "    <tr>\n",
              "      <th>ES1135A</th>\n",
              "      <td>273.0</td>\n",
              "      <td>23.454212</td>\n",
              "      <td>14.749586</td>\n",
              "      <td>4.0</td>\n",
              "      <td>12.000</td>\n",
              "      <td>19.0</td>\n",
              "      <td>32.000</td>\n",
              "      <td>75.0</td>\n",
              "    </tr>\n",
              "    <tr>\n",
              "      <th>ES1148A</th>\n",
              "      <td>267.0</td>\n",
              "      <td>45.595506</td>\n",
              "      <td>24.342660</td>\n",
              "      <td>5.0</td>\n",
              "      <td>27.000</td>\n",
              "      <td>43.0</td>\n",
              "      <td>59.000</td>\n",
              "      <td>132.0</td>\n",
              "    </tr>\n",
              "    <tr>\n",
              "      <th>ES1231A</th>\n",
              "      <td>256.0</td>\n",
              "      <td>29.703125</td>\n",
              "      <td>14.870083</td>\n",
              "      <td>4.0</td>\n",
              "      <td>18.000</td>\n",
              "      <td>27.5</td>\n",
              "      <td>40.250</td>\n",
              "      <td>75.0</td>\n",
              "    </tr>\n",
              "    <tr>\n",
              "      <th>ES1262A</th>\n",
              "      <td>272.0</td>\n",
              "      <td>34.036765</td>\n",
              "      <td>19.646660</td>\n",
              "      <td>4.0</td>\n",
              "      <td>17.750</td>\n",
              "      <td>31.0</td>\n",
              "      <td>47.250</td>\n",
              "      <td>86.0</td>\n",
              "    </tr>\n",
              "    <tr>\n",
              "      <th>ES1275A</th>\n",
              "      <td>271.0</td>\n",
              "      <td>27.099631</td>\n",
              "      <td>13.160591</td>\n",
              "      <td>4.0</td>\n",
              "      <td>17.000</td>\n",
              "      <td>24.0</td>\n",
              "      <td>36.000</td>\n",
              "      <td>67.0</td>\n",
              "    </tr>\n",
              "    <tr>\n",
              "      <th>ES1339A</th>\n",
              "      <td>273.0</td>\n",
              "      <td>18.567766</td>\n",
              "      <td>11.258493</td>\n",
              "      <td>3.0</td>\n",
              "      <td>9.000</td>\n",
              "      <td>16.0</td>\n",
              "      <td>26.000</td>\n",
              "      <td>59.0</td>\n",
              "    </tr>\n",
              "    <tr>\n",
              "      <th>ES1396A</th>\n",
              "      <td>274.0</td>\n",
              "      <td>33.291971</td>\n",
              "      <td>20.558916</td>\n",
              "      <td>4.0</td>\n",
              "      <td>16.000</td>\n",
              "      <td>28.0</td>\n",
              "      <td>49.750</td>\n",
              "      <td>84.0</td>\n",
              "    </tr>\n",
              "    <tr>\n",
              "      <th>ES1397A</th>\n",
              "      <td>264.0</td>\n",
              "      <td>27.342045</td>\n",
              "      <td>13.091994</td>\n",
              "      <td>6.0</td>\n",
              "      <td>18.075</td>\n",
              "      <td>24.1</td>\n",
              "      <td>35.825</td>\n",
              "      <td>79.5</td>\n",
              "    </tr>\n",
              "    <tr>\n",
              "      <th>ES1438A</th>\n",
              "      <td>267.0</td>\n",
              "      <td>40.535581</td>\n",
              "      <td>17.706718</td>\n",
              "      <td>6.0</td>\n",
              "      <td>27.000</td>\n",
              "      <td>38.0</td>\n",
              "      <td>56.000</td>\n",
              "      <td>82.0</td>\n",
              "    </tr>\n",
              "    <tr>\n",
              "      <th>ES1453A</th>\n",
              "      <td>266.0</td>\n",
              "      <td>37.556391</td>\n",
              "      <td>15.517933</td>\n",
              "      <td>10.0</td>\n",
              "      <td>26.000</td>\n",
              "      <td>37.0</td>\n",
              "      <td>48.000</td>\n",
              "      <td>79.0</td>\n",
              "    </tr>\n",
              "    <tr>\n",
              "      <th>ES1480A</th>\n",
              "      <td>269.0</td>\n",
              "      <td>41.081784</td>\n",
              "      <td>20.708910</td>\n",
              "      <td>7.0</td>\n",
              "      <td>25.000</td>\n",
              "      <td>39.0</td>\n",
              "      <td>56.000</td>\n",
              "      <td>109.0</td>\n",
              "    </tr>\n",
              "    <tr>\n",
              "      <th>ES1551A</th>\n",
              "      <td>278.0</td>\n",
              "      <td>38.338129</td>\n",
              "      <td>21.412252</td>\n",
              "      <td>2.0</td>\n",
              "      <td>20.250</td>\n",
              "      <td>36.0</td>\n",
              "      <td>53.750</td>\n",
              "      <td>88.0</td>\n",
              "    </tr>\n",
              "    <tr>\n",
              "      <th>ES1679A</th>\n",
              "      <td>274.0</td>\n",
              "      <td>38.781022</td>\n",
              "      <td>20.476992</td>\n",
              "      <td>5.0</td>\n",
              "      <td>23.000</td>\n",
              "      <td>36.0</td>\n",
              "      <td>47.000</td>\n",
              "      <td>105.0</td>\n",
              "    </tr>\n",
              "    <tr>\n",
              "      <th>ES1684A</th>\n",
              "      <td>265.0</td>\n",
              "      <td>27.977358</td>\n",
              "      <td>20.516795</td>\n",
              "      <td>2.0</td>\n",
              "      <td>11.000</td>\n",
              "      <td>24.0</td>\n",
              "      <td>41.000</td>\n",
              "      <td>95.0</td>\n",
              "    </tr>\n",
              "    <tr>\n",
              "      <th>ES1773A</th>\n",
              "      <td>271.0</td>\n",
              "      <td>17.490775</td>\n",
              "      <td>11.255242</td>\n",
              "      <td>2.0</td>\n",
              "      <td>9.000</td>\n",
              "      <td>15.0</td>\n",
              "      <td>24.500</td>\n",
              "      <td>50.0</td>\n",
              "    </tr>\n",
              "    <tr>\n",
              "      <th>ES1778A</th>\n",
              "      <td>270.0</td>\n",
              "      <td>2.407407</td>\n",
              "      <td>1.993656</td>\n",
              "      <td>1.0</td>\n",
              "      <td>1.000</td>\n",
              "      <td>2.0</td>\n",
              "      <td>3.000</td>\n",
              "      <td>17.0</td>\n",
              "    </tr>\n",
              "    <tr>\n",
              "      <th>ES1814A</th>\n",
              "      <td>269.0</td>\n",
              "      <td>40.486989</td>\n",
              "      <td>18.218738</td>\n",
              "      <td>3.0</td>\n",
              "      <td>26.000</td>\n",
              "      <td>39.0</td>\n",
              "      <td>57.000</td>\n",
              "      <td>81.0</td>\n",
              "    </tr>\n",
              "    <tr>\n",
              "      <th>ES1815A</th>\n",
              "      <td>273.0</td>\n",
              "      <td>18.959707</td>\n",
              "      <td>12.460018</td>\n",
              "      <td>2.0</td>\n",
              "      <td>10.000</td>\n",
              "      <td>16.0</td>\n",
              "      <td>26.000</td>\n",
              "      <td>60.0</td>\n",
              "    </tr>\n",
              "    <tr>\n",
              "      <th>ES1816A</th>\n",
              "      <td>269.0</td>\n",
              "      <td>28.791822</td>\n",
              "      <td>19.880834</td>\n",
              "      <td>7.0</td>\n",
              "      <td>14.000</td>\n",
              "      <td>22.0</td>\n",
              "      <td>36.000</td>\n",
              "      <td>95.0</td>\n",
              "    </tr>\n",
              "    <tr>\n",
              "      <th>ES1817A</th>\n",
              "      <td>277.0</td>\n",
              "      <td>36.458484</td>\n",
              "      <td>16.864418</td>\n",
              "      <td>3.0</td>\n",
              "      <td>23.000</td>\n",
              "      <td>35.0</td>\n",
              "      <td>50.000</td>\n",
              "      <td>78.0</td>\n",
              "    </tr>\n",
              "    <tr>\n",
              "      <th>ES1851A</th>\n",
              "      <td>265.0</td>\n",
              "      <td>17.184906</td>\n",
              "      <td>10.280524</td>\n",
              "      <td>4.0</td>\n",
              "      <td>9.000</td>\n",
              "      <td>15.0</td>\n",
              "      <td>22.000</td>\n",
              "      <td>53.0</td>\n",
              "    </tr>\n",
              "    <tr>\n",
              "      <th>ES1856A</th>\n",
              "      <td>264.0</td>\n",
              "      <td>24.840909</td>\n",
              "      <td>19.037018</td>\n",
              "      <td>3.0</td>\n",
              "      <td>10.750</td>\n",
              "      <td>17.0</td>\n",
              "      <td>34.250</td>\n",
              "      <td>83.0</td>\n",
              "    </tr>\n",
              "    <tr>\n",
              "      <th>ES1891A</th>\n",
              "      <td>267.0</td>\n",
              "      <td>43.730337</td>\n",
              "      <td>18.686430</td>\n",
              "      <td>8.0</td>\n",
              "      <td>30.000</td>\n",
              "      <td>41.0</td>\n",
              "      <td>58.000</td>\n",
              "      <td>109.0</td>\n",
              "    </tr>\n",
              "    <tr>\n",
              "      <th>ES1892A</th>\n",
              "      <td>266.0</td>\n",
              "      <td>37.424812</td>\n",
              "      <td>17.756317</td>\n",
              "      <td>8.0</td>\n",
              "      <td>23.000</td>\n",
              "      <td>34.0</td>\n",
              "      <td>48.750</td>\n",
              "      <td>87.0</td>\n",
              "    </tr>\n",
              "    <tr>\n",
              "      <th>ES1899A</th>\n",
              "      <td>19.0</td>\n",
              "      <td>13.526316</td>\n",
              "      <td>8.859197</td>\n",
              "      <td>4.0</td>\n",
              "      <td>6.000</td>\n",
              "      <td>9.0</td>\n",
              "      <td>22.000</td>\n",
              "      <td>30.0</td>\n",
              "    </tr>\n",
              "    <tr>\n",
              "      <th>ES1903A</th>\n",
              "      <td>32.0</td>\n",
              "      <td>24.906250</td>\n",
              "      <td>11.142361</td>\n",
              "      <td>6.0</td>\n",
              "      <td>16.250</td>\n",
              "      <td>25.0</td>\n",
              "      <td>33.000</td>\n",
              "      <td>45.0</td>\n",
              "    </tr>\n",
              "    <tr>\n",
              "      <th>ES1910A</th>\n",
              "      <td>22.0</td>\n",
              "      <td>14.090909</td>\n",
              "      <td>6.140491</td>\n",
              "      <td>5.0</td>\n",
              "      <td>9.250</td>\n",
              "      <td>14.5</td>\n",
              "      <td>16.000</td>\n",
              "      <td>30.0</td>\n",
              "    </tr>\n",
              "    <tr>\n",
              "      <th>ES1923A</th>\n",
              "      <td>274.0</td>\n",
              "      <td>10.678832</td>\n",
              "      <td>7.924492</td>\n",
              "      <td>1.0</td>\n",
              "      <td>4.000</td>\n",
              "      <td>9.0</td>\n",
              "      <td>15.000</td>\n",
              "      <td>43.0</td>\n",
              "    </tr>\n",
              "    <tr>\n",
              "      <th>ES1929A</th>\n",
              "      <td>256.0</td>\n",
              "      <td>36.234375</td>\n",
              "      <td>16.817351</td>\n",
              "      <td>6.0</td>\n",
              "      <td>22.000</td>\n",
              "      <td>35.0</td>\n",
              "      <td>48.000</td>\n",
              "      <td>84.0</td>\n",
              "    </tr>\n",
              "    <tr>\n",
              "      <th>ES1983A</th>\n",
              "      <td>25.0</td>\n",
              "      <td>30.960000</td>\n",
              "      <td>13.482952</td>\n",
              "      <td>8.0</td>\n",
              "      <td>18.000</td>\n",
              "      <td>34.0</td>\n",
              "      <td>42.000</td>\n",
              "      <td>52.0</td>\n",
              "    </tr>\n",
              "    <tr>\n",
              "      <th>ES1992A</th>\n",
              "      <td>260.0</td>\n",
              "      <td>23.803846</td>\n",
              "      <td>19.398583</td>\n",
              "      <td>3.0</td>\n",
              "      <td>9.000</td>\n",
              "      <td>15.5</td>\n",
              "      <td>37.000</td>\n",
              "      <td>77.0</td>\n",
              "    </tr>\n",
              "    <tr>\n",
              "      <th>ES2011A</th>\n",
              "      <td>247.0</td>\n",
              "      <td>38.631579</td>\n",
              "      <td>18.562734</td>\n",
              "      <td>3.0</td>\n",
              "      <td>24.000</td>\n",
              "      <td>40.0</td>\n",
              "      <td>51.000</td>\n",
              "      <td>79.0</td>\n",
              "    </tr>\n",
              "    <tr>\n",
              "      <th>ES2012A</th>\n",
              "      <td>247.0</td>\n",
              "      <td>22.943320</td>\n",
              "      <td>14.038160</td>\n",
              "      <td>2.0</td>\n",
              "      <td>11.500</td>\n",
              "      <td>21.0</td>\n",
              "      <td>32.000</td>\n",
              "      <td>65.0</td>\n",
              "    </tr>\n",
              "  </tbody>\n",
              "</table>\n",
              "</div>"
            ],
            "text/plain": [
              "          count       mean        std   min     25%   50%     75%    max\n",
              "location                                                                \n",
              "ES0584A   264.0  40.113636  18.211327   3.0  27.000  38.0  53.000   88.0\n",
              "ES0691A   275.0  39.538182  18.276700   7.0  26.000  39.0  52.000   84.0\n",
              "ES0692A   264.0  33.102273  19.881803   4.0  16.000  30.0  48.000   89.0\n",
              "ES0694A   274.0  37.689781  16.202771   4.0  27.000  38.0  49.750   75.0\n",
              "ES0971A   272.0  35.477941  17.868303   1.0  24.000  35.0  47.000   84.0\n",
              "ES1018A   263.0  28.752852  20.793325   3.0  13.000  22.0  42.500  106.0\n",
              "ES1125A   274.0  27.638686  13.715213  11.0  17.000  24.0  36.000   71.0\n",
              "ES1126A   272.0  33.275735  14.609343   7.0  23.000  31.0  42.000   85.0\n",
              "ES1135A   273.0  23.454212  14.749586   4.0  12.000  19.0  32.000   75.0\n",
              "ES1148A   267.0  45.595506  24.342660   5.0  27.000  43.0  59.000  132.0\n",
              "ES1231A   256.0  29.703125  14.870083   4.0  18.000  27.5  40.250   75.0\n",
              "ES1262A   272.0  34.036765  19.646660   4.0  17.750  31.0  47.250   86.0\n",
              "ES1275A   271.0  27.099631  13.160591   4.0  17.000  24.0  36.000   67.0\n",
              "ES1339A   273.0  18.567766  11.258493   3.0   9.000  16.0  26.000   59.0\n",
              "ES1396A   274.0  33.291971  20.558916   4.0  16.000  28.0  49.750   84.0\n",
              "ES1397A   264.0  27.342045  13.091994   6.0  18.075  24.1  35.825   79.5\n",
              "ES1438A   267.0  40.535581  17.706718   6.0  27.000  38.0  56.000   82.0\n",
              "ES1453A   266.0  37.556391  15.517933  10.0  26.000  37.0  48.000   79.0\n",
              "ES1480A   269.0  41.081784  20.708910   7.0  25.000  39.0  56.000  109.0\n",
              "ES1551A   278.0  38.338129  21.412252   2.0  20.250  36.0  53.750   88.0\n",
              "ES1679A   274.0  38.781022  20.476992   5.0  23.000  36.0  47.000  105.0\n",
              "ES1684A   265.0  27.977358  20.516795   2.0  11.000  24.0  41.000   95.0\n",
              "ES1773A   271.0  17.490775  11.255242   2.0   9.000  15.0  24.500   50.0\n",
              "ES1778A   270.0   2.407407   1.993656   1.0   1.000   2.0   3.000   17.0\n",
              "ES1814A   269.0  40.486989  18.218738   3.0  26.000  39.0  57.000   81.0\n",
              "ES1815A   273.0  18.959707  12.460018   2.0  10.000  16.0  26.000   60.0\n",
              "ES1816A   269.0  28.791822  19.880834   7.0  14.000  22.0  36.000   95.0\n",
              "ES1817A   277.0  36.458484  16.864418   3.0  23.000  35.0  50.000   78.0\n",
              "ES1851A   265.0  17.184906  10.280524   4.0   9.000  15.0  22.000   53.0\n",
              "ES1856A   264.0  24.840909  19.037018   3.0  10.750  17.0  34.250   83.0\n",
              "ES1891A   267.0  43.730337  18.686430   8.0  30.000  41.0  58.000  109.0\n",
              "ES1892A   266.0  37.424812  17.756317   8.0  23.000  34.0  48.750   87.0\n",
              "ES1899A    19.0  13.526316   8.859197   4.0   6.000   9.0  22.000   30.0\n",
              "ES1903A    32.0  24.906250  11.142361   6.0  16.250  25.0  33.000   45.0\n",
              "ES1910A    22.0  14.090909   6.140491   5.0   9.250  14.5  16.000   30.0\n",
              "ES1923A   274.0  10.678832   7.924492   1.0   4.000   9.0  15.000   43.0\n",
              "ES1929A   256.0  36.234375  16.817351   6.0  22.000  35.0  48.000   84.0\n",
              "ES1983A    25.0  30.960000  13.482952   8.0  18.000  34.0  42.000   52.0\n",
              "ES1992A   260.0  23.803846  19.398583   3.0   9.000  15.5  37.000   77.0\n",
              "ES2011A   247.0  38.631579  18.562734   3.0  24.000  40.0  51.000   79.0\n",
              "ES2012A   247.0  22.943320  14.038160   2.0  11.500  21.0  32.000   65.0"
            ]
          },
          "execution_count": 64,
          "metadata": {},
          "output_type": "execute_result"
        }
      ],
      "source": [
        "BCN_MeasurementsNO2.groupby(['location'])[\"value\"].describe()"
      ]
    },
    {
      "cell_type": "markdown",
      "metadata": {
        "id": "X4b6AJMbUfE7"
      },
      "source": [
        "<font color=\"blue\">**Exercise 5:** Read the documentation entry for the `groupby()` function here:</font>\n",
        "\n",
        "https://pandas.pydata.org/pandas-docs/stable/reference/api/pandas.DataFrame.groupby.html\n",
        "\n",
        "Can you explain what the function call we used above did?"
      ]
    },
    {
      "cell_type": "markdown",
      "metadata": {
        "id": "DyVDpujeUfE7"
      },
      "source": [
        "\n",
        "---\n",
        "\n",
        "\n",
        "Generally, function \n",
        "\n",
        "BCN_MeasurementsNO2.groupby(['location'])[\"value\"].describe()\n",
        "\n",
        "groups measurements by location, and then describes each group by .describe(). This way we are creating just one row for every location, and we also get summarized description of data concerning this location\n",
        "\n",
        "---"
      ]
    },
    {
      "cell_type": "markdown",
      "metadata": {
        "id": "WtWjh0tHUfE7"
      },
      "source": [
        "Next we will focus on Sant Cugat's measurements. We have downloaded the latest 10,000 measurements from that location and saved them in the `StC_Measurements.csv` file. The file contains all measurements (from different parameters)."
      ]
    },
    {
      "cell_type": "code",
      "execution_count": 66,
      "metadata": {
        "id": "xa-Je9ICUfE7",
        "outputId": "846524fa-38af-426d-ed0d-054e47f219f2"
      },
      "outputs": [
        {
          "name": "stdout",
          "output_type": "stream",
          "text": [
            "<class 'pandas.core.frame.DataFrame'>\n",
            "DatetimeIndex: 10000 entries, 2021-01-30 21:00:00 to 2019-11-11 06:00:00\n",
            "Data columns (total 9 columns):\n",
            " #   Column                 Non-Null Count  Dtype              \n",
            "---  ------                 --------------  -----              \n",
            " 0   location               10000 non-null  object             \n",
            " 1   parameter              10000 non-null  object             \n",
            " 2   value                  10000 non-null  int64              \n",
            " 3   unit                   10000 non-null  object             \n",
            " 4   country                10000 non-null  object             \n",
            " 5   city                   10000 non-null  object             \n",
            " 6   date.utc               10000 non-null  datetime64[ns, UTC]\n",
            " 7   coordinates.latitude   10000 non-null  float64            \n",
            " 8   coordinates.longitude  10000 non-null  float64            \n",
            "dtypes: datetime64[ns, UTC](1), float64(2), int64(1), object(5)\n",
            "memory usage: 781.2+ KB\n"
          ]
        }
      ],
      "source": [
        "StC_Measurements = pd.read_csv(\"StC_Measurements.csv\", index_col = \"date.local\", parse_dates=[\"date.local\", \"date.utc\"])\n",
        "StC_Measurements.info()"
      ]
    },
    {
      "cell_type": "code",
      "execution_count": 21,
      "metadata": {
        "id": "KWPupJiZUfE8",
        "outputId": "1ef73767-a517-4bfb-9f39-30406a5cbd5f"
      },
      "outputs": [
        {
          "data": {
            "text/html": [
              "<div>\n",
              "<style scoped>\n",
              "    .dataframe tbody tr th:only-of-type {\n",
              "        vertical-align: middle;\n",
              "    }\n",
              "\n",
              "    .dataframe tbody tr th {\n",
              "        vertical-align: top;\n",
              "    }\n",
              "\n",
              "    .dataframe thead th {\n",
              "        text-align: right;\n",
              "    }\n",
              "</style>\n",
              "<table border=\"1\" class=\"dataframe\">\n",
              "  <thead>\n",
              "    <tr style=\"text-align: right;\">\n",
              "      <th></th>\n",
              "      <th>location</th>\n",
              "      <th>parameter</th>\n",
              "      <th>value</th>\n",
              "      <th>unit</th>\n",
              "      <th>country</th>\n",
              "      <th>city</th>\n",
              "      <th>date.utc</th>\n",
              "      <th>coordinates.latitude</th>\n",
              "      <th>coordinates.longitude</th>\n",
              "    </tr>\n",
              "    <tr>\n",
              "      <th>date.local</th>\n",
              "      <th></th>\n",
              "      <th></th>\n",
              "      <th></th>\n",
              "      <th></th>\n",
              "      <th></th>\n",
              "      <th></th>\n",
              "      <th></th>\n",
              "      <th></th>\n",
              "      <th></th>\n",
              "    </tr>\n",
              "  </thead>\n",
              "  <tbody>\n",
              "    <tr>\n",
              "      <th>2021-01-30 21:00:00</th>\n",
              "      <td>ES1231A</td>\n",
              "      <td>no2</td>\n",
              "      <td>10</td>\n",
              "      <td>b'\\xc2\\xb5g/m\\xc2\\xb3'</td>\n",
              "      <td>ES</td>\n",
              "      <td>Barcelona</td>\n",
              "      <td>2021-01-30 20:00:00+00:00</td>\n",
              "      <td>41.476769</td>\n",
              "      <td>2.088977</td>\n",
              "    </tr>\n",
              "    <tr>\n",
              "      <th>2021-01-30 21:00:00</th>\n",
              "      <td>ES1231A</td>\n",
              "      <td>o3</td>\n",
              "      <td>62</td>\n",
              "      <td>b'\\xc2\\xb5g/m\\xc2\\xb3'</td>\n",
              "      <td>ES</td>\n",
              "      <td>Barcelona</td>\n",
              "      <td>2021-01-30 20:00:00+00:00</td>\n",
              "      <td>41.476769</td>\n",
              "      <td>2.088977</td>\n",
              "    </tr>\n",
              "    <tr>\n",
              "      <th>2021-01-30 20:00:00</th>\n",
              "      <td>ES1231A</td>\n",
              "      <td>o3</td>\n",
              "      <td>69</td>\n",
              "      <td>b'\\xc2\\xb5g/m\\xc2\\xb3'</td>\n",
              "      <td>ES</td>\n",
              "      <td>Barcelona</td>\n",
              "      <td>2021-01-30 19:00:00+00:00</td>\n",
              "      <td>41.476769</td>\n",
              "      <td>2.088977</td>\n",
              "    </tr>\n",
              "    <tr>\n",
              "      <th>2021-01-30 20:00:00</th>\n",
              "      <td>ES1231A</td>\n",
              "      <td>no2</td>\n",
              "      <td>7</td>\n",
              "      <td>b'\\xc2\\xb5g/m\\xc2\\xb3'</td>\n",
              "      <td>ES</td>\n",
              "      <td>Barcelona</td>\n",
              "      <td>2021-01-30 19:00:00+00:00</td>\n",
              "      <td>41.476769</td>\n",
              "      <td>2.088977</td>\n",
              "    </tr>\n",
              "    <tr>\n",
              "      <th>2021-01-30 19:00:00</th>\n",
              "      <td>ES1231A</td>\n",
              "      <td>no2</td>\n",
              "      <td>11</td>\n",
              "      <td>b'\\xc2\\xb5g/m\\xc2\\xb3'</td>\n",
              "      <td>ES</td>\n",
              "      <td>Barcelona</td>\n",
              "      <td>2021-01-30 18:00:00+00:00</td>\n",
              "      <td>41.476769</td>\n",
              "      <td>2.088977</td>\n",
              "    </tr>\n",
              "  </tbody>\n",
              "</table>\n",
              "</div>"
            ],
            "text/plain": [
              "                    location parameter  value                    unit country  \\\n",
              "date.local                                                                      \n",
              "2021-01-30 21:00:00  ES1231A       no2     10  b'\\xc2\\xb5g/m\\xc2\\xb3'      ES   \n",
              "2021-01-30 21:00:00  ES1231A        o3     62  b'\\xc2\\xb5g/m\\xc2\\xb3'      ES   \n",
              "2021-01-30 20:00:00  ES1231A        o3     69  b'\\xc2\\xb5g/m\\xc2\\xb3'      ES   \n",
              "2021-01-30 20:00:00  ES1231A       no2      7  b'\\xc2\\xb5g/m\\xc2\\xb3'      ES   \n",
              "2021-01-30 19:00:00  ES1231A       no2     11  b'\\xc2\\xb5g/m\\xc2\\xb3'      ES   \n",
              "\n",
              "                          city                  date.utc  \\\n",
              "date.local                                                 \n",
              "2021-01-30 21:00:00  Barcelona 2021-01-30 20:00:00+00:00   \n",
              "2021-01-30 21:00:00  Barcelona 2021-01-30 20:00:00+00:00   \n",
              "2021-01-30 20:00:00  Barcelona 2021-01-30 19:00:00+00:00   \n",
              "2021-01-30 20:00:00  Barcelona 2021-01-30 19:00:00+00:00   \n",
              "2021-01-30 19:00:00  Barcelona 2021-01-30 18:00:00+00:00   \n",
              "\n",
              "                     coordinates.latitude  coordinates.longitude  \n",
              "date.local                                                        \n",
              "2021-01-30 21:00:00             41.476769               2.088977  \n",
              "2021-01-30 21:00:00             41.476769               2.088977  \n",
              "2021-01-30 20:00:00             41.476769               2.088977  \n",
              "2021-01-30 20:00:00             41.476769               2.088977  \n",
              "2021-01-30 19:00:00             41.476769               2.088977  "
            ]
          },
          "execution_count": 21,
          "metadata": {},
          "output_type": "execute_result"
        }
      ],
      "source": [
        "StC_Measurements.head()"
      ]
    },
    {
      "cell_type": "markdown",
      "metadata": {
        "id": "cCBqG-MZUfE8"
      },
      "source": [
        "We can do a plot directly from a pandas frame, we just need to specify which rows to plot, and which columns correspond to the x and y coordinates of our plot. Let's do this here by selecting only the rows corresponding to O3, and plotting the date (`date.utc`) versus the `value` that we measured."
      ]
    },
    {
      "cell_type": "code",
      "execution_count": 73,
      "metadata": {
        "id": "VfRVNirxUfE8",
        "outputId": "6a7a2a93-274b-482a-fec0-a7a00d6c8b82"
      },
      "outputs": [
        {
          "data": {
            "text/plain": [
              "<Axes: xlabel='date.utc'>"
            ]
          },
          "execution_count": 73,
          "metadata": {},
          "output_type": "execute_result"
        },
        {
          "data": {
            "image/png": "[encoded data removed]",
            "text/plain": [
              "<Figure size 640x480 with 1 Axes>"
            ]
          },
          "metadata": {},
          "output_type": "display_data"
        }
      ],
      "source": [
        "StC_Measurements[StC_Measurements[\"parameter\"] == \"o3\"].plot(x = \"date.utc\", y=\"value\")"
      ]
    },
    {
      "cell_type": "markdown",
      "metadata": {
        "id": "Jek-ISFDUfE8"
      },
      "source": [
        "<font color=\"blue\">**Exercise 6:** Instead of selecting a specific parameters, group by parameter, and do the same plot for each of them. Try to do it in a single line of code using `groupby()`.</font>"
      ]
    },
    {
      "cell_type": "code",
      "execution_count": 75,
      "metadata": {
        "id": "--y1VLbQUfE8"
      },
      "outputs": [
        {
          "data": {
            "text/plain": [
              "parameter\n",
              "no2    Axes(0.125,0.2;0.775x0.68)\n",
              "o3     Axes(0.125,0.2;0.775x0.68)\n",
              "dtype: object"
            ]
          },
          "execution_count": 75,
          "metadata": {},
          "output_type": "execute_result"
        },
        {
          "data": {
            "image/png": "[encoded data removed]",
            "text/plain": [
              "<Figure size 640x480 with 1 Axes>"
            ]
          },
          "metadata": {},
          "output_type": "display_data"
        },
        {
          "data": {
            "image/png": "[encoded data removed]",
            "text/plain": [
              "<Figure size 640x480 with 1 Axes>"
            ]
          },
          "metadata": {},
          "output_type": "display_data"
        }
      ],
      "source": [
        "# Your code here\n",
        "\n",
        "StC_Measurements.groupby([\"parameter\"]).plot(x = \"date.utc\", y=\"value\")"
      ]
    },
    {
      "cell_type": "markdown",
      "metadata": {
        "id": "t8fmRHAhUfE9"
      },
      "source": [
        "# Appendix - Using the Open Air Quality API"
      ]
    },
    {
      "cell_type": "markdown",
      "metadata": {
        "id": "RmkVZNmTUfE9"
      },
      "source": [
        "In order to use the API through Python you should first install the py-openaq module in your local python installation. Installation istructions are available here:\n",
        "\n",
        "https://dhhagan.github.io/py-openaq/installing.html\n",
        "\n",
        "Once you have installed the module, you should be able to import it and run the code below"
      ]
    },
    {
      "cell_type": "code",
      "execution_count": 68,
      "metadata": {
        "id": "OqQX1w8GUfE9"
      },
      "outputs": [],
      "source": [
        "import openaq\n",
        "\n",
        "api = openaq.OpenAQ()"
      ]
    },
    {
      "cell_type": "markdown",
      "metadata": {
        "id": "2fQ2fkPhUfE9"
      },
      "source": [
        "To probe for the list of cities (returned as a pandas dataframe) you can run the following"
      ]
    },
    {
      "cell_type": "code",
      "execution_count": null,
      "metadata": {
        "id": "RH5L9FBdUfE9",
        "outputId": "83324f0e-f210-4123-a4d6-49db42dc16f7"
      },
      "outputs": [],
      "source": [
        "cities = api.cities(df = True, limit = 10000)"
      ]
    },
    {
      "cell_type": "markdown",
      "metadata": {
        "id": "OTPwvB-UUfE9"
      },
      "source": [
        "To get information about the locations in a specific city, or a whole country:"
      ]
    },
    {
      "cell_type": "code",
      "execution_count": null,
      "metadata": {
        "id": "TUDaXVLeUfE-"
      },
      "outputs": [],
      "source": [
        "BCN_Locations = api.locations(city='Barcelona', df=True)\n",
        "ES_Locations = api.locations(country='ES', df=True, limit=10000)"
      ]
    },
    {
      "cell_type": "markdown",
      "metadata": {
        "id": "90OxHVwuUfE-"
      },
      "source": [
        "To retrieve specific measurements from a specific city:"
      ]
    },
    {
      "cell_type": "code",
      "execution_count": null,
      "metadata": {
        "id": "FYj3iY3IUfE-"
      },
      "outputs": [],
      "source": [
        "BCN_MeasurementsNO2 = api.measurements(city='Barcelona', parameter='no2', limit=10000, df=True)\n",
        "BCN_MeasurementsO3 = api.measurements(city='Barcelona', parameter='o3', limit=10000, df=True)"
      ]
    },
    {
      "cell_type": "markdown",
      "metadata": {
        "id": "JyWfzFAEUfE_"
      },
      "source": [
        "A comprehensive tutorial can be found at:\n",
        "\n",
        "https://dhhagan.github.io/py-openaq/tutorial.html"
      ]
    },
    {
      "cell_type": "code",
      "execution_count": null,
      "metadata": {
        "id": "reeFJcghUfE_"
      },
      "outputs": [],
      "source": []
    }
  ],
  "metadata": {
    "colab": {
      "name": "AirQuality_Project.ipynb",
      "provenance": []
    },
    "kernelspec": {
      "display_name": "Python 3",
      "language": "python",
      "name": "python3"
    },
    "language_info": {
      "codemirror_mode": {
        "name": "ipython",
        "version": 3
      },
      "file_extension": ".py",
      "mimetype": "text/x-python",
      "name": "python",
      "nbconvert_exporter": "python",
      "pygments_lexer": "ipython3",
      "version": "3.12.2"
    }
  },
  "nbformat": 4,
  "nbformat_minor": 0
}
