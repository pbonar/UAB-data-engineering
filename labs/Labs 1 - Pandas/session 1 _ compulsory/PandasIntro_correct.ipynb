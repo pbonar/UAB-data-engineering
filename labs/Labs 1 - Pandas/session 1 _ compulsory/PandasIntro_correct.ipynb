{
  "cells": [
    {
      "cell_type": "markdown",
      "id": "LNBkaoEK8XVj",
      "metadata": {
        "id": "LNBkaoEK8XVj"
      },
      "source": [
        "# Introduction to Pandas"
      ]
    },
    {
      "cell_type": "markdown",
      "id": "youaeNq58XVm",
      "metadata": {
        "id": "youaeNq58XVm"
      },
      "source": [
        "*Pandas* is a high-performance Python library that allows us to easily use and manipulate data structures such as tables and series.\n",
        "\n",
        "https://pandas.pydata.org/pandas-docs/stable/index.html\n",
        "\n",
        "It connects directly to *NumPy* and *MatPlotLib* to manage numerical operations and plotting. This notebook is a quick introduction to the module. You are encouraged to explore more, for example starting here:\n",
        "\n",
        "https://pandas.pydata.org/pandas-docs/stable/getting_started/intro_tutorials/index.html\n",
        "\n",
        "https://pandas.pydata.org/pandas-docs/stable/user_guide/index.html"
      ]
    },
    {
      "cell_type": "markdown",
      "id": "j4WF5c3s8XVn",
      "metadata": {
        "id": "j4WF5c3s8XVn"
      },
      "source": [
        "## Defining data frames (tables) and series in pandas"
      ]
    },
    {
      "cell_type": "code",
      "execution_count": 12,
      "id": "gfg6IaUv8XVo",
      "metadata": {
        "id": "gfg6IaUv8XVo"
      },
      "outputs": [],
      "source": [
        "import pandas as pd"
      ]
    },
    {
      "cell_type": "markdown",
      "id": "lyJsbkPc8XVp",
      "metadata": {
        "id": "lyJsbkPc8XVp"
      },
      "source": [
        "We will define a table of information about the students of our class. We will try to reproduce the following tabular structure in *pandas*\n",
        "\n",
        "| NIU     | Name              | Exam | Practicals |\n",
        "|:-------:|:-----------------:|:----:|:----------:|  \n",
        "| 111222  | Ned Stark         | 6.0  |    5.4     |   \n",
        "| 123123  | Robert Baratheon  | 8.5  |    7.5     |   \n",
        "| 234234  | Jaime Lannister   | 3.7  |    6.4     |   \n",
        "| 345345  | Catelyn Stark     | 9.0  |    8.6     |   \n",
        "| 456456  | Viserys Targaryen | 4.0  |    4.6     |   \n",
        "| 567567  | Jon Snow          | 6.8  |    4.3     |   \n",
        "| 678678  | Talisa Maegyr     | 7.6  |    0.0     |   \n",
        "\n",
        "This table in pandas will be represented by a **data frame** which is implemented by the class `pandas.DataFrame`. Each column in a data frame is a **series** which is implemented by the `pandas.Series` object."
      ]
    },
    {
      "cell_type": "markdown",
      "id": "CevXZPmr8XVp",
      "metadata": {
        "id": "CevXZPmr8XVp"
      },
      "source": [
        "We will start with the first column, the NIU:"
      ]
    },
    {
      "cell_type": "code",
      "execution_count": 13,
      "id": "7dyMiojx8XVp",
      "metadata": {
        "colab": {
          "base_uri": "https://localhost:8080/"
        },
        "id": "7dyMiojx8XVp",
        "outputId": "66606ab2-e803-41ca-bb3f-c9ba011a2ec4"
      },
      "outputs": [
        {
          "name": "stdout",
          "output_type": "stream",
          "text": [
            "0    111222\n",
            "1    123123\n",
            "2    234234\n",
            "3    345345\n",
            "4    456456\n",
            "5    567567\n",
            "6    678678\n",
            "dtype: int64\n"
          ]
        }
      ],
      "source": [
        "seriesNIU = pd.Series( [111222, 123123, 234234, 345345, 456456, 567567, 678678] )\n",
        "print (seriesNIU)"
      ]
    },
    {
      "cell_type": "markdown",
      "id": "vfCyCr7h8XVq",
      "metadata": {
        "id": "vfCyCr7h8XVq"
      },
      "source": [
        "See how each pandas added an extra column with indices. The structure of a series is like a dictionary, where each value has an index and can be retrieved by using its index. For example:"
      ]
    },
    {
      "cell_type": "code",
      "execution_count": 14,
      "id": "4fQV33NH8XVq",
      "metadata": {
        "colab": {
          "base_uri": "https://localhost:8080/"
        },
        "id": "4fQV33NH8XVq",
        "outputId": "2a275b96-342b-4a37-c9e8-0a4309e329f0"
      },
      "outputs": [
        {
          "data": {
            "text/plain": [
              "345345"
            ]
          },
          "execution_count": 14,
          "metadata": {},
          "output_type": "execute_result"
        }
      ],
      "source": [
        "seriesNIU[3]"
      ]
    },
    {
      "cell_type": "markdown",
      "id": "3QavDFei8XVq",
      "metadata": {
        "id": "3QavDFei8XVq"
      },
      "source": [
        "Let's define the rest of the columns of our table in the same way"
      ]
    },
    {
      "cell_type": "code",
      "execution_count": 15,
      "id": "f3inwwVG8XVr",
      "metadata": {
        "id": "f3inwwVG8XVr"
      },
      "outputs": [],
      "source": [
        "seriesName = pd.Series( [\"Ned Stark\", \"Robert Baratheon\", \"Jaime Lannister\", \"Catelyn Stark\", \"Viserys Targaryen\", \"Jon Snow\", \"Talisa Maegyr\"] )\n",
        "seriesExam = pd.Series( [6.0, 8.5, 3.7, 9.0, 4.0, 6.8, 7.6])\n",
        "seriesPracticals = pd.Series( [5.4, 7.5, 6.4, 8.6, 4.6, 4.3, 0.0])"
      ]
    },
    {
      "cell_type": "markdown",
      "id": "VKq8xTAn8XVs",
      "metadata": {
        "id": "VKq8xTAn8XVs"
      },
      "source": [
        "Now we can combine the series (the columns) together into a data frame (a table). The idea is the same, a dataframe can be thought of as a dictionary of columns, where each column has its title and its data."
      ]
    },
    {
      "cell_type": "code",
      "execution_count": 16,
      "id": "QpzKFrfz8XVs",
      "metadata": {
        "colab": {
          "base_uri": "https://localhost:8080/",
          "height": 269
        },
        "id": "QpzKFrfz8XVs",
        "outputId": "ce209819-f417-4228-cf98-94992fc29650"
      },
      "outputs": [
        {
          "data": {
            "text/html": [
              "<div>\n",
              "<style scoped>\n",
              "    .dataframe tbody tr th:only-of-type {\n",
              "        vertical-align: middle;\n",
              "    }\n",
              "\n",
              "    .dataframe tbody tr th {\n",
              "        vertical-align: top;\n",
              "    }\n",
              "\n",
              "    .dataframe thead th {\n",
              "        text-align: right;\n",
              "    }\n",
              "</style>\n",
              "<table border=\"1\" class=\"dataframe\">\n",
              "  <thead>\n",
              "    <tr style=\"text-align: right;\">\n",
              "      <th></th>\n",
              "      <th>NIU</th>\n",
              "      <th>Name</th>\n",
              "      <th>Exam</th>\n",
              "      <th>Practicals</th>\n",
              "    </tr>\n",
              "  </thead>\n",
              "  <tbody>\n",
              "    <tr>\n",
              "      <th>0</th>\n",
              "      <td>111222</td>\n",
              "      <td>Ned Stark</td>\n",
              "      <td>6.0</td>\n",
              "      <td>5.4</td>\n",
              "    </tr>\n",
              "    <tr>\n",
              "      <th>1</th>\n",
              "      <td>123123</td>\n",
              "      <td>Robert Baratheon</td>\n",
              "      <td>8.5</td>\n",
              "      <td>7.5</td>\n",
              "    </tr>\n",
              "    <tr>\n",
              "      <th>2</th>\n",
              "      <td>234234</td>\n",
              "      <td>Jaime Lannister</td>\n",
              "      <td>3.7</td>\n",
              "      <td>6.4</td>\n",
              "    </tr>\n",
              "    <tr>\n",
              "      <th>3</th>\n",
              "      <td>345345</td>\n",
              "      <td>Catelyn Stark</td>\n",
              "      <td>9.0</td>\n",
              "      <td>8.6</td>\n",
              "    </tr>\n",
              "    <tr>\n",
              "      <th>4</th>\n",
              "      <td>456456</td>\n",
              "      <td>Viserys Targaryen</td>\n",
              "      <td>4.0</td>\n",
              "      <td>4.6</td>\n",
              "    </tr>\n",
              "    <tr>\n",
              "      <th>5</th>\n",
              "      <td>567567</td>\n",
              "      <td>Jon Snow</td>\n",
              "      <td>6.8</td>\n",
              "      <td>4.3</td>\n",
              "    </tr>\n",
              "    <tr>\n",
              "      <th>6</th>\n",
              "      <td>678678</td>\n",
              "      <td>Talisa Maegyr</td>\n",
              "      <td>7.6</td>\n",
              "      <td>0.0</td>\n",
              "    </tr>\n",
              "  </tbody>\n",
              "</table>\n",
              "</div>"
            ],
            "text/plain": [
              "      NIU               Name  Exam  Practicals\n",
              "0  111222          Ned Stark   6.0         5.4\n",
              "1  123123   Robert Baratheon   8.5         7.5\n",
              "2  234234    Jaime Lannister   3.7         6.4\n",
              "3  345345      Catelyn Stark   9.0         8.6\n",
              "4  456456  Viserys Targaryen   4.0         4.6\n",
              "5  567567           Jon Snow   6.8         4.3\n",
              "6  678678      Talisa Maegyr   7.6         0.0"
            ]
          },
          "execution_count": 16,
          "metadata": {},
          "output_type": "execute_result"
        }
      ],
      "source": [
        "d = {\"NIU\": seriesNIU,\n",
        "     \"Name\": seriesName,\n",
        "     \"Exam\": seriesExam,\n",
        "     \"Practicals\": seriesPracticals}\n",
        "\n",
        "dfStudents = pd.DataFrame(d)\n",
        "dfStudents"
      ]
    },
    {
      "cell_type": "markdown",
      "id": "TN4WqL9F8XVs",
      "metadata": {
        "id": "TN4WqL9F8XVs"
      },
      "source": [
        "We can actually ask pandas to use our own custom indices. For example in this case, we could decide to use the NIUs as the indices. Let's tell pandas to use this column."
      ]
    },
    {
      "cell_type": "code",
      "execution_count": 17,
      "id": "aBm-qddn8XVs",
      "metadata": {
        "colab": {
          "base_uri": "https://localhost:8080/",
          "height": 300
        },
        "id": "aBm-qddn8XVs",
        "outputId": "30aca869-bd46-427c-a633-973b4300a9b0"
      },
      "outputs": [
        {
          "data": {
            "text/html": [
              "<div>\n",
              "<style scoped>\n",
              "    .dataframe tbody tr th:only-of-type {\n",
              "        vertical-align: middle;\n",
              "    }\n",
              "\n",
              "    .dataframe tbody tr th {\n",
              "        vertical-align: top;\n",
              "    }\n",
              "\n",
              "    .dataframe thead th {\n",
              "        text-align: right;\n",
              "    }\n",
              "</style>\n",
              "<table border=\"1\" class=\"dataframe\">\n",
              "  <thead>\n",
              "    <tr style=\"text-align: right;\">\n",
              "      <th></th>\n",
              "      <th>Name</th>\n",
              "      <th>Exam</th>\n",
              "      <th>Practicals</th>\n",
              "    </tr>\n",
              "    <tr>\n",
              "      <th>NIU</th>\n",
              "      <th></th>\n",
              "      <th></th>\n",
              "      <th></th>\n",
              "    </tr>\n",
              "  </thead>\n",
              "  <tbody>\n",
              "    <tr>\n",
              "      <th>111222</th>\n",
              "      <td>Ned Stark</td>\n",
              "      <td>6.0</td>\n",
              "      <td>5.4</td>\n",
              "    </tr>\n",
              "    <tr>\n",
              "      <th>123123</th>\n",
              "      <td>Robert Baratheon</td>\n",
              "      <td>8.5</td>\n",
              "      <td>7.5</td>\n",
              "    </tr>\n",
              "    <tr>\n",
              "      <th>234234</th>\n",
              "      <td>Jaime Lannister</td>\n",
              "      <td>3.7</td>\n",
              "      <td>6.4</td>\n",
              "    </tr>\n",
              "    <tr>\n",
              "      <th>345345</th>\n",
              "      <td>Catelyn Stark</td>\n",
              "      <td>9.0</td>\n",
              "      <td>8.6</td>\n",
              "    </tr>\n",
              "    <tr>\n",
              "      <th>456456</th>\n",
              "      <td>Viserys Targaryen</td>\n",
              "      <td>4.0</td>\n",
              "      <td>4.6</td>\n",
              "    </tr>\n",
              "    <tr>\n",
              "      <th>567567</th>\n",
              "      <td>Jon Snow</td>\n",
              "      <td>6.8</td>\n",
              "      <td>4.3</td>\n",
              "    </tr>\n",
              "    <tr>\n",
              "      <th>678678</th>\n",
              "      <td>Talisa Maegyr</td>\n",
              "      <td>7.6</td>\n",
              "      <td>0.0</td>\n",
              "    </tr>\n",
              "  </tbody>\n",
              "</table>\n",
              "</div>"
            ],
            "text/plain": [
              "                     Name  Exam  Practicals\n",
              "NIU                                        \n",
              "111222          Ned Stark   6.0         5.4\n",
              "123123   Robert Baratheon   8.5         7.5\n",
              "234234    Jaime Lannister   3.7         6.4\n",
              "345345      Catelyn Stark   9.0         8.6\n",
              "456456  Viserys Targaryen   4.0         4.6\n",
              "567567           Jon Snow   6.8         4.3\n",
              "678678      Talisa Maegyr   7.6         0.0"
            ]
          },
          "execution_count": 17,
          "metadata": {},
          "output_type": "execute_result"
        }
      ],
      "source": [
        "dfStudents = dfStudents.set_index('NIU')\n",
        "dfStudents\n",
        "\n",
        "# An alternative way would be to make the change in place by calling:\n",
        "# dfStudents.set_index('NIU', inplace = True)"
      ]
    },
    {
      "cell_type": "markdown",
      "id": "D0YIK1zx8XVs",
      "metadata": {
        "id": "D0YIK1zx8XVs"
      },
      "source": [
        "We can ask for some quick information about a data frame by using `DataFrame.info()`. This tells us what columns we have, how many values there are in each column, their types, etc."
      ]
    },
    {
      "cell_type": "code",
      "execution_count": 18,
      "id": "S82gPUYa8XVs",
      "metadata": {
        "colab": {
          "base_uri": "https://localhost:8080/"
        },
        "id": "S82gPUYa8XVs",
        "outputId": "04b075e0-e6e9-459b-e224-0def17b90e2b"
      },
      "outputs": [
        {
          "name": "stdout",
          "output_type": "stream",
          "text": [
            "<class 'pandas.core.frame.DataFrame'>\n",
            "Index: 7 entries, 111222 to 678678\n",
            "Data columns (total 3 columns):\n",
            " #   Column      Non-Null Count  Dtype  \n",
            "---  ------      --------------  -----  \n",
            " 0   Name        7 non-null      object \n",
            " 1   Exam        7 non-null      float64\n",
            " 2   Practicals  7 non-null      float64\n",
            "dtypes: float64(2), object(1)\n",
            "memory usage: 224.0+ bytes\n"
          ]
        }
      ],
      "source": [
        "dfStudents.info()"
      ]
    },
    {
      "cell_type": "markdown",
      "id": "Q37wLBXw8XVs",
      "metadata": {
        "id": "Q37wLBXw8XVs"
      },
      "source": [
        "Since a data frame is like a dictionary of columns, we can refer to each column by its name. For example, the following will return the columns of exam scores as a series:"
      ]
    },
    {
      "cell_type": "code",
      "execution_count": 19,
      "id": "2Gj5DRQ18XVs",
      "metadata": {
        "colab": {
          "base_uri": "https://localhost:8080/",
          "height": 335
        },
        "id": "2Gj5DRQ18XVs",
        "outputId": "5c51088b-94cb-4dc9-cd07-49dd72d3576b"
      },
      "outputs": [
        {
          "data": {
            "text/plain": [
              "NIU\n",
              "111222    6.0\n",
              "123123    8.5\n",
              "234234    3.7\n",
              "345345    9.0\n",
              "456456    4.0\n",
              "567567    6.8\n",
              "678678    7.6\n",
              "Name: Exam, dtype: float64"
            ]
          },
          "execution_count": 19,
          "metadata": {},
          "output_type": "execute_result"
        }
      ],
      "source": [
        "scores = dfStudents[\"Exam\"]\n",
        "scores"
      ]
    },
    {
      "cell_type": "markdown",
      "id": "Zm_L0hs78XVs",
      "metadata": {
        "id": "Zm_L0hs78XVs"
      },
      "source": [
        "See how our exam scores are now indexed using the NIU, as they should.\n",
        "\n",
        "We can also filter specific rows of our table by using a mask. By mask I mean a list (or series) of `True` and `False` values. An easy way to create a mask is by using bollean operations, for example"
      ]
    },
    {
      "cell_type": "code",
      "execution_count": 20,
      "id": "5k4BC7bf8XVt",
      "metadata": {
        "colab": {
          "base_uri": "https://localhost:8080/",
          "height": 335
        },
        "id": "5k4BC7bf8XVt",
        "outputId": "6b1001ed-9bcf-4097-b905-65349381646f"
      },
      "outputs": [
        {
          "data": {
            "text/plain": [
              "NIU\n",
              "111222     True\n",
              "123123     True\n",
              "234234    False\n",
              "345345     True\n",
              "456456    False\n",
              "567567     True\n",
              "678678     True\n",
              "Name: Exam, dtype: bool"
            ]
          },
          "execution_count": 20,
          "metadata": {},
          "output_type": "execute_result"
        }
      ],
      "source": [
        "passScoresMask = scores > 5.0\n",
        "passScoresMask"
      ]
    },
    {
      "cell_type": "markdown",
      "id": "YTCPLsFZ8XVu",
      "metadata": {
        "id": "YTCPLsFZ8XVu"
      },
      "source": [
        "we can then use this mask to retrieve specific rows (the `True` ones):"
      ]
    },
    {
      "cell_type": "code",
      "execution_count": 21,
      "id": "0h3C7ltJ8XVu",
      "metadata": {
        "colab": {
          "base_uri": "https://localhost:8080/",
          "height": 237
        },
        "id": "0h3C7ltJ8XVu",
        "outputId": "e12d01a0-d797-4f9a-e666-9a3bd0bfd9eb"
      },
      "outputs": [
        {
          "data": {
            "text/html": [
              "<div>\n",
              "<style scoped>\n",
              "    .dataframe tbody tr th:only-of-type {\n",
              "        vertical-align: middle;\n",
              "    }\n",
              "\n",
              "    .dataframe tbody tr th {\n",
              "        vertical-align: top;\n",
              "    }\n",
              "\n",
              "    .dataframe thead th {\n",
              "        text-align: right;\n",
              "    }\n",
              "</style>\n",
              "<table border=\"1\" class=\"dataframe\">\n",
              "  <thead>\n",
              "    <tr style=\"text-align: right;\">\n",
              "      <th></th>\n",
              "      <th>Name</th>\n",
              "      <th>Exam</th>\n",
              "      <th>Practicals</th>\n",
              "    </tr>\n",
              "    <tr>\n",
              "      <th>NIU</th>\n",
              "      <th></th>\n",
              "      <th></th>\n",
              "      <th></th>\n",
              "    </tr>\n",
              "  </thead>\n",
              "  <tbody>\n",
              "    <tr>\n",
              "      <th>111222</th>\n",
              "      <td>Ned Stark</td>\n",
              "      <td>6.0</td>\n",
              "      <td>5.4</td>\n",
              "    </tr>\n",
              "    <tr>\n",
              "      <th>123123</th>\n",
              "      <td>Robert Baratheon</td>\n",
              "      <td>8.5</td>\n",
              "      <td>7.5</td>\n",
              "    </tr>\n",
              "    <tr>\n",
              "      <th>345345</th>\n",
              "      <td>Catelyn Stark</td>\n",
              "      <td>9.0</td>\n",
              "      <td>8.6</td>\n",
              "    </tr>\n",
              "    <tr>\n",
              "      <th>567567</th>\n",
              "      <td>Jon Snow</td>\n",
              "      <td>6.8</td>\n",
              "      <td>4.3</td>\n",
              "    </tr>\n",
              "    <tr>\n",
              "      <th>678678</th>\n",
              "      <td>Talisa Maegyr</td>\n",
              "      <td>7.6</td>\n",
              "      <td>0.0</td>\n",
              "    </tr>\n",
              "  </tbody>\n",
              "</table>\n",
              "</div>"
            ],
            "text/plain": [
              "                    Name  Exam  Practicals\n",
              "NIU                                       \n",
              "111222         Ned Stark   6.0         5.4\n",
              "123123  Robert Baratheon   8.5         7.5\n",
              "345345     Catelyn Stark   9.0         8.6\n",
              "567567          Jon Snow   6.8         4.3\n",
              "678678     Talisa Maegyr   7.6         0.0"
            ]
          },
          "execution_count": 21,
          "metadata": {},
          "output_type": "execute_result"
        }
      ],
      "source": [
        "dfStudents[passScoresMask]"
      ]
    },
    {
      "cell_type": "markdown",
      "id": "VKSRqQ3I8XVu",
      "metadata": {
        "id": "VKSRqQ3I8XVu"
      },
      "source": [
        "or directly:"
      ]
    },
    {
      "cell_type": "code",
      "execution_count": 22,
      "id": "vtCVlX1o8XVu",
      "metadata": {
        "colab": {
          "base_uri": "https://localhost:8080/",
          "height": 237
        },
        "id": "vtCVlX1o8XVu",
        "outputId": "f0fb7a8c-2db5-4433-be63-460ff554895c"
      },
      "outputs": [
        {
          "data": {
            "text/html": [
              "<div>\n",
              "<style scoped>\n",
              "    .dataframe tbody tr th:only-of-type {\n",
              "        vertical-align: middle;\n",
              "    }\n",
              "\n",
              "    .dataframe tbody tr th {\n",
              "        vertical-align: top;\n",
              "    }\n",
              "\n",
              "    .dataframe thead th {\n",
              "        text-align: right;\n",
              "    }\n",
              "</style>\n",
              "<table border=\"1\" class=\"dataframe\">\n",
              "  <thead>\n",
              "    <tr style=\"text-align: right;\">\n",
              "      <th></th>\n",
              "      <th>Name</th>\n",
              "      <th>Exam</th>\n",
              "      <th>Practicals</th>\n",
              "    </tr>\n",
              "    <tr>\n",
              "      <th>NIU</th>\n",
              "      <th></th>\n",
              "      <th></th>\n",
              "      <th></th>\n",
              "    </tr>\n",
              "  </thead>\n",
              "  <tbody>\n",
              "    <tr>\n",
              "      <th>111222</th>\n",
              "      <td>Ned Stark</td>\n",
              "      <td>6.0</td>\n",
              "      <td>5.4</td>\n",
              "    </tr>\n",
              "    <tr>\n",
              "      <th>123123</th>\n",
              "      <td>Robert Baratheon</td>\n",
              "      <td>8.5</td>\n",
              "      <td>7.5</td>\n",
              "    </tr>\n",
              "    <tr>\n",
              "      <th>345345</th>\n",
              "      <td>Catelyn Stark</td>\n",
              "      <td>9.0</td>\n",
              "      <td>8.6</td>\n",
              "    </tr>\n",
              "    <tr>\n",
              "      <th>567567</th>\n",
              "      <td>Jon Snow</td>\n",
              "      <td>6.8</td>\n",
              "      <td>4.3</td>\n",
              "    </tr>\n",
              "    <tr>\n",
              "      <th>678678</th>\n",
              "      <td>Talisa Maegyr</td>\n",
              "      <td>7.6</td>\n",
              "      <td>0.0</td>\n",
              "    </tr>\n",
              "  </tbody>\n",
              "</table>\n",
              "</div>"
            ],
            "text/plain": [
              "                    Name  Exam  Practicals\n",
              "NIU                                       \n",
              "111222         Ned Stark   6.0         5.4\n",
              "123123  Robert Baratheon   8.5         7.5\n",
              "345345     Catelyn Stark   9.0         8.6\n",
              "567567          Jon Snow   6.8         4.3\n",
              "678678     Talisa Maegyr   7.6         0.0"
            ]
          },
          "execution_count": 22,
          "metadata": {},
          "output_type": "execute_result"
        }
      ],
      "source": [
        "dfStudents[ dfStudents[\"Exam\"] > 5.0 ]"
      ]
    },
    {
      "cell_type": "markdown",
      "id": "R8svxrNj8XVu",
      "metadata": {
        "id": "R8svxrNj8XVu"
      },
      "source": [
        "Any boolean expression would do, for example get the members of the Stark family:"
      ]
    },
    {
      "cell_type": "code",
      "execution_count": 23,
      "id": "XAY50W3y8XVv",
      "metadata": {
        "colab": {
          "base_uri": "https://localhost:8080/",
          "height": 143
        },
        "id": "XAY50W3y8XVv",
        "outputId": "802048c4-e0f6-401b-a61c-65629229f033"
      },
      "outputs": [
        {
          "data": {
            "text/html": [
              "<div>\n",
              "<style scoped>\n",
              "    .dataframe tbody tr th:only-of-type {\n",
              "        vertical-align: middle;\n",
              "    }\n",
              "\n",
              "    .dataframe tbody tr th {\n",
              "        vertical-align: top;\n",
              "    }\n",
              "\n",
              "    .dataframe thead th {\n",
              "        text-align: right;\n",
              "    }\n",
              "</style>\n",
              "<table border=\"1\" class=\"dataframe\">\n",
              "  <thead>\n",
              "    <tr style=\"text-align: right;\">\n",
              "      <th></th>\n",
              "      <th>Name</th>\n",
              "      <th>Exam</th>\n",
              "      <th>Practicals</th>\n",
              "    </tr>\n",
              "    <tr>\n",
              "      <th>NIU</th>\n",
              "      <th></th>\n",
              "      <th></th>\n",
              "      <th></th>\n",
              "    </tr>\n",
              "  </thead>\n",
              "  <tbody>\n",
              "    <tr>\n",
              "      <th>111222</th>\n",
              "      <td>Ned Stark</td>\n",
              "      <td>6.0</td>\n",
              "      <td>5.4</td>\n",
              "    </tr>\n",
              "    <tr>\n",
              "      <th>345345</th>\n",
              "      <td>Catelyn Stark</td>\n",
              "      <td>9.0</td>\n",
              "      <td>8.6</td>\n",
              "    </tr>\n",
              "  </tbody>\n",
              "</table>\n",
              "</div>"
            ],
            "text/plain": [
              "                 Name  Exam  Practicals\n",
              "NIU                                    \n",
              "111222      Ned Stark   6.0         5.4\n",
              "345345  Catelyn Stark   9.0         8.6"
            ]
          },
          "execution_count": 23,
          "metadata": {},
          "output_type": "execute_result"
        }
      ],
      "source": [
        "dfStudents[ dfStudents[\"Name\"].str.contains(\"Stark\")]"
      ]
    },
    {
      "cell_type": "markdown",
      "id": "gSvV92j38XVv",
      "metadata": {
        "id": "gSvV92j38XVv"
      },
      "source": [
        "Or a list of students with specific exam scores:"
      ]
    },
    {
      "cell_type": "code",
      "execution_count": 24,
      "id": "9I_i6sP-8XVv",
      "metadata": {
        "colab": {
          "base_uri": "https://localhost:8080/",
          "height": 143
        },
        "id": "9I_i6sP-8XVv",
        "outputId": "c758334d-b05d-4caa-898d-1f9eed75395c"
      },
      "outputs": [
        {
          "data": {
            "text/html": [
              "<div>\n",
              "<style scoped>\n",
              "    .dataframe tbody tr th:only-of-type {\n",
              "        vertical-align: middle;\n",
              "    }\n",
              "\n",
              "    .dataframe tbody tr th {\n",
              "        vertical-align: top;\n",
              "    }\n",
              "\n",
              "    .dataframe thead th {\n",
              "        text-align: right;\n",
              "    }\n",
              "</style>\n",
              "<table border=\"1\" class=\"dataframe\">\n",
              "  <thead>\n",
              "    <tr style=\"text-align: right;\">\n",
              "      <th></th>\n",
              "      <th>Name</th>\n",
              "      <th>Exam</th>\n",
              "      <th>Practicals</th>\n",
              "    </tr>\n",
              "    <tr>\n",
              "      <th>NIU</th>\n",
              "      <th></th>\n",
              "      <th></th>\n",
              "      <th></th>\n",
              "    </tr>\n",
              "  </thead>\n",
              "  <tbody>\n",
              "    <tr>\n",
              "      <th>123123</th>\n",
              "      <td>Robert Baratheon</td>\n",
              "      <td>8.5</td>\n",
              "      <td>7.5</td>\n",
              "    </tr>\n",
              "    <tr>\n",
              "      <th>567567</th>\n",
              "      <td>Jon Snow</td>\n",
              "      <td>6.8</td>\n",
              "      <td>4.3</td>\n",
              "    </tr>\n",
              "  </tbody>\n",
              "</table>\n",
              "</div>"
            ],
            "text/plain": [
              "                    Name  Exam  Practicals\n",
              "NIU                                       \n",
              "123123  Robert Baratheon   8.5         7.5\n",
              "567567          Jon Snow   6.8         4.3"
            ]
          },
          "execution_count": 24,
          "metadata": {},
          "output_type": "execute_result"
        }
      ],
      "source": [
        "dfStudents[ dfStudents[\"Exam\"].isin([6.8, 8.5]) ]"
      ]
    },
    {
      "cell_type": "markdown",
      "id": "1HE8gPGx8XVv",
      "metadata": {
        "id": "1HE8gPGx8XVv"
      },
      "source": [
        "Or the list of students that have passed both the exam and the practicals:"
      ]
    },
    {
      "cell_type": "code",
      "execution_count": 25,
      "id": "qyy8eCwJ8XVv",
      "metadata": {
        "colab": {
          "base_uri": "https://localhost:8080/",
          "height": 175
        },
        "id": "qyy8eCwJ8XVv",
        "outputId": "9df6cce6-a5b1-4d9d-ffc3-c6f427e6faa0"
      },
      "outputs": [
        {
          "data": {
            "text/html": [
              "<div>\n",
              "<style scoped>\n",
              "    .dataframe tbody tr th:only-of-type {\n",
              "        vertical-align: middle;\n",
              "    }\n",
              "\n",
              "    .dataframe tbody tr th {\n",
              "        vertical-align: top;\n",
              "    }\n",
              "\n",
              "    .dataframe thead th {\n",
              "        text-align: right;\n",
              "    }\n",
              "</style>\n",
              "<table border=\"1\" class=\"dataframe\">\n",
              "  <thead>\n",
              "    <tr style=\"text-align: right;\">\n",
              "      <th></th>\n",
              "      <th>Name</th>\n",
              "      <th>Exam</th>\n",
              "      <th>Practicals</th>\n",
              "    </tr>\n",
              "    <tr>\n",
              "      <th>NIU</th>\n",
              "      <th></th>\n",
              "      <th></th>\n",
              "      <th></th>\n",
              "    </tr>\n",
              "  </thead>\n",
              "  <tbody>\n",
              "    <tr>\n",
              "      <th>111222</th>\n",
              "      <td>Ned Stark</td>\n",
              "      <td>6.0</td>\n",
              "      <td>5.4</td>\n",
              "    </tr>\n",
              "    <tr>\n",
              "      <th>123123</th>\n",
              "      <td>Robert Baratheon</td>\n",
              "      <td>8.5</td>\n",
              "      <td>7.5</td>\n",
              "    </tr>\n",
              "    <tr>\n",
              "      <th>345345</th>\n",
              "      <td>Catelyn Stark</td>\n",
              "      <td>9.0</td>\n",
              "      <td>8.6</td>\n",
              "    </tr>\n",
              "  </tbody>\n",
              "</table>\n",
              "</div>"
            ],
            "text/plain": [
              "                    Name  Exam  Practicals\n",
              "NIU                                       \n",
              "111222         Ned Stark   6.0         5.4\n",
              "123123  Robert Baratheon   8.5         7.5\n",
              "345345     Catelyn Stark   9.0         8.6"
            ]
          },
          "execution_count": 25,
          "metadata": {},
          "output_type": "execute_result"
        }
      ],
      "source": [
        "dfStudents[ (dfStudents[\"Exam\"]>5) & (dfStudents[\"Practicals\"]>5) ]"
      ]
    },
    {
      "cell_type": "markdown",
      "id": "6cpZrZ238XVw",
      "metadata": {
        "id": "6cpZrZ238XVw"
      },
      "source": [
        "Read the documentation for the function we just used here:\n",
        "\n",
        "https://pandas.pydata.org/pandas-docs/stable/reference/api/pandas.Series.str.contains.html\n",
        "\n",
        "https://pandas.pydata.org/pandas-docs/stable/reference/api/pandas.DataFrame.isin.html"
      ]
    },
    {
      "cell_type": "markdown",
      "id": "Kz8ybprz8XVw",
      "metadata": {
        "id": "Kz8ybprz8XVw"
      },
      "source": [
        "To get a specific value in the table, you can either first get the column and then the row in the column. To do that you should use the indices - the names of the columns and the index for the row:"
      ]
    },
    {
      "cell_type": "code",
      "execution_count": 26,
      "id": "Z8jieBo08XVw",
      "metadata": {
        "colab": {
          "base_uri": "https://localhost:8080/"
        },
        "id": "Z8jieBo08XVw",
        "outputId": "affd1700-8b9a-4dab-8549-7a39d342d723"
      },
      "outputs": [
        {
          "data": {
            "text/plain": [
              "6.0"
            ]
          },
          "execution_count": 26,
          "metadata": {},
          "output_type": "execute_result"
        }
      ],
      "source": [
        "dfStudents[\"Exam\"][111222]"
      ]
    },
    {
      "cell_type": "markdown",
      "id": "uYehCoqs8XVw",
      "metadata": {
        "id": "uYehCoqs8XVw"
      },
      "source": [
        "Alternatively, you can use integers to index a specific location, using the function `DataFrame.iloc`. Now the row is the first index and the column is the second one."
      ]
    },
    {
      "cell_type": "code",
      "execution_count": 27,
      "id": "28IKMnbI8XVw",
      "metadata": {
        "colab": {
          "base_uri": "https://localhost:8080/",
          "height": 35
        },
        "id": "28IKMnbI8XVw",
        "outputId": "b5c424e8-dcc9-4690-ae16-51ff8ef07f32"
      },
      "outputs": [
        {
          "data": {
            "text/plain": [
              "'Ned Stark'"
            ]
          },
          "execution_count": 27,
          "metadata": {},
          "output_type": "execute_result"
        }
      ],
      "source": [
        "dfStudents.iloc[0, 0]"
      ]
    },
    {
      "cell_type": "code",
      "execution_count": 28,
      "id": "dKkhDbBX8XVw",
      "metadata": {
        "colab": {
          "base_uri": "https://localhost:8080/",
          "height": 35
        },
        "id": "dKkhDbBX8XVw",
        "outputId": "97e5b01a-8fed-4f25-ca53-58c258410920"
      },
      "outputs": [
        {
          "data": {
            "text/plain": [
              "'Robert Baratheon'"
            ]
          },
          "execution_count": 28,
          "metadata": {},
          "output_type": "execute_result"
        }
      ],
      "source": [
        "dfStudents.iloc[1, 0]"
      ]
    },
    {
      "cell_type": "markdown",
      "id": "EQavqyQH8XVw",
      "metadata": {
        "id": "EQavqyQH8XVw"
      },
      "source": [
        "Adding a column is easy, you just have to tell pandas what you need in it (in the same way as you would add a new entry in a Python dictionary). Let's create a new column called \"Total Mark\" that is the average of the exam and the practicals grades:"
      ]
    },
    {
      "cell_type": "code",
      "execution_count": 29,
      "id": "8ZTrvWHt8XVx",
      "metadata": {
        "colab": {
          "base_uri": "https://localhost:8080/",
          "height": 300
        },
        "id": "8ZTrvWHt8XVx",
        "outputId": "38ab19e6-82da-4133-c385-66ccdfa9b84e"
      },
      "outputs": [
        {
          "data": {
            "text/html": [
              "<div>\n",
              "<style scoped>\n",
              "    .dataframe tbody tr th:only-of-type {\n",
              "        vertical-align: middle;\n",
              "    }\n",
              "\n",
              "    .dataframe tbody tr th {\n",
              "        vertical-align: top;\n",
              "    }\n",
              "\n",
              "    .dataframe thead th {\n",
              "        text-align: right;\n",
              "    }\n",
              "</style>\n",
              "<table border=\"1\" class=\"dataframe\">\n",
              "  <thead>\n",
              "    <tr style=\"text-align: right;\">\n",
              "      <th></th>\n",
              "      <th>Name</th>\n",
              "      <th>Exam</th>\n",
              "      <th>Practicals</th>\n",
              "      <th>Total Mark</th>\n",
              "    </tr>\n",
              "    <tr>\n",
              "      <th>NIU</th>\n",
              "      <th></th>\n",
              "      <th></th>\n",
              "      <th></th>\n",
              "      <th></th>\n",
              "    </tr>\n",
              "  </thead>\n",
              "  <tbody>\n",
              "    <tr>\n",
              "      <th>111222</th>\n",
              "      <td>Ned Stark</td>\n",
              "      <td>6.0</td>\n",
              "      <td>5.4</td>\n",
              "      <td>5.70</td>\n",
              "    </tr>\n",
              "    <tr>\n",
              "      <th>123123</th>\n",
              "      <td>Robert Baratheon</td>\n",
              "      <td>8.5</td>\n",
              "      <td>7.5</td>\n",
              "      <td>8.00</td>\n",
              "    </tr>\n",
              "    <tr>\n",
              "      <th>234234</th>\n",
              "      <td>Jaime Lannister</td>\n",
              "      <td>3.7</td>\n",
              "      <td>6.4</td>\n",
              "      <td>5.05</td>\n",
              "    </tr>\n",
              "    <tr>\n",
              "      <th>345345</th>\n",
              "      <td>Catelyn Stark</td>\n",
              "      <td>9.0</td>\n",
              "      <td>8.6</td>\n",
              "      <td>8.80</td>\n",
              "    </tr>\n",
              "    <tr>\n",
              "      <th>456456</th>\n",
              "      <td>Viserys Targaryen</td>\n",
              "      <td>4.0</td>\n",
              "      <td>4.6</td>\n",
              "      <td>4.30</td>\n",
              "    </tr>\n",
              "    <tr>\n",
              "      <th>567567</th>\n",
              "      <td>Jon Snow</td>\n",
              "      <td>6.8</td>\n",
              "      <td>4.3</td>\n",
              "      <td>5.55</td>\n",
              "    </tr>\n",
              "    <tr>\n",
              "      <th>678678</th>\n",
              "      <td>Talisa Maegyr</td>\n",
              "      <td>7.6</td>\n",
              "      <td>0.0</td>\n",
              "      <td>3.80</td>\n",
              "    </tr>\n",
              "  </tbody>\n",
              "</table>\n",
              "</div>"
            ],
            "text/plain": [
              "                     Name  Exam  Practicals  Total Mark\n",
              "NIU                                                    \n",
              "111222          Ned Stark   6.0         5.4        5.70\n",
              "123123   Robert Baratheon   8.5         7.5        8.00\n",
              "234234    Jaime Lannister   3.7         6.4        5.05\n",
              "345345      Catelyn Stark   9.0         8.6        8.80\n",
              "456456  Viserys Targaryen   4.0         4.6        4.30\n",
              "567567           Jon Snow   6.8         4.3        5.55\n",
              "678678      Talisa Maegyr   7.6         0.0        3.80"
            ]
          },
          "execution_count": 29,
          "metadata": {},
          "output_type": "execute_result"
        }
      ],
      "source": [
        "dfStudents[\"Total Mark\"] = (dfStudents[\"Exam\"] + dfStudents[\"Practicals\"]) / 2\n",
        "dfStudents"
      ]
    },
    {
      "cell_type": "markdown",
      "id": "Ged0MZk_8XVx",
      "metadata": {
        "id": "Ged0MZk_8XVx"
      },
      "source": [
        "To change a value, you can use `DataFrame.at[]` or `DataFrame.iat[]` passing the row and then the column of the item you want to set:"
      ]
    },
    {
      "cell_type": "code",
      "execution_count": 30,
      "id": "qHx5TvSg8XVx",
      "metadata": {
        "colab": {
          "base_uri": "https://localhost:8080/",
          "height": 300
        },
        "id": "qHx5TvSg8XVx",
        "outputId": "eb241cbb-6ac3-466a-87e0-8f2a5989fe9f"
      },
      "outputs": [
        {
          "data": {
            "text/html": [
              "<div>\n",
              "<style scoped>\n",
              "    .dataframe tbody tr th:only-of-type {\n",
              "        vertical-align: middle;\n",
              "    }\n",
              "\n",
              "    .dataframe tbody tr th {\n",
              "        vertical-align: top;\n",
              "    }\n",
              "\n",
              "    .dataframe thead th {\n",
              "        text-align: right;\n",
              "    }\n",
              "</style>\n",
              "<table border=\"1\" class=\"dataframe\">\n",
              "  <thead>\n",
              "    <tr style=\"text-align: right;\">\n",
              "      <th></th>\n",
              "      <th>Name</th>\n",
              "      <th>Exam</th>\n",
              "      <th>Practicals</th>\n",
              "      <th>Total Mark</th>\n",
              "    </tr>\n",
              "    <tr>\n",
              "      <th>NIU</th>\n",
              "      <th></th>\n",
              "      <th></th>\n",
              "      <th></th>\n",
              "      <th></th>\n",
              "    </tr>\n",
              "  </thead>\n",
              "  <tbody>\n",
              "    <tr>\n",
              "      <th>111222</th>\n",
              "      <td>Davos Seaworth</td>\n",
              "      <td>6.0</td>\n",
              "      <td>5.4</td>\n",
              "      <td>5.70</td>\n",
              "    </tr>\n",
              "    <tr>\n",
              "      <th>123123</th>\n",
              "      <td>Brienne of Tarth</td>\n",
              "      <td>8.5</td>\n",
              "      <td>7.5</td>\n",
              "      <td>8.00</td>\n",
              "    </tr>\n",
              "    <tr>\n",
              "      <th>234234</th>\n",
              "      <td>Jaime Lannister</td>\n",
              "      <td>3.7</td>\n",
              "      <td>6.4</td>\n",
              "      <td>5.05</td>\n",
              "    </tr>\n",
              "    <tr>\n",
              "      <th>345345</th>\n",
              "      <td>Catelyn Stark</td>\n",
              "      <td>9.0</td>\n",
              "      <td>8.6</td>\n",
              "      <td>8.80</td>\n",
              "    </tr>\n",
              "    <tr>\n",
              "      <th>456456</th>\n",
              "      <td>Viserys Targaryen</td>\n",
              "      <td>4.0</td>\n",
              "      <td>4.6</td>\n",
              "      <td>4.30</td>\n",
              "    </tr>\n",
              "    <tr>\n",
              "      <th>567567</th>\n",
              "      <td>Jon Snow</td>\n",
              "      <td>6.8</td>\n",
              "      <td>4.3</td>\n",
              "      <td>5.55</td>\n",
              "    </tr>\n",
              "    <tr>\n",
              "      <th>678678</th>\n",
              "      <td>Talisa Maegyr</td>\n",
              "      <td>7.6</td>\n",
              "      <td>0.0</td>\n",
              "      <td>3.80</td>\n",
              "    </tr>\n",
              "  </tbody>\n",
              "</table>\n",
              "</div>"
            ],
            "text/plain": [
              "                     Name  Exam  Practicals  Total Mark\n",
              "NIU                                                    \n",
              "111222     Davos Seaworth   6.0         5.4        5.70\n",
              "123123   Brienne of Tarth   8.5         7.5        8.00\n",
              "234234    Jaime Lannister   3.7         6.4        5.05\n",
              "345345      Catelyn Stark   9.0         8.6        8.80\n",
              "456456  Viserys Targaryen   4.0         4.6        4.30\n",
              "567567           Jon Snow   6.8         4.3        5.55\n",
              "678678      Talisa Maegyr   7.6         0.0        3.80"
            ]
          },
          "execution_count": 30,
          "metadata": {},
          "output_type": "execute_result"
        }
      ],
      "source": [
        "dfStudents.at[111222, \"Name\"] = \"Davos Seaworth\" # The indices here are the row and column keys\n",
        "\n",
        "dfStudents.iat[1, 0] = \"Brienne of Tarth\" # the indices here are the row and column numbers\n",
        "\n",
        "dfStudents"
      ]
    },
    {
      "cell_type": "markdown",
      "id": "qUhfmScM8XVx",
      "metadata": {
        "id": "qUhfmScM8XVx"
      },
      "source": [
        "You can use the same way to add an new element, if you reference an element that does not exist it will be added in the list"
      ]
    },
    {
      "cell_type": "code",
      "execution_count": 31,
      "id": "yH9Jm8GV8XVy",
      "metadata": {
        "colab": {
          "base_uri": "https://localhost:8080/",
          "height": 331
        },
        "id": "yH9Jm8GV8XVy",
        "outputId": "63821fba-c371-4b96-b73e-15de72d8d383"
      },
      "outputs": [
        {
          "data": {
            "text/html": [
              "<div>\n",
              "<style scoped>\n",
              "    .dataframe tbody tr th:only-of-type {\n",
              "        vertical-align: middle;\n",
              "    }\n",
              "\n",
              "    .dataframe tbody tr th {\n",
              "        vertical-align: top;\n",
              "    }\n",
              "\n",
              "    .dataframe thead th {\n",
              "        text-align: right;\n",
              "    }\n",
              "</style>\n",
              "<table border=\"1\" class=\"dataframe\">\n",
              "  <thead>\n",
              "    <tr style=\"text-align: right;\">\n",
              "      <th></th>\n",
              "      <th>Name</th>\n",
              "      <th>Exam</th>\n",
              "      <th>Practicals</th>\n",
              "      <th>Total Mark</th>\n",
              "    </tr>\n",
              "    <tr>\n",
              "      <th>NIU</th>\n",
              "      <th></th>\n",
              "      <th></th>\n",
              "      <th></th>\n",
              "      <th></th>\n",
              "    </tr>\n",
              "  </thead>\n",
              "  <tbody>\n",
              "    <tr>\n",
              "      <th>111222</th>\n",
              "      <td>Davos Seaworth</td>\n",
              "      <td>6.0</td>\n",
              "      <td>5.4</td>\n",
              "      <td>5.70</td>\n",
              "    </tr>\n",
              "    <tr>\n",
              "      <th>123123</th>\n",
              "      <td>Brienne of Tarth</td>\n",
              "      <td>8.5</td>\n",
              "      <td>7.5</td>\n",
              "      <td>8.00</td>\n",
              "    </tr>\n",
              "    <tr>\n",
              "      <th>234234</th>\n",
              "      <td>Jaime Lannister</td>\n",
              "      <td>3.7</td>\n",
              "      <td>6.4</td>\n",
              "      <td>5.05</td>\n",
              "    </tr>\n",
              "    <tr>\n",
              "      <th>345345</th>\n",
              "      <td>Catelyn Stark</td>\n",
              "      <td>9.0</td>\n",
              "      <td>8.6</td>\n",
              "      <td>8.80</td>\n",
              "    </tr>\n",
              "    <tr>\n",
              "      <th>456456</th>\n",
              "      <td>Viserys Targaryen</td>\n",
              "      <td>4.0</td>\n",
              "      <td>4.6</td>\n",
              "      <td>4.30</td>\n",
              "    </tr>\n",
              "    <tr>\n",
              "      <th>567567</th>\n",
              "      <td>Jon Snow</td>\n",
              "      <td>6.8</td>\n",
              "      <td>4.3</td>\n",
              "      <td>5.55</td>\n",
              "    </tr>\n",
              "    <tr>\n",
              "      <th>678678</th>\n",
              "      <td>Talisa Maegyr</td>\n",
              "      <td>7.6</td>\n",
              "      <td>0.0</td>\n",
              "      <td>3.80</td>\n",
              "    </tr>\n",
              "    <tr>\n",
              "      <th>Starfleet_1234</th>\n",
              "      <td>Jean Luc Piccard</td>\n",
              "      <td>NaN</td>\n",
              "      <td>NaN</td>\n",
              "      <td>NaN</td>\n",
              "    </tr>\n",
              "  </tbody>\n",
              "</table>\n",
              "</div>"
            ],
            "text/plain": [
              "                             Name  Exam  Practicals  Total Mark\n",
              "NIU                                                            \n",
              "111222             Davos Seaworth   6.0         5.4        5.70\n",
              "123123           Brienne of Tarth   8.5         7.5        8.00\n",
              "234234            Jaime Lannister   3.7         6.4        5.05\n",
              "345345              Catelyn Stark   9.0         8.6        8.80\n",
              "456456          Viserys Targaryen   4.0         4.6        4.30\n",
              "567567                   Jon Snow   6.8         4.3        5.55\n",
              "678678              Talisa Maegyr   7.6         0.0        3.80\n",
              "Starfleet_1234   Jean Luc Piccard   NaN         NaN         NaN"
            ]
          },
          "execution_count": 31,
          "metadata": {},
          "output_type": "execute_result"
        }
      ],
      "source": [
        "dfStudents.at[\"Starfleet_1234\", \"Name\"] = \"Jean Luc Piccard\"\n",
        "dfStudents"
      ]
    },
    {
      "cell_type": "markdown",
      "id": "mpTx2vdB8XVy",
      "metadata": {
        "id": "mpTx2vdB8XVy"
      },
      "source": [
        "See that since we used a row index that does not exist, it was created for us. And since we only provided a value for the name, the rest are marked as \"Not A Number\" `NaN`. We can select all the rows that are NOT *NaN* using the function `notna()`.\n",
        "> *To select all the values that ARE NaN you can use the function `isna()` or `isnull()`.*"
      ]
    },
    {
      "cell_type": "code",
      "execution_count": 32,
      "id": "RfesdOR48XVy",
      "metadata": {
        "colab": {
          "base_uri": "https://localhost:8080/",
          "height": 300
        },
        "id": "RfesdOR48XVy",
        "outputId": "14d9b3d5-65dd-4ef1-ec00-dacf70ad1a45"
      },
      "outputs": [
        {
          "data": {
            "text/html": [
              "<div>\n",
              "<style scoped>\n",
              "    .dataframe tbody tr th:only-of-type {\n",
              "        vertical-align: middle;\n",
              "    }\n",
              "\n",
              "    .dataframe tbody tr th {\n",
              "        vertical-align: top;\n",
              "    }\n",
              "\n",
              "    .dataframe thead th {\n",
              "        text-align: right;\n",
              "    }\n",
              "</style>\n",
              "<table border=\"1\" class=\"dataframe\">\n",
              "  <thead>\n",
              "    <tr style=\"text-align: right;\">\n",
              "      <th></th>\n",
              "      <th>Name</th>\n",
              "      <th>Exam</th>\n",
              "      <th>Practicals</th>\n",
              "      <th>Total Mark</th>\n",
              "    </tr>\n",
              "    <tr>\n",
              "      <th>NIU</th>\n",
              "      <th></th>\n",
              "      <th></th>\n",
              "      <th></th>\n",
              "      <th></th>\n",
              "    </tr>\n",
              "  </thead>\n",
              "  <tbody>\n",
              "    <tr>\n",
              "      <th>111222</th>\n",
              "      <td>Davos Seaworth</td>\n",
              "      <td>6.0</td>\n",
              "      <td>5.4</td>\n",
              "      <td>5.70</td>\n",
              "    </tr>\n",
              "    <tr>\n",
              "      <th>123123</th>\n",
              "      <td>Brienne of Tarth</td>\n",
              "      <td>8.5</td>\n",
              "      <td>7.5</td>\n",
              "      <td>8.00</td>\n",
              "    </tr>\n",
              "    <tr>\n",
              "      <th>234234</th>\n",
              "      <td>Jaime Lannister</td>\n",
              "      <td>3.7</td>\n",
              "      <td>6.4</td>\n",
              "      <td>5.05</td>\n",
              "    </tr>\n",
              "    <tr>\n",
              "      <th>345345</th>\n",
              "      <td>Catelyn Stark</td>\n",
              "      <td>9.0</td>\n",
              "      <td>8.6</td>\n",
              "      <td>8.80</td>\n",
              "    </tr>\n",
              "    <tr>\n",
              "      <th>456456</th>\n",
              "      <td>Viserys Targaryen</td>\n",
              "      <td>4.0</td>\n",
              "      <td>4.6</td>\n",
              "      <td>4.30</td>\n",
              "    </tr>\n",
              "    <tr>\n",
              "      <th>567567</th>\n",
              "      <td>Jon Snow</td>\n",
              "      <td>6.8</td>\n",
              "      <td>4.3</td>\n",
              "      <td>5.55</td>\n",
              "    </tr>\n",
              "    <tr>\n",
              "      <th>678678</th>\n",
              "      <td>Talisa Maegyr</td>\n",
              "      <td>7.6</td>\n",
              "      <td>0.0</td>\n",
              "      <td>3.80</td>\n",
              "    </tr>\n",
              "  </tbody>\n",
              "</table>\n",
              "</div>"
            ],
            "text/plain": [
              "                     Name  Exam  Practicals  Total Mark\n",
              "NIU                                                    \n",
              "111222     Davos Seaworth   6.0         5.4        5.70\n",
              "123123   Brienne of Tarth   8.5         7.5        8.00\n",
              "234234    Jaime Lannister   3.7         6.4        5.05\n",
              "345345      Catelyn Stark   9.0         8.6        8.80\n",
              "456456  Viserys Targaryen   4.0         4.6        4.30\n",
              "567567           Jon Snow   6.8         4.3        5.55\n",
              "678678      Talisa Maegyr   7.6         0.0        3.80"
            ]
          },
          "execution_count": 32,
          "metadata": {},
          "output_type": "execute_result"
        }
      ],
      "source": [
        "viewWithoutNaNs = dfStudents[dfStudents[\"Exam\"].notna()] # This is just a different view of the same data - the data itself has not been changed\n",
        "viewWithoutNaNs"
      ]
    },
    {
      "cell_type": "markdown",
      "id": "Z80leORx8XVy",
      "metadata": {
        "id": "Z80leORx8XVy"
      },
      "source": [
        "Let's fix that new row by providing values for all the columns:"
      ]
    },
    {
      "cell_type": "code",
      "execution_count": 33,
      "id": "BO-Am8Cw8XVy",
      "metadata": {
        "colab": {
          "base_uri": "https://localhost:8080/",
          "height": 331
        },
        "id": "BO-Am8Cw8XVy",
        "outputId": "81e8bbb9-bb53-4e74-c4b0-0702ff6fc78b"
      },
      "outputs": [
        {
          "data": {
            "text/html": [
              "<div>\n",
              "<style scoped>\n",
              "    .dataframe tbody tr th:only-of-type {\n",
              "        vertical-align: middle;\n",
              "    }\n",
              "\n",
              "    .dataframe tbody tr th {\n",
              "        vertical-align: top;\n",
              "    }\n",
              "\n",
              "    .dataframe thead th {\n",
              "        text-align: right;\n",
              "    }\n",
              "</style>\n",
              "<table border=\"1\" class=\"dataframe\">\n",
              "  <thead>\n",
              "    <tr style=\"text-align: right;\">\n",
              "      <th></th>\n",
              "      <th>Name</th>\n",
              "      <th>Exam</th>\n",
              "      <th>Practicals</th>\n",
              "      <th>Total Mark</th>\n",
              "    </tr>\n",
              "    <tr>\n",
              "      <th>NIU</th>\n",
              "      <th></th>\n",
              "      <th></th>\n",
              "      <th></th>\n",
              "      <th></th>\n",
              "    </tr>\n",
              "  </thead>\n",
              "  <tbody>\n",
              "    <tr>\n",
              "      <th>111222</th>\n",
              "      <td>Davos Seaworth</td>\n",
              "      <td>6.0</td>\n",
              "      <td>5.4</td>\n",
              "      <td>5.70</td>\n",
              "    </tr>\n",
              "    <tr>\n",
              "      <th>123123</th>\n",
              "      <td>Brienne of Tarth</td>\n",
              "      <td>8.5</td>\n",
              "      <td>7.5</td>\n",
              "      <td>8.00</td>\n",
              "    </tr>\n",
              "    <tr>\n",
              "      <th>234234</th>\n",
              "      <td>Jaime Lannister</td>\n",
              "      <td>3.7</td>\n",
              "      <td>6.4</td>\n",
              "      <td>5.05</td>\n",
              "    </tr>\n",
              "    <tr>\n",
              "      <th>345345</th>\n",
              "      <td>Catelyn Stark</td>\n",
              "      <td>9.0</td>\n",
              "      <td>8.6</td>\n",
              "      <td>8.80</td>\n",
              "    </tr>\n",
              "    <tr>\n",
              "      <th>456456</th>\n",
              "      <td>Viserys Targaryen</td>\n",
              "      <td>4.0</td>\n",
              "      <td>4.6</td>\n",
              "      <td>4.30</td>\n",
              "    </tr>\n",
              "    <tr>\n",
              "      <th>567567</th>\n",
              "      <td>Jon Snow</td>\n",
              "      <td>6.8</td>\n",
              "      <td>4.3</td>\n",
              "      <td>5.55</td>\n",
              "    </tr>\n",
              "    <tr>\n",
              "      <th>678678</th>\n",
              "      <td>Talisa Maegyr</td>\n",
              "      <td>7.6</td>\n",
              "      <td>0.0</td>\n",
              "      <td>3.80</td>\n",
              "    </tr>\n",
              "    <tr>\n",
              "      <th>Starfleet_1234</th>\n",
              "      <td>Jean Luc Picard</td>\n",
              "      <td>10.0</td>\n",
              "      <td>10.0</td>\n",
              "      <td>10.00</td>\n",
              "    </tr>\n",
              "  </tbody>\n",
              "</table>\n",
              "</div>"
            ],
            "text/plain": [
              "                             Name  Exam  Practicals  Total Mark\n",
              "NIU                                                            \n",
              "111222             Davos Seaworth   6.0         5.4        5.70\n",
              "123123           Brienne of Tarth   8.5         7.5        8.00\n",
              "234234            Jaime Lannister   3.7         6.4        5.05\n",
              "345345              Catelyn Stark   9.0         8.6        8.80\n",
              "456456          Viserys Targaryen   4.0         4.6        4.30\n",
              "567567                   Jon Snow   6.8         4.3        5.55\n",
              "678678              Talisa Maegyr   7.6         0.0        3.80\n",
              "Starfleet_1234    Jean Luc Picard  10.0        10.0       10.00"
            ]
          },
          "execution_count": 33,
          "metadata": {},
          "output_type": "execute_result"
        }
      ],
      "source": [
        "dfStudents.loc[\"Starfleet_1234\", :] = [\"Jean Luc Picard\", 10.0, 10.0, 10.0]\n",
        "\n",
        "# Or equivalently\n",
        "# dfStudents.at[\"Starfleet_1234\"] = [\"Jean Luc Picard\", 10.0, 10.0, 10.0]\n",
        "\n",
        "dfStudents"
      ]
    },
    {
      "cell_type": "markdown",
      "id": "wRNfzbT58XVz",
      "metadata": {
        "id": "wRNfzbT58XVz"
      },
      "source": [
        "Another way to add rows is to use `DataFrame.append()`\n",
        "\n",
        "https://pandas.pydata.org/pandas-docs/stable/reference/api/pandas.DataFrame.append.html"
      ]
    },
    {
      "cell_type": "code",
      "execution_count": 34,
      "id": "2smO7_p08XVz",
      "metadata": {
        "colab": {
          "base_uri": "https://localhost:8080/",
          "height": 363
        },
        "id": "2smO7_p08XVz",
        "outputId": "5eb294ea-73d0-4ce0-88f3-2508103d7e53"
      },
      "outputs": [
        {
          "data": {
            "text/html": [
              "<div>\n",
              "<style scoped>\n",
              "    .dataframe tbody tr th:only-of-type {\n",
              "        vertical-align: middle;\n",
              "    }\n",
              "\n",
              "    .dataframe tbody tr th {\n",
              "        vertical-align: top;\n",
              "    }\n",
              "\n",
              "    .dataframe thead th {\n",
              "        text-align: right;\n",
              "    }\n",
              "</style>\n",
              "<table border=\"1\" class=\"dataframe\">\n",
              "  <thead>\n",
              "    <tr style=\"text-align: right;\">\n",
              "      <th></th>\n",
              "      <th>Name</th>\n",
              "      <th>Exam</th>\n",
              "      <th>Practicals</th>\n",
              "      <th>Total Mark</th>\n",
              "    </tr>\n",
              "    <tr>\n",
              "      <th>NIU</th>\n",
              "      <th></th>\n",
              "      <th></th>\n",
              "      <th></th>\n",
              "      <th></th>\n",
              "    </tr>\n",
              "  </thead>\n",
              "  <tbody>\n",
              "    <tr>\n",
              "      <th>111222</th>\n",
              "      <td>Davos Seaworth</td>\n",
              "      <td>6.0</td>\n",
              "      <td>5.4</td>\n",
              "      <td>5.70</td>\n",
              "    </tr>\n",
              "    <tr>\n",
              "      <th>123123</th>\n",
              "      <td>Brienne of Tarth</td>\n",
              "      <td>8.5</td>\n",
              "      <td>7.5</td>\n",
              "      <td>8.00</td>\n",
              "    </tr>\n",
              "    <tr>\n",
              "      <th>234234</th>\n",
              "      <td>Jaime Lannister</td>\n",
              "      <td>3.7</td>\n",
              "      <td>6.4</td>\n",
              "      <td>5.05</td>\n",
              "    </tr>\n",
              "    <tr>\n",
              "      <th>345345</th>\n",
              "      <td>Catelyn Stark</td>\n",
              "      <td>9.0</td>\n",
              "      <td>8.6</td>\n",
              "      <td>8.80</td>\n",
              "    </tr>\n",
              "    <tr>\n",
              "      <th>456456</th>\n",
              "      <td>Viserys Targaryen</td>\n",
              "      <td>4.0</td>\n",
              "      <td>4.6</td>\n",
              "      <td>4.30</td>\n",
              "    </tr>\n",
              "    <tr>\n",
              "      <th>567567</th>\n",
              "      <td>Jon Snow</td>\n",
              "      <td>6.8</td>\n",
              "      <td>4.3</td>\n",
              "      <td>5.55</td>\n",
              "    </tr>\n",
              "    <tr>\n",
              "      <th>678678</th>\n",
              "      <td>Talisa Maegyr</td>\n",
              "      <td>7.6</td>\n",
              "      <td>0.0</td>\n",
              "      <td>3.80</td>\n",
              "    </tr>\n",
              "    <tr>\n",
              "      <th>Starfleet_1234</th>\n",
              "      <td>Jean Luc Picard</td>\n",
              "      <td>10.0</td>\n",
              "      <td>10.0</td>\n",
              "      <td>10.00</td>\n",
              "    </tr>\n",
              "    <tr>\n",
              "      <th>Starfleet_5678</th>\n",
              "      <td>Seven of Nine</td>\n",
              "      <td>10.0</td>\n",
              "      <td>10.0</td>\n",
              "      <td>10.00</td>\n",
              "    </tr>\n",
              "  </tbody>\n",
              "</table>\n",
              "</div>"
            ],
            "text/plain": [
              "                             Name  Exam  Practicals  Total Mark\n",
              "NIU                                                            \n",
              "111222             Davos Seaworth   6.0         5.4        5.70\n",
              "123123           Brienne of Tarth   8.5         7.5        8.00\n",
              "234234            Jaime Lannister   3.7         6.4        5.05\n",
              "345345              Catelyn Stark   9.0         8.6        8.80\n",
              "456456          Viserys Targaryen   4.0         4.6        4.30\n",
              "567567                   Jon Snow   6.8         4.3        5.55\n",
              "678678              Talisa Maegyr   7.6         0.0        3.80\n",
              "Starfleet_1234    Jean Luc Picard  10.0        10.0       10.00\n",
              "Starfleet_5678      Seven of Nine  10.0        10.0       10.00"
            ]
          },
          "execution_count": 34,
          "metadata": {},
          "output_type": "execute_result"
        }
      ],
      "source": [
        "dfStudents._append(pd.Series([\"Seven of Nine\", 10.0, 10.0, 10.0], index = [\"Name\", \"Exam\", \"Practicals\", \"Total Mark\"], name = \"Starfleet_5678\"))"
      ]
    },
    {
      "cell_type": "markdown",
      "id": "VqRmKGHH8XVz",
      "metadata": {
        "id": "VqRmKGHH8XVz"
      },
      "source": [
        "Check though that `append()` returns a new object, it does not change the original. Check it out:"
      ]
    },
    {
      "cell_type": "code",
      "execution_count": 35,
      "id": "tE7axi9B8XVz",
      "metadata": {
        "colab": {
          "base_uri": "https://localhost:8080/",
          "height": 331
        },
        "id": "tE7axi9B8XVz",
        "outputId": "255b0efa-ce7d-4e0e-a48c-93c561982569"
      },
      "outputs": [
        {
          "data": {
            "text/html": [
              "<div>\n",
              "<style scoped>\n",
              "    .dataframe tbody tr th:only-of-type {\n",
              "        vertical-align: middle;\n",
              "    }\n",
              "\n",
              "    .dataframe tbody tr th {\n",
              "        vertical-align: top;\n",
              "    }\n",
              "\n",
              "    .dataframe thead th {\n",
              "        text-align: right;\n",
              "    }\n",
              "</style>\n",
              "<table border=\"1\" class=\"dataframe\">\n",
              "  <thead>\n",
              "    <tr style=\"text-align: right;\">\n",
              "      <th></th>\n",
              "      <th>Name</th>\n",
              "      <th>Exam</th>\n",
              "      <th>Practicals</th>\n",
              "      <th>Total Mark</th>\n",
              "    </tr>\n",
              "    <tr>\n",
              "      <th>NIU</th>\n",
              "      <th></th>\n",
              "      <th></th>\n",
              "      <th></th>\n",
              "      <th></th>\n",
              "    </tr>\n",
              "  </thead>\n",
              "  <tbody>\n",
              "    <tr>\n",
              "      <th>111222</th>\n",
              "      <td>Davos Seaworth</td>\n",
              "      <td>6.0</td>\n",
              "      <td>5.4</td>\n",
              "      <td>5.70</td>\n",
              "    </tr>\n",
              "    <tr>\n",
              "      <th>123123</th>\n",
              "      <td>Brienne of Tarth</td>\n",
              "      <td>8.5</td>\n",
              "      <td>7.5</td>\n",
              "      <td>8.00</td>\n",
              "    </tr>\n",
              "    <tr>\n",
              "      <th>234234</th>\n",
              "      <td>Jaime Lannister</td>\n",
              "      <td>3.7</td>\n",
              "      <td>6.4</td>\n",
              "      <td>5.05</td>\n",
              "    </tr>\n",
              "    <tr>\n",
              "      <th>345345</th>\n",
              "      <td>Catelyn Stark</td>\n",
              "      <td>9.0</td>\n",
              "      <td>8.6</td>\n",
              "      <td>8.80</td>\n",
              "    </tr>\n",
              "    <tr>\n",
              "      <th>456456</th>\n",
              "      <td>Viserys Targaryen</td>\n",
              "      <td>4.0</td>\n",
              "      <td>4.6</td>\n",
              "      <td>4.30</td>\n",
              "    </tr>\n",
              "    <tr>\n",
              "      <th>567567</th>\n",
              "      <td>Jon Snow</td>\n",
              "      <td>6.8</td>\n",
              "      <td>4.3</td>\n",
              "      <td>5.55</td>\n",
              "    </tr>\n",
              "    <tr>\n",
              "      <th>678678</th>\n",
              "      <td>Talisa Maegyr</td>\n",
              "      <td>7.6</td>\n",
              "      <td>0.0</td>\n",
              "      <td>3.80</td>\n",
              "    </tr>\n",
              "    <tr>\n",
              "      <th>Starfleet_1234</th>\n",
              "      <td>Jean Luc Picard</td>\n",
              "      <td>10.0</td>\n",
              "      <td>10.0</td>\n",
              "      <td>10.00</td>\n",
              "    </tr>\n",
              "  </tbody>\n",
              "</table>\n",
              "</div>"
            ],
            "text/plain": [
              "                             Name  Exam  Practicals  Total Mark\n",
              "NIU                                                            \n",
              "111222             Davos Seaworth   6.0         5.4        5.70\n",
              "123123           Brienne of Tarth   8.5         7.5        8.00\n",
              "234234            Jaime Lannister   3.7         6.4        5.05\n",
              "345345              Catelyn Stark   9.0         8.6        8.80\n",
              "456456          Viserys Targaryen   4.0         4.6        4.30\n",
              "567567                   Jon Snow   6.8         4.3        5.55\n",
              "678678              Talisa Maegyr   7.6         0.0        3.80\n",
              "Starfleet_1234    Jean Luc Picard  10.0        10.0       10.00"
            ]
          },
          "execution_count": 35,
          "metadata": {},
          "output_type": "execute_result"
        }
      ],
      "source": [
        "dfStudents"
      ]
    },
    {
      "cell_type": "markdown",
      "id": "kPtRGaUa8XV0",
      "metadata": {
        "id": "kPtRGaUa8XV0"
      },
      "source": [
        "If we wanted to save this change, we should do this:"
      ]
    },
    {
      "cell_type": "code",
      "execution_count": 36,
      "id": "WLkS4RQ48XV0",
      "metadata": {
        "colab": {
          "base_uri": "https://localhost:8080/",
          "height": 363
        },
        "id": "WLkS4RQ48XV0",
        "outputId": "e738248c-05f1-430f-e0e8-5851df01cbd6"
      },
      "outputs": [
        {
          "data": {
            "text/html": [
              "<div>\n",
              "<style scoped>\n",
              "    .dataframe tbody tr th:only-of-type {\n",
              "        vertical-align: middle;\n",
              "    }\n",
              "\n",
              "    .dataframe tbody tr th {\n",
              "        vertical-align: top;\n",
              "    }\n",
              "\n",
              "    .dataframe thead th {\n",
              "        text-align: right;\n",
              "    }\n",
              "</style>\n",
              "<table border=\"1\" class=\"dataframe\">\n",
              "  <thead>\n",
              "    <tr style=\"text-align: right;\">\n",
              "      <th></th>\n",
              "      <th>Name</th>\n",
              "      <th>Exam</th>\n",
              "      <th>Practicals</th>\n",
              "      <th>Total Mark</th>\n",
              "    </tr>\n",
              "    <tr>\n",
              "      <th>NIU</th>\n",
              "      <th></th>\n",
              "      <th></th>\n",
              "      <th></th>\n",
              "      <th></th>\n",
              "    </tr>\n",
              "  </thead>\n",
              "  <tbody>\n",
              "    <tr>\n",
              "      <th>111222</th>\n",
              "      <td>Davos Seaworth</td>\n",
              "      <td>6.0</td>\n",
              "      <td>5.4</td>\n",
              "      <td>5.70</td>\n",
              "    </tr>\n",
              "    <tr>\n",
              "      <th>123123</th>\n",
              "      <td>Brienne of Tarth</td>\n",
              "      <td>8.5</td>\n",
              "      <td>7.5</td>\n",
              "      <td>8.00</td>\n",
              "    </tr>\n",
              "    <tr>\n",
              "      <th>234234</th>\n",
              "      <td>Jaime Lannister</td>\n",
              "      <td>3.7</td>\n",
              "      <td>6.4</td>\n",
              "      <td>5.05</td>\n",
              "    </tr>\n",
              "    <tr>\n",
              "      <th>345345</th>\n",
              "      <td>Catelyn Stark</td>\n",
              "      <td>9.0</td>\n",
              "      <td>8.6</td>\n",
              "      <td>8.80</td>\n",
              "    </tr>\n",
              "    <tr>\n",
              "      <th>456456</th>\n",
              "      <td>Viserys Targaryen</td>\n",
              "      <td>4.0</td>\n",
              "      <td>4.6</td>\n",
              "      <td>4.30</td>\n",
              "    </tr>\n",
              "    <tr>\n",
              "      <th>567567</th>\n",
              "      <td>Jon Snow</td>\n",
              "      <td>6.8</td>\n",
              "      <td>4.3</td>\n",
              "      <td>5.55</td>\n",
              "    </tr>\n",
              "    <tr>\n",
              "      <th>678678</th>\n",
              "      <td>Talisa Maegyr</td>\n",
              "      <td>7.6</td>\n",
              "      <td>0.0</td>\n",
              "      <td>3.80</td>\n",
              "    </tr>\n",
              "    <tr>\n",
              "      <th>Starfleet_1234</th>\n",
              "      <td>Jean Luc Picard</td>\n",
              "      <td>10.0</td>\n",
              "      <td>10.0</td>\n",
              "      <td>10.00</td>\n",
              "    </tr>\n",
              "    <tr>\n",
              "      <th>Starfleet_5678</th>\n",
              "      <td>Seven of Nine</td>\n",
              "      <td>10.0</td>\n",
              "      <td>10.0</td>\n",
              "      <td>10.00</td>\n",
              "    </tr>\n",
              "  </tbody>\n",
              "</table>\n",
              "</div>"
            ],
            "text/plain": [
              "                             Name  Exam  Practicals  Total Mark\n",
              "NIU                                                            \n",
              "111222             Davos Seaworth   6.0         5.4        5.70\n",
              "123123           Brienne of Tarth   8.5         7.5        8.00\n",
              "234234            Jaime Lannister   3.7         6.4        5.05\n",
              "345345              Catelyn Stark   9.0         8.6        8.80\n",
              "456456          Viserys Targaryen   4.0         4.6        4.30\n",
              "567567                   Jon Snow   6.8         4.3        5.55\n",
              "678678              Talisa Maegyr   7.6         0.0        3.80\n",
              "Starfleet_1234    Jean Luc Picard  10.0        10.0       10.00\n",
              "Starfleet_5678      Seven of Nine  10.0        10.0       10.00"
            ]
          },
          "execution_count": 36,
          "metadata": {},
          "output_type": "execute_result"
        }
      ],
      "source": [
        "dfStudents = dfStudents._append(pd.Series([\"Seven of Nine\", 10.0, 10.0, 10.0], index = [\"Name\", \"Exam\", \"Practicals\", \"Total Mark\"], name = \"Starfleet_5678\"))\n",
        "dfStudents"
      ]
    },
    {
      "cell_type": "markdown",
      "id": "Fblx3m6u8XV0",
      "metadata": {
        "id": "Fblx3m6u8XV0"
      },
      "source": [
        "Ok, Jean Luc and Seven of Nine are a bit out of place here, let's drop these two rows, literally:"
      ]
    },
    {
      "cell_type": "code",
      "execution_count": 37,
      "id": "NkoEileS8XV0",
      "metadata": {
        "colab": {
          "base_uri": "https://localhost:8080/",
          "height": 300
        },
        "id": "NkoEileS8XV0",
        "outputId": "1b4baae4-a13a-43b5-f721-108586921ab5"
      },
      "outputs": [
        {
          "data": {
            "text/html": [
              "<div>\n",
              "<style scoped>\n",
              "    .dataframe tbody tr th:only-of-type {\n",
              "        vertical-align: middle;\n",
              "    }\n",
              "\n",
              "    .dataframe tbody tr th {\n",
              "        vertical-align: top;\n",
              "    }\n",
              "\n",
              "    .dataframe thead th {\n",
              "        text-align: right;\n",
              "    }\n",
              "</style>\n",
              "<table border=\"1\" class=\"dataframe\">\n",
              "  <thead>\n",
              "    <tr style=\"text-align: right;\">\n",
              "      <th></th>\n",
              "      <th>Name</th>\n",
              "      <th>Exam</th>\n",
              "      <th>Practicals</th>\n",
              "      <th>Total Mark</th>\n",
              "    </tr>\n",
              "    <tr>\n",
              "      <th>NIU</th>\n",
              "      <th></th>\n",
              "      <th></th>\n",
              "      <th></th>\n",
              "      <th></th>\n",
              "    </tr>\n",
              "  </thead>\n",
              "  <tbody>\n",
              "    <tr>\n",
              "      <th>111222</th>\n",
              "      <td>Davos Seaworth</td>\n",
              "      <td>6.0</td>\n",
              "      <td>5.4</td>\n",
              "      <td>5.70</td>\n",
              "    </tr>\n",
              "    <tr>\n",
              "      <th>123123</th>\n",
              "      <td>Brienne of Tarth</td>\n",
              "      <td>8.5</td>\n",
              "      <td>7.5</td>\n",
              "      <td>8.00</td>\n",
              "    </tr>\n",
              "    <tr>\n",
              "      <th>234234</th>\n",
              "      <td>Jaime Lannister</td>\n",
              "      <td>3.7</td>\n",
              "      <td>6.4</td>\n",
              "      <td>5.05</td>\n",
              "    </tr>\n",
              "    <tr>\n",
              "      <th>345345</th>\n",
              "      <td>Catelyn Stark</td>\n",
              "      <td>9.0</td>\n",
              "      <td>8.6</td>\n",
              "      <td>8.80</td>\n",
              "    </tr>\n",
              "    <tr>\n",
              "      <th>456456</th>\n",
              "      <td>Viserys Targaryen</td>\n",
              "      <td>4.0</td>\n",
              "      <td>4.6</td>\n",
              "      <td>4.30</td>\n",
              "    </tr>\n",
              "    <tr>\n",
              "      <th>567567</th>\n",
              "      <td>Jon Snow</td>\n",
              "      <td>6.8</td>\n",
              "      <td>4.3</td>\n",
              "      <td>5.55</td>\n",
              "    </tr>\n",
              "    <tr>\n",
              "      <th>678678</th>\n",
              "      <td>Talisa Maegyr</td>\n",
              "      <td>7.6</td>\n",
              "      <td>0.0</td>\n",
              "      <td>3.80</td>\n",
              "    </tr>\n",
              "  </tbody>\n",
              "</table>\n",
              "</div>"
            ],
            "text/plain": [
              "                     Name  Exam  Practicals  Total Mark\n",
              "NIU                                                    \n",
              "111222     Davos Seaworth   6.0         5.4        5.70\n",
              "123123   Brienne of Tarth   8.5         7.5        8.00\n",
              "234234    Jaime Lannister   3.7         6.4        5.05\n",
              "345345      Catelyn Stark   9.0         8.6        8.80\n",
              "456456  Viserys Targaryen   4.0         4.6        4.30\n",
              "567567           Jon Snow   6.8         4.3        5.55\n",
              "678678      Talisa Maegyr   7.6         0.0        3.80"
            ]
          },
          "execution_count": 37,
          "metadata": {},
          "output_type": "execute_result"
        }
      ],
      "source": [
        "dfStudents.drop(\"Starfleet_1234\", inplace = True) # If we do not use inplace = True, then the function will return a view of the data\n",
        "dfStudents.drop(\"Starfleet_5678\", inplace = True)\n",
        "dfStudents"
      ]
    },
    {
      "cell_type": "markdown",
      "id": "r0Zz-KZh8XV0",
      "metadata": {
        "id": "r0Zz-KZh8XV0"
      },
      "source": [
        "We can now ask pandas for some quick statistics for the columns that contain numbers, by calling the function `DataFrame.describe()`"
      ]
    },
    {
      "cell_type": "code",
      "execution_count": 38,
      "id": "fSg5Cyq08XV0",
      "metadata": {
        "colab": {
          "base_uri": "https://localhost:8080/",
          "height": 300
        },
        "id": "fSg5Cyq08XV0",
        "outputId": "8d265974-7af5-4c5d-fb2a-a226199927f5"
      },
      "outputs": [
        {
          "data": {
            "text/html": [
              "<div>\n",
              "<style scoped>\n",
              "    .dataframe tbody tr th:only-of-type {\n",
              "        vertical-align: middle;\n",
              "    }\n",
              "\n",
              "    .dataframe tbody tr th {\n",
              "        vertical-align: top;\n",
              "    }\n",
              "\n",
              "    .dataframe thead th {\n",
              "        text-align: right;\n",
              "    }\n",
              "</style>\n",
              "<table border=\"1\" class=\"dataframe\">\n",
              "  <thead>\n",
              "    <tr style=\"text-align: right;\">\n",
              "      <th></th>\n",
              "      <th>Exam</th>\n",
              "      <th>Practicals</th>\n",
              "      <th>Total Mark</th>\n",
              "    </tr>\n",
              "  </thead>\n",
              "  <tbody>\n",
              "    <tr>\n",
              "      <th>count</th>\n",
              "      <td>7.000000</td>\n",
              "      <td>7.000000</td>\n",
              "      <td>7.000000</td>\n",
              "    </tr>\n",
              "    <tr>\n",
              "      <th>mean</th>\n",
              "      <td>6.514286</td>\n",
              "      <td>5.257143</td>\n",
              "      <td>5.885714</td>\n",
              "    </tr>\n",
              "    <tr>\n",
              "      <th>std</th>\n",
              "      <td>2.077200</td>\n",
              "      <td>2.784395</td>\n",
              "      <td>1.856231</td>\n",
              "    </tr>\n",
              "    <tr>\n",
              "      <th>min</th>\n",
              "      <td>3.700000</td>\n",
              "      <td>0.000000</td>\n",
              "      <td>3.800000</td>\n",
              "    </tr>\n",
              "    <tr>\n",
              "      <th>25%</th>\n",
              "      <td>5.000000</td>\n",
              "      <td>4.450000</td>\n",
              "      <td>4.675000</td>\n",
              "    </tr>\n",
              "    <tr>\n",
              "      <th>50%</th>\n",
              "      <td>6.800000</td>\n",
              "      <td>5.400000</td>\n",
              "      <td>5.550000</td>\n",
              "    </tr>\n",
              "    <tr>\n",
              "      <th>75%</th>\n",
              "      <td>8.050000</td>\n",
              "      <td>6.950000</td>\n",
              "      <td>6.850000</td>\n",
              "    </tr>\n",
              "    <tr>\n",
              "      <th>max</th>\n",
              "      <td>9.000000</td>\n",
              "      <td>8.600000</td>\n",
              "      <td>8.800000</td>\n",
              "    </tr>\n",
              "  </tbody>\n",
              "</table>\n",
              "</div>"
            ],
            "text/plain": [
              "           Exam  Practicals  Total Mark\n",
              "count  7.000000    7.000000    7.000000\n",
              "mean   6.514286    5.257143    5.885714\n",
              "std    2.077200    2.784395    1.856231\n",
              "min    3.700000    0.000000    3.800000\n",
              "25%    5.000000    4.450000    4.675000\n",
              "50%    6.800000    5.400000    5.550000\n",
              "75%    8.050000    6.950000    6.850000\n",
              "max    9.000000    8.600000    8.800000"
            ]
          },
          "execution_count": 38,
          "metadata": {},
          "output_type": "execute_result"
        }
      ],
      "source": [
        "dfStudents.describe()"
      ]
    },
    {
      "cell_type": "markdown",
      "id": "B70JNo__8XV1",
      "metadata": {
        "id": "B70JNo__8XV1"
      },
      "source": [
        "Or for a specific series"
      ]
    },
    {
      "cell_type": "code",
      "execution_count": 39,
      "id": "Uu6chOM28XV1",
      "metadata": {
        "colab": {
          "base_uri": "https://localhost:8080/",
          "height": 335
        },
        "id": "Uu6chOM28XV1",
        "outputId": "fb242f1e-4ef3-4390-fc01-7052ef1d0483"
      },
      "outputs": [
        {
          "data": {
            "text/plain": [
              "count    7.000000\n",
              "mean     5.885714\n",
              "std      1.856231\n",
              "min      3.800000\n",
              "25%      4.675000\n",
              "50%      5.550000\n",
              "75%      6.850000\n",
              "max      8.800000\n",
              "Name: Total Mark, dtype: float64"
            ]
          },
          "execution_count": 39,
          "metadata": {},
          "output_type": "execute_result"
        }
      ],
      "source": [
        "dfStudents[\"Total Mark\"].describe()"
      ]
    },
    {
      "cell_type": "markdown",
      "id": "cEflcH-98XV1",
      "metadata": {
        "id": "cEflcH-98XV1"
      },
      "source": [
        "# Grading students (work in groups)"
      ]
    },
    {
      "cell_type": "markdown",
      "id": "d97EOAl68XV1",
      "metadata": {
        "id": "d97EOAl68XV1"
      },
      "source": [
        "This is the same problemas you did in Problems #2. You are now asked to repeat it, but using pandas.\n",
        "\n",
        "You have been given a list of students in a CSV (Comma Separated Values) file, along with the evaluation scores for a series of works they have submitted. The table of data looks like this:\n",
        "\n",
        "| student_id                           | Score  | Submission_Time  |\n",
        "| ------------------------------------ |:------:| ----------------:|\n",
        "| B73F2C11-70F0-E37D-8B10-1D20AFED50B1 | 92.7   | 02/11/2015 06:55 |\n",
        "| 98A0FAE0-A19A-13D2-4BB5-CFBFD94031D1 | 86.8   | 29/11/2015 14:57 |\n",
        "| D0F62040-CEB0-904C-F563-2F8620916C4E | 85.5   | 09/01/2016 05:36 |\n",
        "| FFDF2B2C-F514-EF7F-6538-A6A53518E9DC | 86.0   | 30/04/2016 06:50 |\n",
        "| 5ECBEEB6-F1CE-80AE-3164-E45E99473FB4 | 64.8   | 13/12/2015 17:06 |\n",
        "| ... | ... | ... |\n",
        "\n",
        "\n",
        "In this exercise we will import and manipulate this data. A lot of code is already given. When code is asked for, this is indicated <font color=blue>in blue</font>."
      ]
    },
    {
      "cell_type": "markdown",
      "id": "EDt_EgFP8XV1",
      "metadata": {
        "id": "EDt_EgFP8XV1"
      },
      "source": [
        "<br>\n",
        "\n",
        "First, let's get the data in from a csv file. To do this with pandas we will use the following code. At the time of opening the file, we can specify to panda how to treat different columns. Here we say that want the column called \"student_id\" to be the index columns, and also that the submission time should be parsed as a date"
      ]
    },
    {
      "cell_type": "code",
      "execution_count": 64,
      "id": "tr7Ty5fa8XV1",
      "metadata": {
        "id": "tr7Ty5fa8XV1"
      },
      "outputs": [],
      "source": [
        "grades = pd.read_csv(\"grades.csv\", parse_dates=['Submission_Time'], dayfirst=True)"
      ]
    },
    {
      "cell_type": "code",
      "execution_count": 65,
      "id": "wArk3fyQ8XV1",
      "metadata": {
        "colab": {
          "base_uri": "https://localhost:8080/"
        },
        "id": "wArk3fyQ8XV1",
        "outputId": "52bb0f0d-6a8e-4491-ca25-092403cbd342"
      },
      "outputs": [
        {
          "name": "stdout",
          "output_type": "stream",
          "text": [
            "<class 'pandas.core.frame.DataFrame'>\n",
            "RangeIndex: 2315 entries, 0 to 2314\n",
            "Data columns (total 3 columns):\n",
            " #   Column           Non-Null Count  Dtype         \n",
            "---  ------           --------------  -----         \n",
            " 0   student_id       2315 non-null   object        \n",
            " 1   Score            2315 non-null   float64       \n",
            " 2   Submission_Time  2315 non-null   datetime64[ns]\n",
            "dtypes: datetime64[ns](1), float64(1), object(1)\n",
            "memory usage: 54.4+ KB\n"
          ]
        }
      ],
      "source": [
        "grades.info()"
      ]
    },
    {
      "cell_type": "markdown",
      "id": "MvvqIat_8XV2",
      "metadata": {
        "id": "MvvqIat_8XV2"
      },
      "source": [
        "We read 2315 rows and 3 columns. Note that the Submission_Time column is of type `datetime64`. This is type of numpy, you can read more about it here\n",
        "\n",
        "https://numpy.org/doc/stable/reference/arrays.datetime.html\n",
        "\n",
        "Let's have a look at the first few entries"
      ]
    },
    {
      "cell_type": "code",
      "execution_count": 66,
      "id": "WvDJ9zBM8XV2",
      "metadata": {
        "colab": {
          "base_uri": "https://localhost:8080/",
          "height": 206
        },
        "id": "WvDJ9zBM8XV2",
        "outputId": "b6317543-84d6-4be6-a87b-f65e32bbd8a7"
      },
      "outputs": [
        {
          "data": {
            "text/html": [
              "<div>\n",
              "<style scoped>\n",
              "    .dataframe tbody tr th:only-of-type {\n",
              "        vertical-align: middle;\n",
              "    }\n",
              "\n",
              "    .dataframe tbody tr th {\n",
              "        vertical-align: top;\n",
              "    }\n",
              "\n",
              "    .dataframe thead th {\n",
              "        text-align: right;\n",
              "    }\n",
              "</style>\n",
              "<table border=\"1\" class=\"dataframe\">\n",
              "  <thead>\n",
              "    <tr style=\"text-align: right;\">\n",
              "      <th></th>\n",
              "      <th>student_id</th>\n",
              "      <th>Score</th>\n",
              "      <th>Submission_Time</th>\n",
              "    </tr>\n",
              "  </thead>\n",
              "  <tbody>\n",
              "    <tr>\n",
              "      <th>0</th>\n",
              "      <td>B73F2C11-70F0-E37D-8B10-1D20AFED50B1</td>\n",
              "      <td>92.7</td>\n",
              "      <td>2015-11-02 06:55:34</td>\n",
              "    </tr>\n",
              "    <tr>\n",
              "      <th>1</th>\n",
              "      <td>98A0FAE0-A19A-13D2-4BB5-CFBFD94031D1</td>\n",
              "      <td>86.8</td>\n",
              "      <td>2015-11-29 14:57:44</td>\n",
              "    </tr>\n",
              "    <tr>\n",
              "      <th>2</th>\n",
              "      <td>D0F62040-CEB0-904C-F563-2F8620916C4E</td>\n",
              "      <td>85.5</td>\n",
              "      <td>2016-01-09 05:36:02</td>\n",
              "    </tr>\n",
              "    <tr>\n",
              "      <th>3</th>\n",
              "      <td>FFDF2B2C-F514-EF7F-6538-A6A53518E9DC</td>\n",
              "      <td>86.0</td>\n",
              "      <td>2016-04-30 06:50:40</td>\n",
              "    </tr>\n",
              "    <tr>\n",
              "      <th>4</th>\n",
              "      <td>5ECBEEB6-F1CE-80AE-3164-E45E99473FB4</td>\n",
              "      <td>64.8</td>\n",
              "      <td>2015-12-13 17:06:11</td>\n",
              "    </tr>\n",
              "  </tbody>\n",
              "</table>\n",
              "</div>"
            ],
            "text/plain": [
              "                             student_id  Score     Submission_Time\n",
              "0  B73F2C11-70F0-E37D-8B10-1D20AFED50B1   92.7 2015-11-02 06:55:34\n",
              "1  98A0FAE0-A19A-13D2-4BB5-CFBFD94031D1   86.8 2015-11-29 14:57:44\n",
              "2  D0F62040-CEB0-904C-F563-2F8620916C4E   85.5 2016-01-09 05:36:02\n",
              "3  FFDF2B2C-F514-EF7F-6538-A6A53518E9DC   86.0 2016-04-30 06:50:40\n",
              "4  5ECBEEB6-F1CE-80AE-3164-E45E99473FB4   64.8 2015-12-13 17:06:11"
            ]
          },
          "execution_count": 66,
          "metadata": {},
          "output_type": "execute_result"
        }
      ],
      "source": [
        "grades.head()"
      ]
    },
    {
      "cell_type": "markdown",
      "id": "LyZeZKSa8XV2",
      "metadata": {
        "id": "LyZeZKSa8XV2"
      },
      "source": [
        "<br>\n",
        "\n",
        "<font color=\"blue\">**Exercise** Print out the students that scored below 20 or above 99.5</font>"
      ]
    },
    {
      "cell_type": "code",
      "execution_count": 67,
      "id": "xhG_OMNU8XV2",
      "metadata": {
        "id": "xhG_OMNU8XV2",
        "scrolled": true
      },
      "outputs": [
        {
          "name": "stdout",
          "output_type": "stream",
          "text": [
            "                                student_id  Score     Submission_Time\n",
            "15    24827B50-2FC2-E4B0-E2A0-1989E17749B3   15.0 2015-11-17 01:16:08\n",
            "23    4D914022-B7D7-52C4-A1BB-479166DB7347   99.9 2016-01-11 01:21:31\n",
            "105   3B504879-A423-479F-F6C4-6BB5A6FB43E6  100.0 2016-01-23 20:30:07\n",
            "226   DDE0526B-7DA4-80E8-C2A6-D097F3826029   18.0 2016-01-05 05:43:54\n",
            "339   6D2AB78F-44F4-2E8B-5C5E-B79119BC7EAC   19.0 2016-01-08 21:52:29\n",
            "369   DDE0526B-7DA4-80E8-C2A6-D097F3826029   99.6 2016-01-24 07:39:40\n",
            "460   DDE0526B-7DA4-80E8-C2A6-D097F3826029   99.9 2016-01-11 01:55:29\n",
            "469   247B105C-2067-A7AA-2CBE-B65278128C96  100.0 2015-10-29 21:27:45\n",
            "475   EFDA9F93-D0C3-864F-B0F6-2E9AA3E05E31   99.8 2015-12-25 05:36:30\n",
            "789   1F51E050-78F7-F270-1B90-ED1BC0376763   99.8 2016-01-24 19:56:52\n",
            "835   DE88902E-C7A7-E37A-CFA7-F2C8F2D219F2   99.6 2015-10-06 15:53:25\n",
            "895   5AB0D44C-86FF-2DE6-B096-B0F5D029E430   99.8 2016-02-11 00:37:02\n",
            "897   1F51E050-78F7-F270-1B90-ED1BC0376763   19.9 2015-09-19 02:53:55\n",
            "955   2B806EF6-A590-1C00-F0C5-1469E3B2152E   99.7 2015-11-09 17:23:10\n",
            "1054  DDE0526B-7DA4-80E8-C2A6-D097F3826029   99.6 2015-10-18 11:00:13\n",
            "1059  5AB0D44C-86FF-2DE6-B096-B0F5D029E430   99.9 2016-04-12 23:04:22\n",
            "1151  247B105C-2067-A7AA-2CBE-B65278128C96  100.0 2015-10-18 05:57:30\n",
            "1415  2B806EF6-A590-1C00-F0C5-1469E3B2152E  100.0 2015-10-14 17:12:15\n",
            "1424  EFDA9F93-D0C3-864F-B0F6-2E9AA3E05E31   14.4 2016-02-07 21:22:54\n",
            "1446  25197F10-E9E9-4C50-63F8-6C896975AAE2  100.0 2015-10-04 23:38:28\n",
            "1498  DDE0526B-7DA4-80E8-C2A6-D097F3826029  100.0 2015-10-15 17:30:28\n",
            "1510  2B806EF6-A590-1C00-F0C5-1469E3B2152E  100.0 2015-09-29 05:34:14\n",
            "1686  247B105C-2067-A7AA-2CBE-B65278128C96  100.0 2015-12-29 19:20:51\n",
            "1885  2B806EF6-A590-1C00-F0C5-1469E3B2152E  100.0 2015-10-17 18:03:52\n",
            "1929  2B806EF6-A590-1C00-F0C5-1469E3B2152E   18.5 2015-09-19 14:32:44\n",
            "1982  247B105C-2067-A7AA-2CBE-B65278128C96   99.9 2016-01-26 05:14:16\n",
            "2122  DE88902E-C7A7-E37A-CFA7-F2C8F2D219F2   99.7 2015-12-26 13:41:45\n",
            "2173  6D2AB78F-44F4-2E8B-5C5E-B79119BC7EAC   99.8 2016-03-21 06:54:45\n",
            "2192  5AB0D44C-86FF-2DE6-B096-B0F5D029E430   99.7 2016-02-21 21:11:41\n",
            "2210  1F51E050-78F7-F270-1B90-ED1BC0376763   99.7 2016-05-11 20:19:28\n",
            "2234  2B806EF6-A590-1C00-F0C5-1469E3B2152E   99.6 2015-11-26 14:44:36\n",
            "2237  247B105C-2067-A7AA-2CBE-B65278128C96   19.5 2015-12-26 21:56:19\n",
            "2288  DDE0526B-7DA4-80E8-C2A6-D097F3826029  100.0 2015-10-18 22:08:01\n"
          ]
        }
      ],
      "source": [
        "# Your Code Here\n",
        "min_value = 20\n",
        "max_value = 99.5\n",
        "scored_below_or_over = (grades[\"Score\"] > max_value) | (grades[\"Score\"] < min_value)\n",
        "filtered_grades = grades[scored_below_or_over]\n",
        "print(filtered_grades)"
      ]
    },
    {
      "cell_type": "markdown",
      "id": "DXjqaykY8XV2",
      "metadata": {
        "id": "DXjqaykY8XV2"
      },
      "source": [
        "<font color=blue>**Exercise** Filter out the students that submitted their work after 2015-12-31. We give you the deadline definition below.</font>"
      ]
    },
    {
      "cell_type": "code",
      "execution_count": 68,
      "id": "xEnnC9gh8XV2",
      "metadata": {
        "id": "xEnnC9gh8XV2"
      },
      "outputs": [],
      "source": [
        "import numpy as np\n",
        "deadline = np.datetime64('2015-12-31')"
      ]
    },
    {
      "cell_type": "code",
      "execution_count": 75,
      "id": "Ci3pmZUg8XV2",
      "metadata": {
        "id": "Ci3pmZUg8XV2",
        "scrolled": true
      },
      "outputs": [
        {
          "name": "stdout",
          "output_type": "stream",
          "text": [
            "                                student_id  Score     Submission_Time\n",
            "2     D0F62040-CEB0-904C-F563-2F8620916C4E   85.5 2016-01-09 05:36:02\n",
            "3     FFDF2B2C-F514-EF7F-6538-A6A53518E9DC   86.0 2016-04-30 06:50:40\n",
            "6     3217BE3F-E4B0-C3B6-9F64-462456819CE4   87.5 2016-03-05 11:05:25\n",
            "7     F1CB5AA1-B3DE-5460-FAFF-BE951FD38B5F   80.6 2016-01-24 18:24:26\n",
            "9     E2C617C2-4654-622C-AB50-1550C4BE42A0   59.3 2016-03-06 12:06:26\n",
            "...                                    ...    ...                 ...\n",
            "2303  DDE0526B-7DA4-80E8-C2A6-D097F3826029   97.2 2016-01-23 09:19:40\n",
            "2306  DDE0526B-7DA4-80E8-C2A6-D097F3826029   47.7 2016-06-22 20:21:58\n",
            "2307  1F51E050-78F7-F270-1B90-ED1BC0376763   94.6 2016-01-20 23:22:17\n",
            "2310  DE88902E-C7A7-E37A-CFA7-F2C8F2D219F2   77.7 2016-03-07 02:52:24\n",
            "2313  1F51E050-78F7-F270-1B90-ED1BC0376763   87.3 2016-04-03 09:04:52\n",
            "\n",
            "[1059 rows x 3 columns]\n"
          ]
        }
      ],
      "source": [
        "# Your Code Here\n",
        "after_deadline = grades[\"Submission_Time\"] > deadline\n",
        "filtered_grades = grades[after_deadline]\n",
        "print(filtered_grades)"
      ]
    },
    {
      "cell_type": "markdown",
      "id": "axycPPgh8XV2",
      "metadata": {
        "id": "axycPPgh8XV2"
      },
      "source": [
        "<br>\n",
        "\n",
        "Now let's find the best performing and the worst performing student (of the ones that submitted their work on time).\n",
        "\n",
        "<font color=blue>**Exercise** Find the minimum and the maximum Score.</font>"
      ]
    },
    {
      "cell_type": "code",
      "execution_count": 80,
      "id": "si-nfUEB8XV2",
      "metadata": {
        "id": "si-nfUEB8XV2"
      },
      "outputs": [
        {
          "name": "stdout",
          "output_type": "stream",
          "text": [
            "Best score (on time):\n",
            "100.0\n",
            "\n",
            "Worst Score (on time):\n",
            "15.0\n"
          ]
        }
      ],
      "source": [
        "# Your Code Here\n",
        "on_time = grades[\"Submission_Time\"] <= deadline\n",
        "on_time_grades = grades[on_time]\n",
        "best_student = on_time_grades.loc[on_time_grades[\"Score\"].idxmax()]\n",
        "worst_student = on_time_grades.loc[on_time_grades[\"Score\"].idxmin()]\n",
        "\n",
        "print(\"Best score (on time):\")\n",
        "print(best_student[\"Score\"])\n",
        "print(\"\\nWorst Score (on time):\")\n",
        "print(worst_student[\"Score\"])"
      ]
    },
    {
      "cell_type": "markdown",
      "id": "tES2o_Vx8XV3",
      "metadata": {
        "id": "tES2o_Vx8XV3"
      },
      "source": [
        "<br>\n",
        "\n",
        "<font color=blue>**Exercise** Retrieve the students with the lowest and highest scores</font>"
      ]
    },
    {
      "cell_type": "code",
      "execution_count": 81,
      "id": "vzzr-7VI8XV3",
      "metadata": {
        "colab": {
          "base_uri": "https://localhost:8080/",
          "height": 394
        },
        "id": "vzzr-7VI8XV3",
        "outputId": "ec5df579-d00f-4816-9426-eb803096b288"
      },
      "outputs": [
        {
          "name": "stdout",
          "output_type": "stream",
          "text": [
            "Best performing student:\n",
            "student_id         247B105C-2067-A7AA-2CBE-B65278128C96\n",
            "Score                                             100.0\n",
            "Submission_Time                     2015-10-29 21:27:45\n",
            "Name: 469, dtype: object\n",
            "\n",
            "Worst performing student:\n",
            "student_id         24827B50-2FC2-E4B0-E2A0-1989E17749B3\n",
            "Score                                              15.0\n",
            "Submission_Time                     2015-11-17 01:16:08\n",
            "Name: 15, dtype: object\n"
          ]
        }
      ],
      "source": [
        "# Your Code Here\n",
        "on_time = grades[\"Submission_Time\"] <= deadline\n",
        "on_time_grades = grades[on_time]\n",
        "best_student = on_time_grades.loc[on_time_grades[\"Score\"].idxmax()]\n",
        "worst_student = on_time_grades.loc[on_time_grades[\"Score\"].idxmin()]\n",
        "\n",
        "print(\"Best performing student:\")\n",
        "print(best_student)\n",
        "print(\"\\nWorst performing student:\")\n",
        "print(worst_student)"
      ]
    },
    {
      "cell_type": "markdown",
      "id": "Zuq_3DIM8XV3",
      "metadata": {
        "id": "Zuq_3DIM8XV3"
      },
      "source": [
        "<br>\n",
        "\n",
        "<font color=blue>**Exercise** Find the average the median and the quantile values for the class scores.</font>\n",
        "\n",
        "> *Hint: use `describe()`*"
      ]
    },
    {
      "cell_type": "code",
      "execution_count": 94,
      "id": "7oi_6PJx8XV3",
      "metadata": {
        "colab": {
          "base_uri": "https://localhost:8080/",
          "height": 178
        },
        "id": "7oi_6PJx8XV3",
        "outputId": "9dd30e0a-f4c5-4087-f136-a38dc2ee37fc"
      },
      "outputs": [
        {
          "name": "stdout",
          "output_type": "stream",
          "text": [
            "Summary:\n",
            "\n",
            "Mean Score: 74.53490280777537\n",
            "Median Score: 77.2\n",
            "Q1 (25% quantile): 63.650000000000006\n",
            "Q2 (50% quantile): 77.2\n",
            "Q3 (75% quantile): 87.5\n"
          ]
        }
      ],
      "source": [
        "# Your Code Here\n",
        "summary = grades[\"Score\"].describe()\n",
        "\n",
        "mean_score = summary[\"mean\"]\n",
        "median_score = summary[\"50%\"]\n",
        "q1 = summary[\"25%\"]\n",
        "q2 = summary[\"50%\"]\n",
        "q3 = summary[\"75%\"]\n",
        "\n",
        "print(\"Summary:\")\n",
        "print(\"\\nMean Score:\", mean_score)\n",
        "print(\"Median Score:\", median_score)\n",
        "print(\"Q1 (25% quantile):\", q1)\n",
        "print(\"Q2 (50% quantile):\", q2)\n",
        "print(\"Q3 (75% quantile):\", q3)\n"
      ]
    },
    {
      "cell_type": "markdown",
      "id": "RzkkPKB18XV3",
      "metadata": {
        "id": "RzkkPKB18XV3"
      },
      "source": [
        "<br>\n",
        "\n",
        "<font color=blue>**Exercise** Plot the histogram of scores of all students.</font>"
      ]
    },
    {
      "cell_type": "code",
      "execution_count": 105,
      "id": "CWxAwjcg8XV4",
      "metadata": {
        "id": "CWxAwjcg8XV4",
        "outputId": "a1967307-8551-4247-f7f5-05180c5da7e8"
      },
      "outputs": [
        {
          "data": {
            "image/png": "[encoded data removed]",
            "text/plain": [
              "<Figure size 800x500 with 1 Axes>"
            ]
          },
          "metadata": {},
          "output_type": "display_data"
        }
      ],
      "source": [
        "# Your Code Here\n",
        "import matplotlib.pyplot as plt\n",
        "\n",
        "plt.figure(figsize=(8, 5))\n",
        "plt.hist(grades[\"Score\"], bins=8, edgecolor=\"black\", alpha=0.85, color=\"royalblue\")\n",
        "\n",
        "plt.xlabel(\"Score\")\n",
        "plt.ylabel(\"Number of Students\")\n",
        "plt.title(\"Distribution of Student Scores\")\n",
        "plt.grid(axis=\"y\", linestyle=\"-\", alpha=0.3)\n",
        "\n",
        "plt.show()"
      ]
    },
    {
      "cell_type": "code",
      "execution_count": null,
      "id": "LgYL_UvP8XV4",
      "metadata": {
        "id": "LgYL_UvP8XV4"
      },
      "outputs": [],
      "source": []
    }
  ],
  "metadata": {
    "colab": {
      "provenance": []
    },
    "kernelspec": {
      "display_name": "Python 3",
      "language": "python",
      "name": "python3"
    },
    "language_info": {
      "codemirror_mode": {
        "name": "ipython",
        "version": 3
      },
      "file_extension": ".py",
      "mimetype": "text/x-python",
      "name": "python",
      "nbconvert_exporter": "python",
      "pygments_lexer": "ipython3",
      "version": "3.12.2"
    }
  },
  "nbformat": 4,
  "nbformat_minor": 5
}
