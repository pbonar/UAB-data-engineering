{
  "cells": [
    {
      "cell_type": "markdown",
      "metadata": {
        "id": "IUAi0h--YyaY"
      },
      "source": [
        "# Problems - Information Retrieval and Recommender Systems"
      ]
    },
    {
      "cell_type": "markdown",
      "metadata": {
        "id": "mKHyiFgfYyaa"
      },
      "source": [
        "##  Information Retrieval - an online shop"
      ]
    },
    {
      "cell_type": "markdown",
      "metadata": {
        "id": "QLV6wCovYyab"
      },
      "source": [
        "Your online shop, sells 80 different products. You recently contracted a company to implement a \"search\" functionality for your shop. The company has just delivered their new retrieval system, and you are now testing it out.\n",
        "\n",
        "You try the system, with a specific query, and the system displays the 10 products with the following IDs on the first page:"
      ]
    },
    {
      "cell_type": "code",
      "execution_count": 65,
      "metadata": {
        "id": "e1jNVMa7Yyac"
      },
      "outputs": [],
      "source": [
        "import numpy as np\n",
        "\n",
        "result = np.array([ 2, 20, 36, 41, 44,  6, 71, 79, 78,  9])"
      ]
    },
    {
      "cell_type": "markdown",
      "metadata": {
        "id": "ovKpLIAtYyad"
      },
      "source": [
        "You know that for the query you tried out, the relevant products are the ones with ids:"
      ]
    },
    {
      "cell_type": "code",
      "execution_count": 66,
      "metadata": {
        "id": "DRf_xA2iYyad",
        "outputId": "d89f749e-7571-4c54-8b0f-ccff13b45881"
      },
      "outputs": [
        {
          "name": "stdout",
          "output_type": "stream",
          "text": [
            "17\n"
          ]
        }
      ],
      "source": [
        "relevant_idx = np.array([ 2,  3,  5,  9, 14, 20, 36, 38, 39, 44, 48, 54, 58, 71, 75, 77, 78])\n",
        "print(len(relevant_idx))"
      ]
    },
    {
      "cell_type": "markdown",
      "metadata": {
        "id": "zKq40Vm9Yyae"
      },
      "source": [
        "<font color=blue> How many relevant items did the system return? </font>"
      ]
    },
    {
      "cell_type": "code",
      "execution_count": 67,
      "metadata": {
        "id": "pXt6OLPvYyaf",
        "outputId": "c7141ea5-220d-4321-d1e7-ad30030f83b7"
      },
      "outputs": [
        {
          "name": "stdout",
          "output_type": "stream",
          "text": [
            "The number of relevant items is: 7\n"
          ]
        }
      ],
      "source": [
        "# YOUR CODE HERE\n",
        "relevant_returned = np.intersect1d(result, relevant_idx)\n",
        "print(f\"The number of relevant items is: {len(relevant_returned)}\")"
      ]
    },
    {
      "cell_type": "markdown",
      "metadata": {
        "id": "_fAgsnXwYyag"
      },
      "source": [
        "</br>\n",
        "\n",
        "<font color=blue> What is the Precision, Recall and F1-score values for the above query? </font>\n",
        "\n",
        "Remember:\n",
        "\n",
        "$P = \\frac{\\lvert ret \\cap rel \\rvert}{ret}$\n",
        "\n",
        "$R = \\frac{\\lvert ret \\cap rel \\rvert}{rel}$\n",
        "\n",
        "$F = \\frac{2 P R}{P + R}$"
      ]
    },
    {
      "cell_type": "code",
      "execution_count": 68,
      "metadata": {
        "id": "6Z3ZxZLDYyag",
        "outputId": "ee2c3cd6-aa1b-4740-b0f9-78472ad35e9b"
      },
      "outputs": [
        {
          "name": "stdout",
          "output_type": "stream",
          "text": [
            "Precision: 0.7\n",
            "Recall: 0.4117647058823529\n",
            "F1-score: 0.5185185185185185\n"
          ]
        }
      ],
      "source": [
        "precision = len(relevant_returned) / len(result)\n",
        "\n",
        "recall = len(relevant_returned) / len(relevant_idx)\n",
        "\n",
        "if precision + recall > 0:\n",
        "    f1_score = 2 * (precision * recall) / (precision + recall)\n",
        "else:\n",
        "    f1_score = 0\n",
        "\n",
        "print(f\"Precision: {precision}\")\n",
        "print(f\"Recall: {recall}\")\n",
        "print(f\"F1-score: {f1_score}\")"
      ]
    },
    {
      "cell_type": "markdown",
      "metadata": {
        "id": "3nsveW-NYyah"
      },
      "source": [
        "The retrieval system only displays the ten best products on the first page, but internally it has scored all the products in the database against the query. For the same query as before, the scores for all 80 products that the system has calculated are given in the list below. The higher the number, the better it matches the query."
      ]
    },
    {
      "cell_type": "code",
      "execution_count": 69,
      "metadata": {
        "id": "VJAKsWaHYyah"
      },
      "outputs": [],
      "source": [
        "scores = np.array([76.25960904, 37.2712716 , 97.43522538, 85.2135435 , 38.42166524,\n",
        "       59.33358171, 90.84382517, 34.59173848, 53.24126568, 87.80759099,\n",
        "       71.13477237, 52.24501123, 53.84857359, 72.34145019, 82.60724712,\n",
        "       60.13854056, 50.02218001, 67.69020948, 49.20740763, 48.19740307,\n",
        "       97.26734714, 33.43817817, 46.61489   , 45.70630798, 12.03883746,\n",
        "       43.71217679, 66.03930779, 76.31438734, 10.98192963, 29.80459484,\n",
        "       14.7397168 , 21.48280983, 39.81730095, 28.18530124, 36.35538331,\n",
        "       55.10834932, 95.5515258 , 13.10765296, 86.70784949, 81.82826684,\n",
        "       55.79913761, 94.58702549, 79.3577133 , 72.84811652, 92.9954021 ,\n",
        "       78.36304059, 62.00806942, 16.43752292, 83.44531762, 82.46218716,\n",
        "       10.26819206, 64.56747866, 61.1888231 , 11.73771   , 36.15240615,\n",
        "       63.08775437, 18.5772151 , 15.75830887, 40.75549881, 68.84171716,\n",
        "       16.72596633, 57.49016213, 51.46845883, 23.56191592, 43.31518323,\n",
        "       74.93840142, 25.68485212, 26.20211702, 27.50582533, 63.53842237,\n",
        "       28.30218436, 89.65913426, 31.90662515, 41.68472171, 69.13468994,\n",
        "       36.35852244, 19.61632789, 79.82716108, 88.39815675, 88.55666924])"
      ]
    },
    {
      "cell_type": "markdown",
      "metadata": {
        "id": "gQWqbTU0Yyai"
      },
      "source": [
        "</br>\n",
        "\n",
        "<font color=blue> Can you calculate the Precision and Recall if you displayed 20 or 40 products on the first page? </font>\n",
        "\n",
        "> Note 1: This is what we would call P@20, R@20, P@40, R@40.\n",
        "\n",
        "> Note 2: Have a look at the Numpy function `argsort()` to solve this problem  ( https://numpy.org/doc/1.18/reference/generated/numpy.argsort.html )."
      ]
    },
    {
      "cell_type": "code",
      "execution_count": 70,
      "metadata": {},
      "outputs": [
        {
          "name": "stdout",
          "output_type": "stream",
          "text": [
            "P@20: 0.65, R@20: 0.7647058823529411, F1@20: 0.7027027027027027\n",
            "P@40: 0.35, R@40: 0.8235294117647058, F1@40: 0.4912280701754386\n"
          ]
        }
      ],
      "source": [
        "precision_20 = len(relevant_top_20) / len(top_20)\n",
        "recall_20 = len(relevant_top_20) / len(relevant_idx)\n",
        "if precision_20 + recall_20 > 0:\n",
        "    f1_score_20 = 2 * (precision_20 * recall_20) / (precision_20 + recall_20)\n",
        "else:\n",
        "    f1_score_20 = 0\n",
        "\n",
        "precision_40 = len(relevant_top_40) / len(top_40)\n",
        "recall_40 = len(relevant_top_40) / len(relevant_idx)\n",
        "if precision_40 + recall_40 > 0:\n",
        "    f1_score_40 = 2 * (precision_40 * recall_40) / (precision_40 + recall_40)\n",
        "else:\n",
        "    f1_score_40 = 0\n",
        "\n",
        "print(f\"P@20: {precision_20}, R@20: {recall_20}, F1@20: {f1_score_20}\")\n",
        "print(f\"P@40: {precision_40}, R@40: {recall_40}, F1@40: {f1_score_40}\")\n"
      ]
    },
    {
      "cell_type": "markdown",
      "metadata": {
        "id": "aeX0VnvvYyaj"
      },
      "source": [
        "</br>\n",
        "\n",
        "<font color=blue> In order to get an overall idea about how good the retrieval is, draw the Precision/Recall plot </font>"
      ]
    },
    {
      "cell_type": "code",
      "execution_count": 71,
      "metadata": {
        "id": "Rp5qovb3Yyaj",
        "outputId": "fdef571b-d579-43f9-ae13-0e66503e1961"
      },
      "outputs": [
        {
          "data": {
            "image/png": "[encoded data removed]",
            "text/plain": [
              "<Figure size 640x480 with 1 Axes>"
            ]
          },
          "metadata": {},
          "output_type": "display_data"
        }
      ],
      "source": [
        "from sklearn.metrics import precision_recall_curve\n",
        "\n",
        "y_true = np.zeros_like(scores)\n",
        "y_true[relevant_idx] = 1\n",
        "\n",
        "precision_vals, recall_vals, _ = precision_recall_curve(y_true, scores)\n",
        "\n",
        "plt.plot(recall_vals, precision_vals, color='blue')\n",
        "plt.xlabel('Recall')\n",
        "plt.ylabel('Precision')\n",
        "plt.title('Interpolated Precision-Recall Curve')\n",
        "plt.grid(True)\n",
        "plt.show()\n"
      ]
    },
    {
      "cell_type": "markdown",
      "metadata": {
        "id": "osDi81KJYyak"
      },
      "source": [
        "</br>\n",
        "\n",
        "<font color=blue> Now calculate the Average Precision value. </font>\n",
        "\n",
        "<i> Remember: </i>\n",
        "\n",
        "$AP = \\displaystyle\\sum_{k=1}^{N} P(k) \\Delta R(k)$\n",
        "\n",
        "or\n",
        "\n",
        "$AP = \\displaystyle \\frac{\\sum_{k=1}^{N} P(k) rel(k)}{|rel|}$"
      ]
    },
    {
      "cell_type": "code",
      "execution_count": 72,
      "metadata": {},
      "outputs": [
        {
          "name": "stdout",
          "output_type": "stream",
          "text": [
            "Average Precision (AP): 0.6872967180508048\n"
          ]
        }
      ],
      "source": [
        "ap_sum = 0\n",
        "relevant_so_far = 0\n",
        "\n",
        "for k, idx in enumerate(sorted_indices, start=1):\n",
        "    if idx in relevant_idx:\n",
        "        relevant_so_far += 1\n",
        "        precision_at_k = relevant_so_far / k\n",
        "        ap_sum += precision_at_k\n",
        "\n",
        "average_precision = ap_sum / len(relevant_idx)\n",
        "print(f\"Average Precision (AP): {average_precision}\")"
      ]
    },
    {
      "cell_type": "markdown",
      "metadata": {
        "id": "r1E1MPX5Yyak"
      },
      "source": [
        "## Recommender Systems"
      ]
    },
    {
      "cell_type": "markdown",
      "metadata": {
        "id": "QTZocvrxYyal"
      },
      "source": [
        "You are working on a movie recommendation system, and you have been given the following ratings table.\n",
        "\n",
        "Each row corresponds to a user, and each column to a movie. Ratings are between 1 and 5 stars, while a rating equal to `None` (NaN) means that the user has not rated that particular movie."
      ]
    },
    {
      "cell_type": "code",
      "execution_count": 73,
      "metadata": {
        "id": "UxEz2cAcYyal"
      },
      "outputs": [],
      "source": [
        "import pandas as pd"
      ]
    },
    {
      "cell_type": "code",
      "execution_count": 74,
      "metadata": {
        "id": "AF1chc9mYyal",
        "outputId": "c6b0d8a8-3934-4917-fafb-cd01383a375a"
      },
      "outputs": [
        {
          "data": {
            "text/html": [
              "<div>\n",
              "<style scoped>\n",
              "    .dataframe tbody tr th:only-of-type {\n",
              "        vertical-align: middle;\n",
              "    }\n",
              "\n",
              "    .dataframe tbody tr th {\n",
              "        vertical-align: top;\n",
              "    }\n",
              "\n",
              "    .dataframe thead th {\n",
              "        text-align: right;\n",
              "    }\n",
              "</style>\n",
              "<table border=\"1\" class=\"dataframe\">\n",
              "  <thead>\n",
              "    <tr style=\"text-align: right;\">\n",
              "      <th></th>\n",
              "      <th>Movie 0</th>\n",
              "      <th>Movie 1</th>\n",
              "      <th>Movie 2</th>\n",
              "      <th>Movie 3</th>\n",
              "      <th>Movie 4</th>\n",
              "      <th>Movie 5</th>\n",
              "      <th>Movie 6</th>\n",
              "      <th>Movie 7</th>\n",
              "      <th>Movie 8</th>\n",
              "      <th>Movie 9</th>\n",
              "      <th>Movie 10</th>\n",
              "      <th>Movie 11</th>\n",
              "      <th>Movie 12</th>\n",
              "      <th>Movie 13</th>\n",
              "      <th>Movie 14</th>\n",
              "    </tr>\n",
              "  </thead>\n",
              "  <tbody>\n",
              "    <tr>\n",
              "      <th>User 0</th>\n",
              "      <td>4.0</td>\n",
              "      <td>1.0</td>\n",
              "      <td>5</td>\n",
              "      <td>2.0</td>\n",
              "      <td>4.0</td>\n",
              "      <td>5</td>\n",
              "      <td>NaN</td>\n",
              "      <td>1.0</td>\n",
              "      <td>3.0</td>\n",
              "      <td>1.0</td>\n",
              "      <td>5.0</td>\n",
              "      <td>1.0</td>\n",
              "      <td>5.0</td>\n",
              "      <td>NaN</td>\n",
              "      <td>NaN</td>\n",
              "    </tr>\n",
              "    <tr>\n",
              "      <th>User 1</th>\n",
              "      <td>5.0</td>\n",
              "      <td>1.0</td>\n",
              "      <td>3</td>\n",
              "      <td>5.0</td>\n",
              "      <td>1.0</td>\n",
              "      <td>2</td>\n",
              "      <td>4.0</td>\n",
              "      <td>3.0</td>\n",
              "      <td>NaN</td>\n",
              "      <td>NaN</td>\n",
              "      <td>5.0</td>\n",
              "      <td>1.0</td>\n",
              "      <td>4.0</td>\n",
              "      <td>1.0</td>\n",
              "      <td>NaN</td>\n",
              "    </tr>\n",
              "    <tr>\n",
              "      <th>User 2</th>\n",
              "      <td>1.0</td>\n",
              "      <td>NaN</td>\n",
              "      <td>1</td>\n",
              "      <td>NaN</td>\n",
              "      <td>5.0</td>\n",
              "      <td>1</td>\n",
              "      <td>5.0</td>\n",
              "      <td>4.0</td>\n",
              "      <td>2.0</td>\n",
              "      <td>1.0</td>\n",
              "      <td>1.0</td>\n",
              "      <td>NaN</td>\n",
              "      <td>4.0</td>\n",
              "      <td>1.0</td>\n",
              "      <td>2.0</td>\n",
              "    </tr>\n",
              "    <tr>\n",
              "      <th>User 3</th>\n",
              "      <td>NaN</td>\n",
              "      <td>1.0</td>\n",
              "      <td>3</td>\n",
              "      <td>1.0</td>\n",
              "      <td>NaN</td>\n",
              "      <td>1</td>\n",
              "      <td>3.0</td>\n",
              "      <td>4.0</td>\n",
              "      <td>4.0</td>\n",
              "      <td>NaN</td>\n",
              "      <td>5.0</td>\n",
              "      <td>3.0</td>\n",
              "      <td>2.0</td>\n",
              "      <td>NaN</td>\n",
              "      <td>4.0</td>\n",
              "    </tr>\n",
              "    <tr>\n",
              "      <th>User 4</th>\n",
              "      <td>3.0</td>\n",
              "      <td>3.0</td>\n",
              "      <td>4</td>\n",
              "      <td>2.0</td>\n",
              "      <td>NaN</td>\n",
              "      <td>2</td>\n",
              "      <td>4.0</td>\n",
              "      <td>1.0</td>\n",
              "      <td>4.0</td>\n",
              "      <td>NaN</td>\n",
              "      <td>NaN</td>\n",
              "      <td>3.0</td>\n",
              "      <td>NaN</td>\n",
              "      <td>NaN</td>\n",
              "      <td>NaN</td>\n",
              "    </tr>\n",
              "    <tr>\n",
              "      <th>User 5</th>\n",
              "      <td>4.0</td>\n",
              "      <td>NaN</td>\n",
              "      <td>1</td>\n",
              "      <td>2.0</td>\n",
              "      <td>2.0</td>\n",
              "      <td>4</td>\n",
              "      <td>2.0</td>\n",
              "      <td>1.0</td>\n",
              "      <td>2.0</td>\n",
              "      <td>1.0</td>\n",
              "      <td>5.0</td>\n",
              "      <td>3.0</td>\n",
              "      <td>5.0</td>\n",
              "      <td>3.0</td>\n",
              "      <td>4.0</td>\n",
              "    </tr>\n",
              "    <tr>\n",
              "      <th>User 6</th>\n",
              "      <td>2.0</td>\n",
              "      <td>4.0</td>\n",
              "      <td>3</td>\n",
              "      <td>2.0</td>\n",
              "      <td>1.0</td>\n",
              "      <td>2</td>\n",
              "      <td>NaN</td>\n",
              "      <td>NaN</td>\n",
              "      <td>3.0</td>\n",
              "      <td>NaN</td>\n",
              "      <td>5.0</td>\n",
              "      <td>5.0</td>\n",
              "      <td>NaN</td>\n",
              "      <td>NaN</td>\n",
              "      <td>NaN</td>\n",
              "    </tr>\n",
              "    <tr>\n",
              "      <th>User 7</th>\n",
              "      <td>5.0</td>\n",
              "      <td>5.0</td>\n",
              "      <td>5</td>\n",
              "      <td>4.0</td>\n",
              "      <td>4.0</td>\n",
              "      <td>4</td>\n",
              "      <td>2.0</td>\n",
              "      <td>1.0</td>\n",
              "      <td>NaN</td>\n",
              "      <td>1.0</td>\n",
              "      <td>4.0</td>\n",
              "      <td>3.0</td>\n",
              "      <td>5.0</td>\n",
              "      <td>3.0</td>\n",
              "      <td>3.0</td>\n",
              "    </tr>\n",
              "    <tr>\n",
              "      <th>User 8</th>\n",
              "      <td>5.0</td>\n",
              "      <td>1.0</td>\n",
              "      <td>3</td>\n",
              "      <td>NaN</td>\n",
              "      <td>1.0</td>\n",
              "      <td>4</td>\n",
              "      <td>5.0</td>\n",
              "      <td>4.0</td>\n",
              "      <td>NaN</td>\n",
              "      <td>4.0</td>\n",
              "      <td>5.0</td>\n",
              "      <td>NaN</td>\n",
              "      <td>1.0</td>\n",
              "      <td>NaN</td>\n",
              "      <td>NaN</td>\n",
              "    </tr>\n",
              "    <tr>\n",
              "      <th>User 9</th>\n",
              "      <td>2.0</td>\n",
              "      <td>3.0</td>\n",
              "      <td>1</td>\n",
              "      <td>5.0</td>\n",
              "      <td>3.0</td>\n",
              "      <td>1</td>\n",
              "      <td>4.0</td>\n",
              "      <td>1.0</td>\n",
              "      <td>1.0</td>\n",
              "      <td>2.0</td>\n",
              "      <td>5.0</td>\n",
              "      <td>NaN</td>\n",
              "      <td>4.0</td>\n",
              "      <td>NaN</td>\n",
              "      <td>5.0</td>\n",
              "    </tr>\n",
              "  </tbody>\n",
              "</table>\n",
              "</div>"
            ],
            "text/plain": [
              "        Movie 0  Movie 1  Movie 2  Movie 3  Movie 4  Movie 5  Movie 6  \\\n",
              "User 0      4.0      1.0        5      2.0      4.0        5      NaN   \n",
              "User 1      5.0      1.0        3      5.0      1.0        2      4.0   \n",
              "User 2      1.0      NaN        1      NaN      5.0        1      5.0   \n",
              "User 3      NaN      1.0        3      1.0      NaN        1      3.0   \n",
              "User 4      3.0      3.0        4      2.0      NaN        2      4.0   \n",
              "User 5      4.0      NaN        1      2.0      2.0        4      2.0   \n",
              "User 6      2.0      4.0        3      2.0      1.0        2      NaN   \n",
              "User 7      5.0      5.0        5      4.0      4.0        4      2.0   \n",
              "User 8      5.0      1.0        3      NaN      1.0        4      5.0   \n",
              "User 9      2.0      3.0        1      5.0      3.0        1      4.0   \n",
              "\n",
              "        Movie 7  Movie 8  Movie 9  Movie 10  Movie 11  Movie 12  Movie 13  \\\n",
              "User 0      1.0      3.0      1.0       5.0       1.0       5.0       NaN   \n",
              "User 1      3.0      NaN      NaN       5.0       1.0       4.0       1.0   \n",
              "User 2      4.0      2.0      1.0       1.0       NaN       4.0       1.0   \n",
              "User 3      4.0      4.0      NaN       5.0       3.0       2.0       NaN   \n",
              "User 4      1.0      4.0      NaN       NaN       3.0       NaN       NaN   \n",
              "User 5      1.0      2.0      1.0       5.0       3.0       5.0       3.0   \n",
              "User 6      NaN      3.0      NaN       5.0       5.0       NaN       NaN   \n",
              "User 7      1.0      NaN      1.0       4.0       3.0       5.0       3.0   \n",
              "User 8      4.0      NaN      4.0       5.0       NaN       1.0       NaN   \n",
              "User 9      1.0      1.0      2.0       5.0       NaN       4.0       NaN   \n",
              "\n",
              "        Movie 14  \n",
              "User 0       NaN  \n",
              "User 1       NaN  \n",
              "User 2       2.0  \n",
              "User 3       4.0  \n",
              "User 4       NaN  \n",
              "User 5       4.0  \n",
              "User 6       NaN  \n",
              "User 7       3.0  \n",
              "User 8       NaN  \n",
              "User 9       5.0  "
            ]
          },
          "execution_count": 74,
          "metadata": {},
          "output_type": "execute_result"
        }
      ],
      "source": [
        "ratings = pd.read_csv(\"ratings.csv\", index_col = 0)\n",
        "ratings"
      ]
    },
    {
      "cell_type": "markdown",
      "metadata": {
        "id": "ydJoZZzkYyal"
      },
      "source": [
        "In addition, you are given the following ratings that another user has made for the same movies."
      ]
    },
    {
      "cell_type": "code",
      "execution_count": 75,
      "metadata": {
        "id": "315D2-YtYyam",
        "outputId": "67596d5d-1feb-43bc-c7b7-dfb400a48f86"
      },
      "outputs": [
        {
          "data": {
            "text/plain": [
              "Movie 0     1.0\n",
              "Movie 1     NaN\n",
              "Movie 2     NaN\n",
              "Movie 3     2.0\n",
              "Movie 4     4.0\n",
              "Movie 5     NaN\n",
              "Movie 6     1.0\n",
              "Movie 7     4.0\n",
              "Movie 8     NaN\n",
              "Movie 9     NaN\n",
              "Movie 10    NaN\n",
              "Movie 11    NaN\n",
              "Movie 12    NaN\n",
              "Movie 13    3.0\n",
              "Movie 14    5.0\n",
              "Name: 0, dtype: float64"
            ]
          },
          "execution_count": 75,
          "metadata": {},
          "output_type": "execute_result"
        }
      ],
      "source": [
        "target = pd.read_csv(\"target.csv\", header = 0, index_col=0)\n",
        "target = target.squeeze()\n",
        "target"
      ]
    },
    {
      "cell_type": "markdown",
      "metadata": {
        "id": "YxqMbIPaYyam"
      },
      "source": [
        "You are asked to predict the ratings for the movies that the target user has not seen yet, that is for the movies that have a rating of zero in the target user array."
      ]
    },
    {
      "cell_type": "markdown",
      "metadata": {
        "id": "BGkkcZqRYyam"
      },
      "source": [
        "First, we will calculate the similarity between the target user and each of the users in our ratings table. We will then use the 3 most similar users to derive recommendations.\n",
        "\n",
        "To calculate similarity between users, we will use the Pearson correlation formula:\n",
        "\n",
        "$sim(a, b) = \\frac{\\sum_{p \\in P} (r_{a,p}-\\hat{r_a}) (r_{b,p}-\\hat{r_b}) }{\\sqrt{\\sum_{p \\in P} (r_{a,p}-\\hat{r_a})^2} \\sqrt{\\sum_{p \\in P} (r_{b,p}-\\hat{r_b})^2} }$\n",
        "\n",
        "where a and b are users, and P is the set of the items for which BOTH users have provided ratings.\n",
        "\n",
        "Luckily, pandas has a function for calculating correlation: `DataFrame.corrwith()`. This will calculate the correlation between the target series and every row of the ratings dataframe if we specify that `axis = 1` (row-wise).\n",
        "\n",
        "> See the docs: https://pandas.pydata.org/pandas-docs/stable/reference/api/pandas.DataFrame.corrwith.html?highlight=corrwith#pandas.DataFrame.corrwith"
      ]
    },
    {
      "cell_type": "code",
      "execution_count": 76,
      "metadata": {
        "id": "4sr2Q13zYyam",
        "outputId": "2f54c8b2-2bcd-4d04-e689-1b1e78cc14d9"
      },
      "outputs": [
        {
          "data": {
            "text/plain": [
              "User 0   -0.333333\n",
              "User 1   -0.751237\n",
              "User 2    0.062994\n",
              "User 3    0.645497\n",
              "User 4   -0.912871\n",
              "User 5   -0.040032\n",
              "User 6   -0.944911\n",
              "User 7   -0.303697\n",
              "User 8   -0.762493\n",
              "User 9    0.023702\n",
              "dtype: float64"
            ]
          },
          "execution_count": 76,
          "metadata": {},
          "output_type": "execute_result"
        }
      ],
      "source": [
        "similarity = ratings.corrwith(target, axis = 1, method = 'pearson') # This function calculates everything based on common items (e.g. mean of user is calculated based only on the common items with that other user we correlate with)\n",
        "similarity"
      ]
    },
    {
      "cell_type": "markdown",
      "metadata": {
        "id": "ynjEf3JhYyan"
      },
      "source": [
        "In order to predict accurate preferences, we should only take into account users that have a minimum number of items in common to our target user. This minimum is up to us to define (depends on your data and your application).\n",
        "\n",
        "First, we need to count count how many items each user has in common with our target user.\n",
        "\n",
        "We can calculate this using boolean logic. First we check for which items we have ratings (True) and for which no (False). Then we check for which items we have True in both the ratings data frame AND the target series. Then it is a matter of summing up how many True values we have in every row. This is summarised below, although it would be easier to understand if you do the calculations step by step and print out the result."
      ]
    },
    {
      "cell_type": "code",
      "execution_count": 77,
      "metadata": {
        "id": "PehIKOovYyan",
        "outputId": "5aa0af3a-1360-4d87-ad2b-45da6c0bf76e"
      },
      "outputs": [
        {
          "data": {
            "text/plain": [
              "User 0    4\n",
              "User 1    6\n",
              "User 2    6\n",
              "User 3    4\n",
              "User 4    4\n",
              "User 5    7\n",
              "User 6    3\n",
              "User 7    7\n",
              "User 8    4\n",
              "User 9    6\n",
              "dtype: int64"
            ]
          },
          "execution_count": 77,
          "metadata": {},
          "output_type": "execute_result"
        }
      ],
      "source": [
        "# Find how many items do they have in common\n",
        "\n",
        "commonItems = (~ratings.isna()) & (~target.isna())\n",
        "nCommon = commonItems.sum(axis = 1)\n",
        "nCommon"
      ]
    },
    {
      "cell_type": "markdown",
      "metadata": {
        "id": "MagHiLKpYyan"
      },
      "source": [
        "We can now get the indices of the users that have more than 3 items with the target. This should drop User 6 in this case who only has exactly 3 items in common with the target."
      ]
    },
    {
      "cell_type": "code",
      "execution_count": 78,
      "metadata": {
        "id": "Tbx1N3VYYyan",
        "outputId": "06da5780-3e39-4dcb-ca29-b05014493ea3"
      },
      "outputs": [
        {
          "name": "stdout",
          "output_type": "stream",
          "text": [
            "Index(['User 0', 'User 1', 'User 2', 'User 3', 'User 4', 'User 5', 'User 7',\n",
            "       'User 8', 'User 9'],\n",
            "      dtype='object')\n"
          ]
        },
        {
          "data": {
            "text/plain": [
              "User 0   -0.333333\n",
              "User 1   -0.751237\n",
              "User 2    0.062994\n",
              "User 3    0.645497\n",
              "User 4   -0.912871\n",
              "User 5   -0.040032\n",
              "User 7   -0.303697\n",
              "User 8   -0.762493\n",
              "User 9    0.023702\n",
              "dtype: float64"
            ]
          },
          "execution_count": 78,
          "metadata": {},
          "output_type": "execute_result"
        }
      ],
      "source": [
        "minItemsCommon = 3\n",
        "\n",
        "# Get the indices of users with whom we have more than minItemsCommon items in common with the query one\n",
        "idx = nCommon.index[nCommon > minItemsCommon]\n",
        "print (idx)\n",
        "\n",
        "#keep only the users that have more than minItemsCommon with the query\n",
        "similarity = similarity.loc[idx]\n",
        "similarity"
      ]
    },
    {
      "cell_type": "markdown",
      "metadata": {
        "id": "fwoCD4gRYyao"
      },
      "source": [
        "Now, let's find the 3 most similar users in the remaining ones. We can do that by sorting the similarities series (from smaller to larger) and keeping the last three entries. We can do this using the `sort_values()` function of pandas.\n",
        "\n",
        "> See the documentation here: https://pandas.pydata.org/pandas-docs/stable/reference/api/pandas.DataFrame.sort_values.html"
      ]
    },
    {
      "cell_type": "code",
      "execution_count": 79,
      "metadata": {
        "id": "KU3ahXyWYyao",
        "outputId": "52c5c2de-c42a-4aed-8f78-ab3cb445c08e"
      },
      "outputs": [
        {
          "data": {
            "text/plain": [
              "Index(['User 3', 'User 2', 'User 9'], dtype='object')"
            ]
          },
          "execution_count": 79,
          "metadata": {},
          "output_type": "execute_result"
        }
      ],
      "source": [
        "topN = 3\n",
        "\n",
        "similarity.sort_values(ascending = False, inplace = True)\n",
        "idx = similarity.index[:topN] # get the indices of the top N most similar users\n",
        "idx"
      ]
    },
    {
      "cell_type": "markdown",
      "metadata": {
        "id": "63XPOHisYyao"
      },
      "source": [
        "Now that we have the most similar users, we can use their ratings to derive ratings for the target user. To combine the ratings of the most similar users we will use the formula:\n",
        "\n",
        "$ pred(a, i) = \\hat{r_a} + \\frac{\\sum_{b \\in N} sim(a, b) (r_{b,i} - \\hat{r_b})}{\\sum_{b \\in N} sim(a,b)} $\n",
        "\n",
        "where a and i are the user and item for which we want to predict a rating, and N is the set of similar users we have identified.\n",
        "\n",
        "For example, if we wanted to derive the rating for the Movie 2 (`target[\"Movie 2\"]`), we would combine ratings in the following way:"
      ]
    },
    {
      "cell_type": "code",
      "execution_count": 80,
      "metadata": {
        "id": "0B6GoB2zYyao",
        "outputId": "46bc585b-896a-4f84-c7f0-6ce2d26a9877"
      },
      "outputs": [
        {
          "name": "stdout",
          "output_type": "stream",
          "text": [
            "\n",
            "user: User 3 Similarity:  0.6454972243679027\n",
            "Has seen the movie: Movie 2\n",
            "Gave it a rating of:  3.0\n",
            "Mean:  2.8181818181818183\n",
            "\n",
            "user: User 2 Similarity:  0.06299407883487121\n",
            "Has seen the movie: Movie 2\n",
            "Gave it a rating of:  1.0\n",
            "Mean:  2.3333333333333335\n",
            "\n",
            "user: User 9 Similarity:  0.02370227315699887\n",
            "Has seen the movie: Movie 2\n",
            "Gave it a rating of:  1.0\n",
            "Mean:  2.8461538461538463\n",
            "\n",
            "The predicted ratings of the target user are: \n",
            " Movie 0     1.000000\n",
            "Movie 1          NaN\n",
            "Movie 2     2.842957\n",
            "Movie 3     2.000000\n",
            "Movie 4     4.000000\n",
            "Movie 5          NaN\n",
            "Movie 6     1.000000\n",
            "Movie 7     4.000000\n",
            "Movie 8          NaN\n",
            "Movie 9          NaN\n",
            "Movie 10         NaN\n",
            "Movie 11         NaN\n",
            "Movie 12         NaN\n",
            "Movie 13    3.000000\n",
            "Movie 14    5.000000\n",
            "Name: 0, dtype: float64\n"
          ]
        }
      ],
      "source": [
        "m = \"Movie 2\" #The movie we are interested in predicting a rating for\n",
        "\n",
        "# initialise two variables in which we will hold the sums of the nominator and the demoninator of our formula\n",
        "sum_nom = sum_denom = 0 \n",
        "\n",
        "# Loop through the list of similar users\n",
        "for u in idx:\n",
        "    user_ratings = ratings.loc[u] # the row of ratings corresponding to user u\n",
        "    print(\"\\nuser:\", u, \"Similarity: \", similarity[u])\n",
        "\n",
        "    # Only use the users that have rated the movie we are interested in\n",
        "    if ~(user_ratings.isna()[m]): \n",
        "        print(\"Has seen the movie:\", m)        \n",
        "        print(\"Gave it a rating of: \", user_ratings[m])        \n",
        "        mu = user_ratings.mean() # Calculate the mean rating of the user, this is based only on movies that have a rating != NaN\n",
        "        print(\"Mean: \", mu)\n",
        "        sum_nom = sum_nom + similarity[u]*(user_ratings[m] - mu) # Nominator\n",
        "        sum_denom = sum_denom + similarity[u] # Denominator\n",
        "    else:\n",
        "        print(\"Has not seen the movie. Ignore.\")\n",
        "\n",
        "if sum_denom != 0: # Check if at least one of the similar users had rated the movie in question, otherwise our denominator would be equal to 0\n",
        "    target[m] = target.mean() + sum_nom / sum_denom\n",
        "    \n",
        "print(\"\\nThe predicted ratings of the target user are: \\n\", target)"
      ]
    },
    {
      "cell_type": "markdown",
      "metadata": {
        "id": "Kd7Uu2yvYyao"
      },
      "source": [
        "<font color=blue> Do the same for all the movies that the target user has not rated yet. </font>"
      ]
    },
    {
      "cell_type": "code",
      "execution_count": 81,
      "metadata": {
        "id": "gXAlD-JeYyap"
      },
      "outputs": [
        {
          "name": "stdout",
          "output_type": "stream",
          "text": [
            "\n",
            "The predicted ratings of the target user are: \n",
            " Movie 0     1.000000\n",
            "Movie 1     1.107035\n",
            "Movie 2     2.842957\n",
            "Movie 3     2.000000\n",
            "Movie 4     4.000000\n",
            "Movie 5     0.883737\n",
            "Movie 6     1.000000\n",
            "Movie 7     4.000000\n",
            "Movie 8     3.436815\n",
            "Movie 9     1.369908\n",
            "Movie 10    4.348525\n",
            "Movie 11    2.796355\n",
            "Movie 12    2.086963\n",
            "Movie 13    3.000000\n",
            "Movie 14    5.000000\n",
            "Name: 0, dtype: float64\n"
          ]
        }
      ],
      "source": [
        "# YOUR CODE HERE\n",
        "for m in target[target.isna()].index:\n",
        "    sum_nom = sum_denom = 0 \n",
        "\n",
        "    for u in idx:\n",
        "        user_ratings = ratings.loc[u]\n",
        "\n",
        "        if not user_ratings.isna()[m]:\n",
        "            mu = user_ratings.mean()  \n",
        "            sum_nom += similarity[u] * (user_ratings[m] - mu)\n",
        "            sum_denom += similarity[u] \n",
        "\n",
        "    if sum_denom != 0:\n",
        "        target[m] = target.mean() + sum_nom / sum_denom\n",
        "\n",
        "print(\"\\nThe predicted ratings of the target user are: \\n\", target)"
      ]
    }
  ],
  "metadata": {
    "colab": {
      "collapsed_sections": [],
      "name": "Problemas10.ipynb",
      "provenance": []
    },
    "kernelspec": {
      "display_name": "Python 3",
      "language": "python",
      "name": "python3"
    },
    "language_info": {
      "codemirror_mode": {
        "name": "ipython",
        "version": 3
      },
      "file_extension": ".py",
      "mimetype": "text/x-python",
      "name": "python",
      "nbconvert_exporter": "python",
      "pygments_lexer": "ipython3",
      "version": "3.12.2"
    }
  },
  "nbformat": 4,
  "nbformat_minor": 0
}
